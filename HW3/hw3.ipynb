{
 "cells": [
  {
   "cell_type": "markdown",
   "metadata": {
    "id": "YKQdb1gxb_gX"
   },
   "source": [
    "# Homework 3: Decision trees"
   ]
  },
  {
   "cell_type": "code",
   "execution_count": 16,
   "metadata": {
    "id": "gVgSpoKBb_gZ"
   },
   "outputs": [],
   "source": [
    "import matplotlib.pyplot as plt\n",
    "import numpy as np\n",
    "import pandas as pd\n",
    "\n",
    "plt.rcParams[\"font.size\"] = 16\n",
    "\n",
    "from sklearn.model_selection import cross_val_score, cross_validate, train_test_split\n",
    "from sklearn.tree import DecisionTreeClassifier"
   ]
  },
  {
   "cell_type": "markdown",
   "metadata": {
    "id": "uSzxaVX8b_gc"
   },
   "source": [
    "## Introducing the data set\n",
    " \n",
    "For this  assignment you'll be looking at Kaggle's [Spotify Song Attributes](https://www.kaggle.com/geomack/spotifyclassification/) dataset.\n",
    "The dataset contains a number of features of songs from 2017 and a binary variable `target` that represents whether the user liked the song (encoded as 1) or not (encoded as 0). See the documentation of all the features [here](https://developer.spotify.com/documentation/web-api/reference/tracks/get-audio-features/). \n",
    "\n",
    "This dataset is publicly available on Kaggle, and you will have to download it yourself. Follow the steps below to get the data CSV. \n",
    "\n",
    "1. If you do not have an account with [Kaggle](https://www.kaggle.com/), you will first need to create one (it's free).\n",
    "2. Login to your account and [download](https://www.kaggle.com/geomack/spotifyclassification/download) the dataset.\n",
    "3. Unzip the data file if needed, then rename it to `spotify.csv`, and move it to the same directory as this notebook."
   ]
  },
  {
   "cell_type": "markdown",
   "metadata": {
    "id": "LTE8pzbDb_gc"
   },
   "source": [
    "## Exercise 1: Exploratory data analysis\n",
    "\n",
    "rubric={points:30}"
   ]
  },
  {
   "cell_type": "markdown",
   "metadata": {
    "id": "gppc2AVUb_gd"
   },
   "source": [
    "#### 1(a) \n",
    "rubric={points:2}\n",
    "\n",
    "Read in the data CSV and store it as a pandas dataframe named `spotify_df`. \n",
    "\n",
    "Hints: \n",
    "1. There is a missing column name for the first one. Usually, `pandas` give a placehold name, e.g. `Unnamed: 0`.\n",
    "2. The first column `Unnamed: 0` of the .csv file should be dropped."
   ]
  },
  {
   "cell_type": "code",
   "execution_count": 17,
   "metadata": {
    "colab": {
     "base_uri": "https://localhost:8080/",
     "height": 731
    },
    "deletable": false,
    "id": "CRfKQk8Ob_gd",
    "nbgrader": {
     "cell_type": "code",
     "checksum": "8dc4b79dd1df63fe50e357d462d7b09c",
     "grade": true,
     "grade_id": "cell-6c7e53c3f36df9b8",
     "locked": false,
     "points": 2,
     "schema_version": 3,
     "solution": true,
     "task": false
    },
    "outputId": "eb74d1c8-4622-4ff3-ade0-4a10b1c34f7e"
   },
   "outputs": [
    {
     "data": {
      "text/html": [
       "<div>\n",
       "<style scoped>\n",
       "    .dataframe tbody tr th:only-of-type {\n",
       "        vertical-align: middle;\n",
       "    }\n",
       "\n",
       "    .dataframe tbody tr th {\n",
       "        vertical-align: top;\n",
       "    }\n",
       "\n",
       "    .dataframe thead th {\n",
       "        text-align: right;\n",
       "    }\n",
       "</style>\n",
       "<table border=\"1\" class=\"dataframe\">\n",
       "  <thead>\n",
       "    <tr style=\"text-align: right;\">\n",
       "      <th></th>\n",
       "      <th>acousticness</th>\n",
       "      <th>danceability</th>\n",
       "      <th>duration_ms</th>\n",
       "      <th>energy</th>\n",
       "      <th>instrumentalness</th>\n",
       "      <th>key</th>\n",
       "      <th>liveness</th>\n",
       "      <th>loudness</th>\n",
       "      <th>mode</th>\n",
       "      <th>speechiness</th>\n",
       "      <th>tempo</th>\n",
       "      <th>time_signature</th>\n",
       "      <th>valence</th>\n",
       "      <th>target</th>\n",
       "      <th>song_title</th>\n",
       "      <th>artist</th>\n",
       "    </tr>\n",
       "  </thead>\n",
       "  <tbody>\n",
       "    <tr>\n",
       "      <th>0</th>\n",
       "      <td>0.01020</td>\n",
       "      <td>0.833</td>\n",
       "      <td>204600</td>\n",
       "      <td>0.434</td>\n",
       "      <td>0.021900</td>\n",
       "      <td>2</td>\n",
       "      <td>0.1650</td>\n",
       "      <td>-8.795</td>\n",
       "      <td>1</td>\n",
       "      <td>0.4310</td>\n",
       "      <td>150.062</td>\n",
       "      <td>4.0</td>\n",
       "      <td>0.286</td>\n",
       "      <td>1</td>\n",
       "      <td>Mask Off</td>\n",
       "      <td>Future</td>\n",
       "    </tr>\n",
       "    <tr>\n",
       "      <th>1</th>\n",
       "      <td>0.19900</td>\n",
       "      <td>0.743</td>\n",
       "      <td>326933</td>\n",
       "      <td>0.359</td>\n",
       "      <td>0.006110</td>\n",
       "      <td>1</td>\n",
       "      <td>0.1370</td>\n",
       "      <td>-10.401</td>\n",
       "      <td>1</td>\n",
       "      <td>0.0794</td>\n",
       "      <td>160.083</td>\n",
       "      <td>4.0</td>\n",
       "      <td>0.588</td>\n",
       "      <td>1</td>\n",
       "      <td>Redbone</td>\n",
       "      <td>Childish Gambino</td>\n",
       "    </tr>\n",
       "    <tr>\n",
       "      <th>2</th>\n",
       "      <td>0.03440</td>\n",
       "      <td>0.838</td>\n",
       "      <td>185707</td>\n",
       "      <td>0.412</td>\n",
       "      <td>0.000234</td>\n",
       "      <td>2</td>\n",
       "      <td>0.1590</td>\n",
       "      <td>-7.148</td>\n",
       "      <td>1</td>\n",
       "      <td>0.2890</td>\n",
       "      <td>75.044</td>\n",
       "      <td>4.0</td>\n",
       "      <td>0.173</td>\n",
       "      <td>1</td>\n",
       "      <td>Xanny Family</td>\n",
       "      <td>Future</td>\n",
       "    </tr>\n",
       "    <tr>\n",
       "      <th>3</th>\n",
       "      <td>0.60400</td>\n",
       "      <td>0.494</td>\n",
       "      <td>199413</td>\n",
       "      <td>0.338</td>\n",
       "      <td>0.510000</td>\n",
       "      <td>5</td>\n",
       "      <td>0.0922</td>\n",
       "      <td>-15.236</td>\n",
       "      <td>1</td>\n",
       "      <td>0.0261</td>\n",
       "      <td>86.468</td>\n",
       "      <td>4.0</td>\n",
       "      <td>0.230</td>\n",
       "      <td>1</td>\n",
       "      <td>Master Of None</td>\n",
       "      <td>Beach House</td>\n",
       "    </tr>\n",
       "    <tr>\n",
       "      <th>4</th>\n",
       "      <td>0.18000</td>\n",
       "      <td>0.678</td>\n",
       "      <td>392893</td>\n",
       "      <td>0.561</td>\n",
       "      <td>0.512000</td>\n",
       "      <td>5</td>\n",
       "      <td>0.4390</td>\n",
       "      <td>-11.648</td>\n",
       "      <td>0</td>\n",
       "      <td>0.0694</td>\n",
       "      <td>174.004</td>\n",
       "      <td>4.0</td>\n",
       "      <td>0.904</td>\n",
       "      <td>1</td>\n",
       "      <td>Parallel Lines</td>\n",
       "      <td>Junior Boys</td>\n",
       "    </tr>\n",
       "    <tr>\n",
       "      <th>...</th>\n",
       "      <td>...</td>\n",
       "      <td>...</td>\n",
       "      <td>...</td>\n",
       "      <td>...</td>\n",
       "      <td>...</td>\n",
       "      <td>...</td>\n",
       "      <td>...</td>\n",
       "      <td>...</td>\n",
       "      <td>...</td>\n",
       "      <td>...</td>\n",
       "      <td>...</td>\n",
       "      <td>...</td>\n",
       "      <td>...</td>\n",
       "      <td>...</td>\n",
       "      <td>...</td>\n",
       "      <td>...</td>\n",
       "    </tr>\n",
       "    <tr>\n",
       "      <th>2012</th>\n",
       "      <td>0.00106</td>\n",
       "      <td>0.584</td>\n",
       "      <td>274404</td>\n",
       "      <td>0.932</td>\n",
       "      <td>0.002690</td>\n",
       "      <td>1</td>\n",
       "      <td>0.1290</td>\n",
       "      <td>-3.501</td>\n",
       "      <td>1</td>\n",
       "      <td>0.3330</td>\n",
       "      <td>74.976</td>\n",
       "      <td>4.0</td>\n",
       "      <td>0.211</td>\n",
       "      <td>0</td>\n",
       "      <td>Like A Bitch - Kill The Noise Remix</td>\n",
       "      <td>Kill The Noise</td>\n",
       "    </tr>\n",
       "    <tr>\n",
       "      <th>2013</th>\n",
       "      <td>0.08770</td>\n",
       "      <td>0.894</td>\n",
       "      <td>182182</td>\n",
       "      <td>0.892</td>\n",
       "      <td>0.001670</td>\n",
       "      <td>1</td>\n",
       "      <td>0.0528</td>\n",
       "      <td>-2.663</td>\n",
       "      <td>1</td>\n",
       "      <td>0.1310</td>\n",
       "      <td>110.041</td>\n",
       "      <td>4.0</td>\n",
       "      <td>0.867</td>\n",
       "      <td>0</td>\n",
       "      <td>Candy</td>\n",
       "      <td>Dillon Francis</td>\n",
       "    </tr>\n",
       "    <tr>\n",
       "      <th>2014</th>\n",
       "      <td>0.00857</td>\n",
       "      <td>0.637</td>\n",
       "      <td>207200</td>\n",
       "      <td>0.935</td>\n",
       "      <td>0.003990</td>\n",
       "      <td>0</td>\n",
       "      <td>0.2140</td>\n",
       "      <td>-2.467</td>\n",
       "      <td>1</td>\n",
       "      <td>0.1070</td>\n",
       "      <td>150.082</td>\n",
       "      <td>4.0</td>\n",
       "      <td>0.470</td>\n",
       "      <td>0</td>\n",
       "      <td>Habit - Dack Janiels &amp; Wenzday Remix</td>\n",
       "      <td>Rain Man</td>\n",
       "    </tr>\n",
       "    <tr>\n",
       "      <th>2015</th>\n",
       "      <td>0.00164</td>\n",
       "      <td>0.557</td>\n",
       "      <td>185600</td>\n",
       "      <td>0.992</td>\n",
       "      <td>0.677000</td>\n",
       "      <td>1</td>\n",
       "      <td>0.0913</td>\n",
       "      <td>-2.735</td>\n",
       "      <td>1</td>\n",
       "      <td>0.1330</td>\n",
       "      <td>150.011</td>\n",
       "      <td>4.0</td>\n",
       "      <td>0.623</td>\n",
       "      <td>0</td>\n",
       "      <td>First Contact</td>\n",
       "      <td>Twin Moons</td>\n",
       "    </tr>\n",
       "    <tr>\n",
       "      <th>2016</th>\n",
       "      <td>0.00281</td>\n",
       "      <td>0.446</td>\n",
       "      <td>204520</td>\n",
       "      <td>0.915</td>\n",
       "      <td>0.000039</td>\n",
       "      <td>9</td>\n",
       "      <td>0.2180</td>\n",
       "      <td>-6.221</td>\n",
       "      <td>1</td>\n",
       "      <td>0.1410</td>\n",
       "      <td>190.013</td>\n",
       "      <td>4.0</td>\n",
       "      <td>0.402</td>\n",
       "      <td>0</td>\n",
       "      <td>I Wanna Get Better</td>\n",
       "      <td>Bleachers</td>\n",
       "    </tr>\n",
       "  </tbody>\n",
       "</table>\n",
       "<p>2017 rows × 16 columns</p>\n",
       "</div>"
      ],
      "text/plain": [
       "      acousticness  danceability  duration_ms  energy  instrumentalness  key  \\\n",
       "0          0.01020         0.833       204600   0.434          0.021900    2   \n",
       "1          0.19900         0.743       326933   0.359          0.006110    1   \n",
       "2          0.03440         0.838       185707   0.412          0.000234    2   \n",
       "3          0.60400         0.494       199413   0.338          0.510000    5   \n",
       "4          0.18000         0.678       392893   0.561          0.512000    5   \n",
       "...            ...           ...          ...     ...               ...  ...   \n",
       "2012       0.00106         0.584       274404   0.932          0.002690    1   \n",
       "2013       0.08770         0.894       182182   0.892          0.001670    1   \n",
       "2014       0.00857         0.637       207200   0.935          0.003990    0   \n",
       "2015       0.00164         0.557       185600   0.992          0.677000    1   \n",
       "2016       0.00281         0.446       204520   0.915          0.000039    9   \n",
       "\n",
       "      liveness  loudness  mode  speechiness    tempo  time_signature  valence  \\\n",
       "0       0.1650    -8.795     1       0.4310  150.062             4.0    0.286   \n",
       "1       0.1370   -10.401     1       0.0794  160.083             4.0    0.588   \n",
       "2       0.1590    -7.148     1       0.2890   75.044             4.0    0.173   \n",
       "3       0.0922   -15.236     1       0.0261   86.468             4.0    0.230   \n",
       "4       0.4390   -11.648     0       0.0694  174.004             4.0    0.904   \n",
       "...        ...       ...   ...          ...      ...             ...      ...   \n",
       "2012    0.1290    -3.501     1       0.3330   74.976             4.0    0.211   \n",
       "2013    0.0528    -2.663     1       0.1310  110.041             4.0    0.867   \n",
       "2014    0.2140    -2.467     1       0.1070  150.082             4.0    0.470   \n",
       "2015    0.0913    -2.735     1       0.1330  150.011             4.0    0.623   \n",
       "2016    0.2180    -6.221     1       0.1410  190.013             4.0    0.402   \n",
       "\n",
       "      target                            song_title            artist  \n",
       "0          1                              Mask Off            Future  \n",
       "1          1                               Redbone  Childish Gambino  \n",
       "2          1                          Xanny Family            Future  \n",
       "3          1                        Master Of None       Beach House  \n",
       "4          1                        Parallel Lines       Junior Boys  \n",
       "...      ...                                   ...               ...  \n",
       "2012       0   Like A Bitch - Kill The Noise Remix    Kill The Noise  \n",
       "2013       0                                 Candy    Dillon Francis  \n",
       "2014       0  Habit - Dack Janiels & Wenzday Remix          Rain Man  \n",
       "2015       0                         First Contact        Twin Moons  \n",
       "2016       0                    I Wanna Get Better         Bleachers  \n",
       "\n",
       "[2017 rows x 16 columns]"
      ]
     },
     "execution_count": 17,
     "metadata": {},
     "output_type": "execute_result"
    }
   ],
   "source": [
    "# BEGIN YOUR CODE HERE \n",
    "\n",
    "spotify_df = None\n",
    "\n",
    "spotify_df = pd.read_csv(\"spotify.csv\")\n",
    "spotify_df = spotify_df.iloc[: , 1:]\n",
    "\n",
    "# END YOUR CODE HERE\n",
    "\n",
    "spotify_df"
   ]
  },
  {
   "cell_type": "markdown",
   "metadata": {
    "id": "3ZnUIScfb_gd"
   },
   "source": [
    "#### 1(b)\n",
    "rubric={points:2}\n",
    "\n",
    "Run the following line of code to split the data.\n",
    "\n",
    "Note: we are setting the `random_state` so that everyone has the same split on their assignments. \n",
    "This will make it easier for the TAs to grade."
   ]
  },
  {
   "cell_type": "code",
   "execution_count": 18,
   "metadata": {
    "id": "fH6pwobxb_ge"
   },
   "outputs": [],
   "source": [
    "# Do not modify this cell\n",
    "df_train, df_test = train_test_split(spotify_df, test_size=0.25, random_state=123)"
   ]
  },
  {
   "cell_type": "markdown",
   "metadata": {},
   "source": [
    " How many training and test examples do we have?\n",
    " Please print the row numbers for `df_train` and `df_test`."
   ]
  },
  {
   "cell_type": "code",
   "execution_count": 19,
   "metadata": {
    "colab": {
     "base_uri": "https://localhost:8080/"
    },
    "deletable": false,
    "id": "8TE-vOSlhPWI",
    "nbgrader": {
     "cell_type": "code",
     "checksum": "766ba3a443e43ff8e3ed74636e7770dc",
     "grade": true,
     "grade_id": "cell-e7c1dd98396a17e3",
     "locked": false,
     "points": 2,
     "schema_version": 3,
     "solution": true,
     "task": false
    },
    "outputId": "1613a42b-160d-4b82-dc44-caaa44ae82cd"
   },
   "outputs": [
    {
     "name": "stdout",
     "output_type": "stream",
     "text": [
      "Number of rows in df_train = 1512\n",
      "Number of rows in df_test = 505\n"
     ]
    }
   ],
   "source": [
    "# print the number of training and testing examples\n",
    "# BEGIN YOUR CODE HERE\n",
    "from lib2to3.pgen2.token import NEWLINE\n",
    "\n",
    "\n",
    "df_trainlen = len(df_train.index)\n",
    "df_testlen = len(df_test.index)\n",
    "\n",
    "print(\"Number of rows in df_train = \" + str(df_trainlen))\n",
    "print(\"Number of rows in df_test = \" + str(df_testlen))\n",
    "\n",
    "# END YOUR CODE HERE"
   ]
  },
  {
   "cell_type": "markdown",
   "metadata": {
    "id": "WbKcz75Xb_ge"
   },
   "source": [
    "#### 1(c)\n",
    "rubric={points:4}\n",
    "\n",
    "Print out the output of [describe()](https://pandas.pydata.org/docs/reference/api/pandas.DataFrame.describe.html) **on the training split**. This will compute some summary statistics of the numeric columns.\n",
    "\n",
    "Hints: \n",
    "1. Note that `describe` returns another DataFrame for the summary. (Or you can consider the summary is presented in a format of DataFrame.)"
   ]
  },
  {
   "cell_type": "code",
   "execution_count": 20,
   "metadata": {
    "deletable": false,
    "id": "SghRuwkohh3I",
    "nbgrader": {
     "cell_type": "code",
     "checksum": "fa82fa4b80993ff7be1a67225a16bb14",
     "grade": true,
     "grade_id": "cell-27cc646c77fb0e02",
     "locked": false,
     "points": 2,
     "schema_version": 3,
     "solution": true,
     "task": false
    }
   },
   "outputs": [
    {
     "data": {
      "text/html": [
       "<div>\n",
       "<style scoped>\n",
       "    .dataframe tbody tr th:only-of-type {\n",
       "        vertical-align: middle;\n",
       "    }\n",
       "\n",
       "    .dataframe tbody tr th {\n",
       "        vertical-align: top;\n",
       "    }\n",
       "\n",
       "    .dataframe thead th {\n",
       "        text-align: right;\n",
       "    }\n",
       "</style>\n",
       "<table border=\"1\" class=\"dataframe\">\n",
       "  <thead>\n",
       "    <tr style=\"text-align: right;\">\n",
       "      <th></th>\n",
       "      <th>acousticness</th>\n",
       "      <th>danceability</th>\n",
       "      <th>duration_ms</th>\n",
       "      <th>energy</th>\n",
       "      <th>instrumentalness</th>\n",
       "      <th>key</th>\n",
       "      <th>liveness</th>\n",
       "      <th>loudness</th>\n",
       "      <th>mode</th>\n",
       "      <th>speechiness</th>\n",
       "      <th>tempo</th>\n",
       "      <th>time_signature</th>\n",
       "      <th>valence</th>\n",
       "      <th>target</th>\n",
       "    </tr>\n",
       "  </thead>\n",
       "  <tbody>\n",
       "    <tr>\n",
       "      <th>count</th>\n",
       "      <td>1512.000000</td>\n",
       "      <td>1512.000000</td>\n",
       "      <td>1512.000000</td>\n",
       "      <td>1512.000000</td>\n",
       "      <td>1512.000000</td>\n",
       "      <td>1512.000000</td>\n",
       "      <td>1512.000000</td>\n",
       "      <td>1512.000000</td>\n",
       "      <td>1512.000000</td>\n",
       "      <td>1512.000000</td>\n",
       "      <td>1512.000000</td>\n",
       "      <td>1512.000000</td>\n",
       "      <td>1512.000000</td>\n",
       "      <td>1512.000000</td>\n",
       "    </tr>\n",
       "    <tr>\n",
       "      <th>mean</th>\n",
       "      <td>0.185337</td>\n",
       "      <td>0.617565</td>\n",
       "      <td>247606.240741</td>\n",
       "      <td>0.682022</td>\n",
       "      <td>0.139041</td>\n",
       "      <td>5.406746</td>\n",
       "      <td>0.189816</td>\n",
       "      <td>-7.089587</td>\n",
       "      <td>0.619048</td>\n",
       "      <td>0.090843</td>\n",
       "      <td>121.978905</td>\n",
       "      <td>3.964947</td>\n",
       "      <td>0.501758</td>\n",
       "      <td>0.511243</td>\n",
       "    </tr>\n",
       "    <tr>\n",
       "      <th>std</th>\n",
       "      <td>0.257866</td>\n",
       "      <td>0.163086</td>\n",
       "      <td>81841.143743</td>\n",
       "      <td>0.211498</td>\n",
       "      <td>0.279536</td>\n",
       "      <td>3.635880</td>\n",
       "      <td>0.154115</td>\n",
       "      <td>3.841885</td>\n",
       "      <td>0.485782</td>\n",
       "      <td>0.086574</td>\n",
       "      <td>27.121977</td>\n",
       "      <td>0.253555</td>\n",
       "      <td>0.246599</td>\n",
       "      <td>0.500039</td>\n",
       "    </tr>\n",
       "    <tr>\n",
       "      <th>min</th>\n",
       "      <td>0.000005</td>\n",
       "      <td>0.122000</td>\n",
       "      <td>16042.000000</td>\n",
       "      <td>0.014800</td>\n",
       "      <td>0.000000</td>\n",
       "      <td>0.000000</td>\n",
       "      <td>0.018800</td>\n",
       "      <td>-33.097000</td>\n",
       "      <td>0.000000</td>\n",
       "      <td>0.023100</td>\n",
       "      <td>47.859000</td>\n",
       "      <td>1.000000</td>\n",
       "      <td>0.035900</td>\n",
       "      <td>0.000000</td>\n",
       "    </tr>\n",
       "    <tr>\n",
       "      <th>25%</th>\n",
       "      <td>0.009460</td>\n",
       "      <td>0.512000</td>\n",
       "      <td>200072.000000</td>\n",
       "      <td>0.564000</td>\n",
       "      <td>0.000000</td>\n",
       "      <td>2.000000</td>\n",
       "      <td>0.092200</td>\n",
       "      <td>-8.389000</td>\n",
       "      <td>0.000000</td>\n",
       "      <td>0.037375</td>\n",
       "      <td>100.500750</td>\n",
       "      <td>4.000000</td>\n",
       "      <td>0.298750</td>\n",
       "      <td>0.000000</td>\n",
       "    </tr>\n",
       "    <tr>\n",
       "      <th>50%</th>\n",
       "      <td>0.063700</td>\n",
       "      <td>0.629500</td>\n",
       "      <td>230100.000000</td>\n",
       "      <td>0.713500</td>\n",
       "      <td>0.000076</td>\n",
       "      <td>6.000000</td>\n",
       "      <td>0.127000</td>\n",
       "      <td>-6.239000</td>\n",
       "      <td>1.000000</td>\n",
       "      <td>0.055050</td>\n",
       "      <td>121.974000</td>\n",
       "      <td>4.000000</td>\n",
       "      <td>0.501000</td>\n",
       "      <td>1.000000</td>\n",
       "    </tr>\n",
       "    <tr>\n",
       "      <th>75%</th>\n",
       "      <td>0.253000</td>\n",
       "      <td>0.738250</td>\n",
       "      <td>274041.750000</td>\n",
       "      <td>0.847250</td>\n",
       "      <td>0.061100</td>\n",
       "      <td>9.000000</td>\n",
       "      <td>0.243000</td>\n",
       "      <td>-4.756000</td>\n",
       "      <td>1.000000</td>\n",
       "      <td>0.107000</td>\n",
       "      <td>137.938250</td>\n",
       "      <td>4.000000</td>\n",
       "      <td>0.694000</td>\n",
       "      <td>1.000000</td>\n",
       "    </tr>\n",
       "    <tr>\n",
       "      <th>max</th>\n",
       "      <td>0.995000</td>\n",
       "      <td>0.984000</td>\n",
       "      <td>849960.000000</td>\n",
       "      <td>0.997000</td>\n",
       "      <td>0.976000</td>\n",
       "      <td>11.000000</td>\n",
       "      <td>0.969000</td>\n",
       "      <td>-0.307000</td>\n",
       "      <td>1.000000</td>\n",
       "      <td>0.816000</td>\n",
       "      <td>219.331000</td>\n",
       "      <td>5.000000</td>\n",
       "      <td>0.992000</td>\n",
       "      <td>1.000000</td>\n",
       "    </tr>\n",
       "  </tbody>\n",
       "</table>\n",
       "</div>"
      ],
      "text/plain": [
       "       acousticness  danceability    duration_ms       energy  \\\n",
       "count   1512.000000   1512.000000    1512.000000  1512.000000   \n",
       "mean       0.185337      0.617565  247606.240741     0.682022   \n",
       "std        0.257866      0.163086   81841.143743     0.211498   \n",
       "min        0.000005      0.122000   16042.000000     0.014800   \n",
       "25%        0.009460      0.512000  200072.000000     0.564000   \n",
       "50%        0.063700      0.629500  230100.000000     0.713500   \n",
       "75%        0.253000      0.738250  274041.750000     0.847250   \n",
       "max        0.995000      0.984000  849960.000000     0.997000   \n",
       "\n",
       "       instrumentalness          key     liveness     loudness         mode  \\\n",
       "count       1512.000000  1512.000000  1512.000000  1512.000000  1512.000000   \n",
       "mean           0.139041     5.406746     0.189816    -7.089587     0.619048   \n",
       "std            0.279536     3.635880     0.154115     3.841885     0.485782   \n",
       "min            0.000000     0.000000     0.018800   -33.097000     0.000000   \n",
       "25%            0.000000     2.000000     0.092200    -8.389000     0.000000   \n",
       "50%            0.000076     6.000000     0.127000    -6.239000     1.000000   \n",
       "75%            0.061100     9.000000     0.243000    -4.756000     1.000000   \n",
       "max            0.976000    11.000000     0.969000    -0.307000     1.000000   \n",
       "\n",
       "       speechiness        tempo  time_signature      valence       target  \n",
       "count  1512.000000  1512.000000     1512.000000  1512.000000  1512.000000  \n",
       "mean      0.090843   121.978905        3.964947     0.501758     0.511243  \n",
       "std       0.086574    27.121977        0.253555     0.246599     0.500039  \n",
       "min       0.023100    47.859000        1.000000     0.035900     0.000000  \n",
       "25%       0.037375   100.500750        4.000000     0.298750     0.000000  \n",
       "50%       0.055050   121.974000        4.000000     0.501000     1.000000  \n",
       "75%       0.107000   137.938250        4.000000     0.694000     1.000000  \n",
       "max       0.816000   219.331000        5.000000     0.992000     1.000000  "
      ]
     },
     "execution_count": 20,
     "metadata": {},
     "output_type": "execute_result"
    }
   ],
   "source": [
    "# BEGIN YOUR CODE HERE\n",
    "df_summary = df_train.describe()\n",
    "\n",
    "# END YOUR CODE HERE\n",
    "df_summary"
   ]
  },
  {
   "cell_type": "markdown",
   "metadata": {},
   "source": [
    "Which feature has the smallest range, given this `df_summary`? \n",
    "\n",
    "Hints:\n",
    "1. You can subtract the min value from the max value of the `df_summary` to get the range.\n",
    "2. Then you use [df.idxmin()](https://pandas.pydata.org/docs/reference/api/pandas.DataFrame.idxmin.html) to find the index/name of the smallest range."
   ]
  },
  {
   "cell_type": "code",
   "execution_count": 21,
   "metadata": {
    "deletable": false,
    "id": "BtwcCvIRiF54",
    "nbgrader": {
     "cell_type": "code",
     "checksum": "fa6d51cfa53200232de27a0602b91333",
     "grade": true,
     "grade_id": "cell-e18dd2a128341061",
     "locked": false,
     "points": 2,
     "schema_version": 3,
     "solution": true,
     "task": false
    }
   },
   "outputs": [
    {
     "data": {
      "text/plain": [
       "'speechiness'"
      ]
     },
     "execution_count": 21,
     "metadata": {},
     "output_type": "execute_result"
    }
   ],
   "source": [
    "# BEGIN YOUR CODE HERE\n",
    "\n",
    "#print(\"The smalles range of df_summary is \" + str((df_summary.loc['max'] - df_summary.loc['min']).idxmin()))\n",
    "(df_summary.loc['max'] - df_summary.loc['min']).idxmin()\n",
    "\n",
    "# END YOUR CODE HERE"
   ]
  },
  {
   "cell_type": "markdown",
   "metadata": {
    "id": "Xjg2Ybcab_gf"
   },
   "source": [
    "#### 1(d) \n",
    "rubric={points:12}\n",
    "\n",
    "Let's focus on the following features:\n",
    "\n",
    "- danceability\n",
    "- tempo\n",
    "- energy\n",
    "- valence\n",
    "\n",
    "For each of these features (in order), produce a histogram that shows the distribution of the feature values in the training set, **separated for positive and negative examples**. \n",
    "By \"positive examples\" we mean target = 1 (user liked the song, positive sentiment) and by \"negative examples\" we mean target = 0 (used disliked the song, negative sentiment). \n",
    "\n",
    "As an example, here is what the histogram would look like for a different feature loudness:\n",
    "\n",
    "<!-- ![](loudness.png) -->\n",
    "<img src=\"loudness.png\" height=\"800\" width=\"800\"> "
   ]
  },
  {
   "cell_type": "markdown",
   "metadata": {
    "id": "-TiFbgfQb_gf"
   },
   "source": [
    "Hints:\n",
    "1. You don't have to match all the details exactly, such as colour, but your histograms should look something like this, with a reasonable number of bins to see the shape of the distribution.\n",
    "2. As shown above, there are two different histograms, one for target = 0 and one for target = 1, and they are overlaid on top of each other. The histogram above shows that extremely quiet songs tend to be disliked (more blue bars than orange on the left) and very loud songs also tend to be disliked (more blue than orange on the far right).\n",
    "3. Make sure you use a `for` loop for your plotting, rather than repeating the plotting code 4 times. For this to work, I used `plt.show()` at the end of your loop, which draws the figure and resets the canvas for your next plot.\n",
    "4. You can find the histgram function [here](https://matplotlib.org/stable/api/_as_gen/matplotlib.pyplot.hist.html)."
   ]
  },
  {
   "cell_type": "markdown",
   "metadata": {
    "id": "R8LOhMcVb_gf"
   },
   "source": [
    "Here is some code that separates out the dataset into positive and negative examples, to help you get started:"
   ]
  },
  {
   "cell_type": "code",
   "execution_count": 22,
   "metadata": {
    "id": "O138RF8vb_gf"
   },
   "outputs": [],
   "source": [
    "# Do not modify the code  \n",
    "negative_examples = df_train.query(\"target == 0\")\n",
    "positive_examples = df_train.query(\"target == 1\")"
   ]
  },
  {
   "cell_type": "code",
   "execution_count": 23,
   "metadata": {
    "colab": {
     "base_uri": "https://localhost:8080/",
     "height": 1000
    },
    "deletable": false,
    "id": "B5ftK2ncjyXo",
    "nbgrader": {
     "cell_type": "code",
     "checksum": "f372aae5f3ec0b6db7cdf0a60b97de9c",
     "grade": true,
     "grade_id": "cell-491399df3409c8db",
     "locked": false,
     "points": 12,
     "schema_version": 3,
     "solution": true,
     "task": false
    },
    "outputId": "599c02a4-898b-4f0b-e3a5-0550b0e7dc0d"
   },
   "outputs": [
    {
     "data": {
      "image/png": "[encoded data removed]",
      "text/plain": [
       "<Figure size 640x480 with 1 Axes>"
      ]
     },
     "metadata": {},
     "output_type": "display_data"
    },
    {
     "data": {
      "image/png": "[encoded data removed]",
      "text/plain": [
       "<Figure size 640x480 with 1 Axes>"
      ]
     },
     "metadata": {},
     "output_type": "display_data"
    },
    {
     "data": {
      "image/png": "[encoded data removed]",
      "text/plain": [
       "<Figure size 640x480 with 1 Axes>"
      ]
     },
     "metadata": {},
     "output_type": "display_data"
    },
    {
     "data": {
      "image/png": "[encoded data removed]",
      "text/plain": [
       "<Figure size 640x480 with 1 Axes>"
      ]
     },
     "metadata": {},
     "output_type": "display_data"
    }
   ],
   "source": [
    "# BEGIN YOUR CODE HERE\n",
    "features = ['danceability', 'tempo', 'energy', 'valence']\n",
    "\n",
    "for feature in features:\n",
    "    plt.hist(negative_examples[feature], bins=75, alpha=0.5)\n",
    "    plt.hist(positive_examples[feature], bins=75, alpha=0.5)\n",
    "    plt.title('Histogram of ' + feature + ' by target class')\n",
    "    plt.xlabel(feature)\n",
    "    plt.ylabel(\"counter\")\n",
    "\n",
    "    plt.show()\n",
    "# END YOUR CODE HERE"
   ]
  },
  {
   "cell_type": "markdown",
   "metadata": {
    "id": "gyg1tEC_b_gg"
   },
   "source": [
    "#### 1(e)\n",
    "rubric={points:4}\n",
    "\n",
    "Let's say that, for a particular feature, the histograms of that feature are identical for the two target classes. \n",
    "Does that mean the feature is not useful for predicting the target class? (Yes or No, and explain your solution)\n",
    "\n"
   ]
  },
  {
   "cell_type": "markdown",
   "metadata": {
    "deletable": false,
    "id": "jYXeZOvGAjay",
    "nbgrader": {
     "cell_type": "markdown",
     "checksum": "9c410b2b43d085f6e7dba99cbdddae46",
     "grade": true,
     "grade_id": "cell-f5e6059845f2c570",
     "locked": false,
     "points": 4,
     "schema_version": 3,
     "solution": true,
     "task": false
    }
   },
   "source": [
    "It does not necessarily mean that it's not useful. Instead, it may mean that it requires a combination of features to describe the target class."
   ]
  },
  {
   "cell_type": "markdown",
   "metadata": {
    "id": "4923ozQOb_gh"
   },
   "source": [
    "#### 1(f) \n",
    "rubric={points:4}\n",
    "\n",
    "Note that the dataset includes two free text features labeled `song_title` and `artist`:"
   ]
  },
  {
   "cell_type": "code",
   "execution_count": 24,
   "metadata": {
    "colab": {
     "base_uri": "https://localhost:8080/",
     "height": 206
    },
    "id": "LupikvZeb_gh",
    "outputId": "1a8b22a7-87f8-4b6f-b452-23011f47de77"
   },
   "outputs": [
    {
     "data": {
      "text/html": [
       "<div>\n",
       "<style scoped>\n",
       "    .dataframe tbody tr th:only-of-type {\n",
       "        vertical-align: middle;\n",
       "    }\n",
       "\n",
       "    .dataframe tbody tr th {\n",
       "        vertical-align: top;\n",
       "    }\n",
       "\n",
       "    .dataframe thead th {\n",
       "        text-align: right;\n",
       "    }\n",
       "</style>\n",
       "<table border=\"1\" class=\"dataframe\">\n",
       "  <thead>\n",
       "    <tr style=\"text-align: right;\">\n",
       "      <th></th>\n",
       "      <th>song_title</th>\n",
       "      <th>artist</th>\n",
       "    </tr>\n",
       "  </thead>\n",
       "  <tbody>\n",
       "    <tr>\n",
       "      <th>1396</th>\n",
       "      <td>All in Vain</td>\n",
       "      <td>Mot</td>\n",
       "    </tr>\n",
       "    <tr>\n",
       "      <th>641</th>\n",
       "      <td>One of Those Nights</td>\n",
       "      <td>Juicy J</td>\n",
       "    </tr>\n",
       "    <tr>\n",
       "      <th>1765</th>\n",
       "      <td>Take Me As I Am</td>\n",
       "      <td>Wyclef Jean</td>\n",
       "    </tr>\n",
       "    <tr>\n",
       "      <th>1801</th>\n",
       "      <td>Save My Soul</td>\n",
       "      <td>JoJo</td>\n",
       "    </tr>\n",
       "    <tr>\n",
       "      <th>1624</th>\n",
       "      <td>Save the World - Radio Mix</td>\n",
       "      <td>Swedish House Mafia</td>\n",
       "    </tr>\n",
       "  </tbody>\n",
       "</table>\n",
       "</div>"
      ],
      "text/plain": [
       "                      song_title               artist\n",
       "1396                 All in Vain                  Mot\n",
       "641          One of Those Nights              Juicy J\n",
       "1765             Take Me As I Am          Wyclef Jean\n",
       "1801                Save My Soul                 JoJo\n",
       "1624  Save the World - Radio Mix  Swedish House Mafia"
      ]
     },
     "execution_count": 24,
     "metadata": {},
     "output_type": "execute_result"
    }
   ],
   "source": [
    "df_train[[\"song_title\", \"artist\"]].head()"
   ]
  },
  {
   "cell_type": "markdown",
   "metadata": {
    "id": "sU3-efejb_gh"
   },
   "source": [
    "(1) Do you think these features could be useful in predicting whether the user liked the song or not?  Then explain your answer."
   ]
  },
  {
   "cell_type": "markdown",
   "metadata": {
    "deletable": false,
    "nbgrader": {
     "cell_type": "markdown",
     "checksum": "9209b11a881dff70d8060dba341e615f",
     "grade": true,
     "grade_id": "cell-802d8b9471c3337f",
     "locked": false,
     "points": 2,
     "schema_version": 3,
     "solution": true,
     "task": false
    }
   },
   "source": [
    "I believe that this information could be useful in predicting if the user liked the song or not. For example, if the user likes songs by Juicy J then they may like songs that feature Juicy J or other songs by Juicy J. "
   ]
  },
  {
   "cell_type": "markdown",
   "metadata": {},
   "source": [
    "(2) Would there be any difficulty in using them in your model?  If yes, what kind of method can solve this difficulty?"
   ]
  },
  {
   "cell_type": "markdown",
   "metadata": {
    "deletable": false,
    "id": "pKgZl2e_5ZWC",
    "nbgrader": {
     "cell_type": "markdown",
     "checksum": "f9bbd5bf9f7632bb45187548e6bcba80",
     "grade": true,
     "grade_id": "cell-902ad95399e2d521",
     "locked": false,
     "points": 2,
     "schema_version": 3,
     "solution": true,
     "task": false
    }
   },
   "source": [
    "There could be an issue of duplicate entries for the same artist. One thing we could do is consolidate the information to an average of all songs for a particular artist. Or similarly, all songs where an artist is featured."
   ]
  },
  {
   "cell_type": "markdown",
   "metadata": {
    "id": "YOo-zsyTb_gi"
   },
   "source": [
    "## Exercise 2: Using sklearn to build a decision tree classifier\n",
    "\n",
    "Rubric={points:18}"
   ]
  },
  {
   "cell_type": "markdown",
   "metadata": {
    "id": "yinFqVaub_gi"
   },
   "source": [
    "#### 2(a) \n",
    "rubric={points:4}\n",
    "\n",
    "- Create `X_train` and `y_train` and `X_test` and `y_test` from `df_train` and `df_test` above. Skip the `song_title` and `artist` features for now. \n",
    "- Fit a [DecisionTreeClassifier](https://scikit-learn.org/stable/modules/generated/sklearn.tree.DecisionTreeClassifier.html) on the train set.\n",
    "- Name your classifier as `dt`.\n",
    "\n",
    "Hints:\n",
    "1. You first split the features and labels for both `df_train` and `df_test` by using [df.drop()](https://pandas.pydata.org/docs/reference/api/pandas.DataFrame.drop.html).\n",
    "2. You must name the decision tree classifier as `dt`.\n",
    "3. You may use the [fit](https://scikit-learn.org/stable/modules/generated/sklearn.tree.DecisionTreeClassifier.html#sklearn.tree.DecisionTreeClassifier.fit) method to train the classifier."
   ]
  },
  {
   "cell_type": "code",
   "execution_count": 25,
   "metadata": {
    "colab": {
     "base_uri": "https://localhost:8080/"
    },
    "deletable": false,
    "id": "dj4fqSHtb_gi",
    "nbgrader": {
     "cell_type": "code",
     "checksum": "a55f63ab2dd6192a99f8375c0e270ec2",
     "grade": true,
     "grade_id": "cell-1c8bf38818488103",
     "locked": false,
     "points": 4,
     "schema_version": 3,
     "solution": true,
     "task": false
    },
    "outputId": "9f893f45-7e30-476f-a773-a2782748ec73"
   },
   "outputs": [
    {
     "data": {
      "text/html": [
       "<style>#sk-container-id-2 {color: black;background-color: white;}#sk-container-id-2 pre{padding: 0;}#sk-container-id-2 div.sk-toggleable {background-color: white;}#sk-container-id-2 label.sk-toggleable__label {cursor: pointer;display: block;width: 100%;margin-bottom: 0;padding: 0.3em;box-sizing: border-box;text-align: center;}#sk-container-id-2 label.sk-toggleable__label-arrow:before {content: \"▸\";float: left;margin-right: 0.25em;color: #696969;}#sk-container-id-2 label.sk-toggleable__label-arrow:hover:before {color: black;}#sk-container-id-2 div.sk-estimator:hover label.sk-toggleable__label-arrow:before {color: black;}#sk-container-id-2 div.sk-toggleable__content {max-height: 0;max-width: 0;overflow: hidden;text-align: left;background-color: #f0f8ff;}#sk-container-id-2 div.sk-toggleable__content pre {margin: 0.2em;color: black;border-radius: 0.25em;background-color: #f0f8ff;}#sk-container-id-2 input.sk-toggleable__control:checked~div.sk-toggleable__content {max-height: 200px;max-width: 100%;overflow: auto;}#sk-container-id-2 input.sk-toggleable__control:checked~label.sk-toggleable__label-arrow:before {content: \"▾\";}#sk-container-id-2 div.sk-estimator input.sk-toggleable__control:checked~label.sk-toggleable__label {background-color: #d4ebff;}#sk-container-id-2 div.sk-label input.sk-toggleable__control:checked~label.sk-toggleable__label {background-color: #d4ebff;}#sk-container-id-2 input.sk-hidden--visually {border: 0;clip: rect(1px 1px 1px 1px);clip: rect(1px, 1px, 1px, 1px);height: 1px;margin: -1px;overflow: hidden;padding: 0;position: absolute;width: 1px;}#sk-container-id-2 div.sk-estimator {font-family: monospace;background-color: #f0f8ff;border: 1px dotted black;border-radius: 0.25em;box-sizing: border-box;margin-bottom: 0.5em;}#sk-container-id-2 div.sk-estimator:hover {background-color: #d4ebff;}#sk-container-id-2 div.sk-parallel-item::after {content: \"\";width: 100%;border-bottom: 1px solid gray;flex-grow: 1;}#sk-container-id-2 div.sk-label:hover label.sk-toggleable__label {background-color: #d4ebff;}#sk-container-id-2 div.sk-serial::before {content: \"\";position: absolute;border-left: 1px solid gray;box-sizing: border-box;top: 0;bottom: 0;left: 50%;z-index: 0;}#sk-container-id-2 div.sk-serial {display: flex;flex-direction: column;align-items: center;background-color: white;padding-right: 0.2em;padding-left: 0.2em;position: relative;}#sk-container-id-2 div.sk-item {position: relative;z-index: 1;}#sk-container-id-2 div.sk-parallel {display: flex;align-items: stretch;justify-content: center;background-color: white;position: relative;}#sk-container-id-2 div.sk-item::before, #sk-container-id-2 div.sk-parallel-item::before {content: \"\";position: absolute;border-left: 1px solid gray;box-sizing: border-box;top: 0;bottom: 0;left: 50%;z-index: -1;}#sk-container-id-2 div.sk-parallel-item {display: flex;flex-direction: column;z-index: 1;position: relative;background-color: white;}#sk-container-id-2 div.sk-parallel-item:first-child::after {align-self: flex-end;width: 50%;}#sk-container-id-2 div.sk-parallel-item:last-child::after {align-self: flex-start;width: 50%;}#sk-container-id-2 div.sk-parallel-item:only-child::after {width: 0;}#sk-container-id-2 div.sk-dashed-wrapped {border: 1px dashed gray;margin: 0 0.4em 0.5em 0.4em;box-sizing: border-box;padding-bottom: 0.4em;background-color: white;}#sk-container-id-2 div.sk-label label {font-family: monospace;font-weight: bold;display: inline-block;line-height: 1.2em;}#sk-container-id-2 div.sk-label-container {text-align: center;}#sk-container-id-2 div.sk-container {/* jupyter's `normalize.less` sets `[hidden] { display: none; }` but bootstrap.min.css set `[hidden] { display: none !important; }` so we also need the `!important` here to be able to override the default hidden behavior on the sphinx rendered scikit-learn.org. See: https://github.com/scikit-learn/scikit-learn/issues/21755 */display: inline-block !important;position: relative;}#sk-container-id-2 div.sk-text-repr-fallback {display: none;}</style><div id=\"sk-container-id-2\" class=\"sk-top-container\"><div class=\"sk-text-repr-fallback\"><pre>DecisionTreeClassifier()</pre><b>In a Jupyter environment, please rerun this cell to show the HTML representation or trust the notebook. <br />On GitHub, the HTML representation is unable to render, please try loading this page with nbviewer.org.</b></div><div class=\"sk-container\" hidden><div class=\"sk-item\"><div class=\"sk-estimator sk-toggleable\"><input class=\"sk-toggleable__control sk-hidden--visually\" id=\"sk-estimator-id-2\" type=\"checkbox\" checked><label for=\"sk-estimator-id-2\" class=\"sk-toggleable__label sk-toggleable__label-arrow\">DecisionTreeClassifier</label><div class=\"sk-toggleable__content\"><pre>DecisionTreeClassifier()</pre></div></div></div></div></div>"
      ],
      "text/plain": [
       "DecisionTreeClassifier()"
      ]
     },
     "execution_count": 25,
     "metadata": {},
     "output_type": "execute_result"
    }
   ],
   "source": [
    "dt = None\n",
    "\n",
    "# BEGIN YOUR CODE HERE\n",
    "df_train = df_train.drop(columns=['song_title', 'artist'], errors='ignore')\n",
    "df_test = df_test.drop(columns=['song_title', 'artist'], errors='ignore')\n",
    "X_train, y_train = df_train.drop(columns=['target']), df_train['target']\n",
    "X_test, y_test = df_test.drop(columns=['target']), df_test['target']\n",
    "dt = DecisionTreeClassifier()\n",
    "dt.fit(X_train, y_train)\n",
    "\n",
    "# END YOUR CODE HERE"
   ]
  },
  {
   "cell_type": "markdown",
   "metadata": {
    "id": "SX4oJduHb_gi"
   },
   "source": [
    "#### 2(b)\n",
    "rubric={points:2}\n",
    "\n",
    "Use the `predict` method to predict the class of the first example in your `X_train`. Is the prediction correct? That is, does it match with the corresponding true label in `y_train`?  Please print your prediction and the true label for the first example.\n",
    "\n",
    "Hints: \n",
    "1. You can grab the first example with `X_train.iloc[[0]]`."
   ]
  },
  {
   "cell_type": "code",
   "execution_count": 26,
   "metadata": {
    "colab": {
     "base_uri": "https://localhost:8080/"
    },
    "deletable": false,
    "id": "pfY457gU0VX6",
    "nbgrader": {
     "cell_type": "code",
     "checksum": "617ab084e783b232e91147c48c8f30bc",
     "grade": true,
     "grade_id": "cell-cfcd6f4af7f85141",
     "locked": false,
     "points": 2,
     "schema_version": 3,
     "solution": true,
     "task": false
    },
    "outputId": "e5220234-04b5-42d0-d731-ae1f52bfc12c"
   },
   "outputs": [
    {
     "name": "stdout",
     "output_type": "stream",
     "text": [
      "Value from prediction = 0 and real value = 0\n"
     ]
    }
   ],
   "source": [
    "# BEGIN YOUR CODE HERE\n",
    "\n",
    "result = dt.predict(X_train.iloc[[0]])\n",
    "\n",
    "print(f\"Value from prediction = {result[0]} and real value = {y_train.iloc[0]}\")\n",
    "\n",
    "# END YOUR CODE HERE"
   ]
  },
  {
   "cell_type": "markdown",
   "metadata": {
    "id": "6Syt6jR3b_gi"
   },
   "source": [
    "#### 2(c) \n",
    "rubric={points:2}\n",
    "\n",
    "Use the [cross_val_score](https://scikit-learn.org/stable/modules/generated/sklearn.model_selection.cross_val_score.html) function on your training set to compute the 10-fold cross-validation accuracy of your tree. \n",
    "\n",
    "Save the cross validation accuracy to `cv_scores`."
   ]
  },
  {
   "cell_type": "code",
   "execution_count": 27,
   "metadata": {
    "colab": {
     "base_uri": "https://localhost:8080/"
    },
    "deletable": false,
    "id": "jYyo7U1Mb_gj",
    "nbgrader": {
     "cell_type": "code",
     "checksum": "56de02caf1948ac7dc8f69e5fea7c0c1",
     "grade": true,
     "grade_id": "cell-6cb370aade42b5b9",
     "locked": false,
     "points": 2,
     "schema_version": 3,
     "solution": true,
     "task": false
    },
    "outputId": "f39fd524-df50-4d4b-c16a-599df5ac8cf3"
   },
   "outputs": [
    {
     "data": {
      "text/plain": [
       "array([0.66447368, 0.67763158, 0.66225166, 0.65562914, 0.63576159,\n",
       "       0.69536424, 0.68874172, 0.63576159, 0.69536424, 0.70860927])"
      ]
     },
     "execution_count": 27,
     "metadata": {},
     "output_type": "execute_result"
    }
   ],
   "source": [
    "cv_scores = None\n",
    "\n",
    "# BEGIN YOUR CODE HERE\n",
    "\n",
    "cv_scores = cross_val_score(dt, X_train, y_train, cv=10)\n",
    "\n",
    "# END YOUR CODE HERE\n",
    "\n",
    "cv_scores"
   ]
  },
  {
   "cell_type": "markdown",
   "metadata": {
    "id": "b0KxZJfab_gj"
   },
   "source": [
    "#### 2(d)\n",
    "rubric={points:6}\n",
    "\n",
    "The above is useful, but we would like to see more results, e.g., `fit_time`, `score_time`, `test_score`, `train_score`. \n",
    "\n",
    "- Compute the 10-fold cross-validation again but this time using the [cross_validate](https://scikit-learn.org/stable/modules/generated/sklearn.model_selection.cross_validate.html) function with `return_train_score=True` and `cv=10`. \n",
    "- Save the results in `scores`."
   ]
  },
  {
   "cell_type": "code",
   "execution_count": 28,
   "metadata": {
    "colab": {
     "base_uri": "https://localhost:8080/"
    },
    "deletable": false,
    "id": "ZCugmvpR2A4C",
    "nbgrader": {
     "cell_type": "code",
     "checksum": "b6b885f3f33f96fcc8a90611c58b7542",
     "grade": true,
     "grade_id": "cell-cb08fe725fc6fbee",
     "locked": false,
     "points": 6,
     "schema_version": 3,
     "solution": true,
     "task": false
    },
    "outputId": "f605bbd5-a8a6-4e62-d9dc-4569bba75e3b"
   },
   "outputs": [
    {
     "data": {
      "text/plain": [
       "{'fit_time': array([0.01390481, 0.01214123, 0.01154304, 0.01057816, 0.01066899,\n",
       "        0.01072407, 0.01016808, 0.01130295, 0.01025844, 0.01029134]),\n",
       " 'score_time': array([0.00146556, 0.00282812, 0.00168753, 0.00137329, 0.00149179,\n",
       "        0.00136089, 0.00131345, 0.00133276, 0.0015533 , 0.0013063 ]),\n",
       " 'test_score': array([0.66447368, 0.67105263, 0.70198675, 0.68874172, 0.65562914,\n",
       "        0.69536424, 0.67549669, 0.68211921, 0.70198675, 0.70198675]),\n",
       " 'train_score': array([0.99926471, 1.        , 1.        , 0.99926525, 0.99926525,\n",
       "        0.99926525, 0.99926525, 0.99926525, 0.99926525, 0.99926525])}"
      ]
     },
     "execution_count": 28,
     "metadata": {},
     "output_type": "execute_result"
    }
   ],
   "source": [
    "scores = None\n",
    "\n",
    "# BEGIN YOUR CODE HERE\n",
    "\n",
    "scores = cross_validate(dt, X_train, y_train, cv=10, return_train_score=True)\n",
    "pd.DataFrame(scores)\n",
    "\n",
    "# END YOUR CODE HERE\n",
    "\n",
    "scores"
   ]
  },
  {
   "cell_type": "markdown",
   "metadata": {
    "id": "XnSYRHO-b_gj"
   },
   "source": [
    "#### 2(e)\n",
    "rubric={points:3}\n",
    "\n",
    "Do you see a significant difference between the training score and the cross-validation score? Briefly discuss."
   ]
  },
  {
   "cell_type": "markdown",
   "metadata": {
    "deletable": false,
    "id": "l5cDjNN0b_gj",
    "nbgrader": {
     "cell_type": "markdown",
     "checksum": "ca7c69511bff903487cb1b242d99d683",
     "grade": true,
     "grade_id": "cell-154a5a3791e6221c",
     "locked": false,
     "points": 3,
     "schema_version": 3,
     "solution": true,
     "task": false
    }
   },
   "source": [
    "The cross-validation score represents the test_score closest. The values are very similar."
   ]
  },
  {
   "cell_type": "markdown",
   "metadata": {
    "id": "7y5HxEsDb_gj"
   },
   "source": [
    "#### 2(f)\n",
    "rubric={points:3}\n",
    "\n",
    "Inspect the 10 sub-scores from the 10 folds of cross-validation. How does this inform the trustworthiness of your cross validation score?"
   ]
  },
  {
   "cell_type": "markdown",
   "metadata": {
    "deletable": false,
    "id": "_9ARc9Y7b_gk",
    "nbgrader": {
     "cell_type": "markdown",
     "checksum": "86c92f157e8d102db7a536a0b0142b44",
     "grade": true,
     "grade_id": "cell-d41a9b004de3c338",
     "locked": false,
     "points": 3,
     "schema_version": 3,
     "solution": true,
     "task": false
    }
   },
   "source": [
    "The 10-folds of cross-validation improves the trustworthiness of the cross validation score. The reason being that we view similar results between the test scores and each individual split value."
   ]
  },
  {
   "cell_type": "markdown",
   "metadata": {
    "id": "FDn1B520b_gk"
   },
   "source": [
    "## Exercise 3: Hyperparameters \n",
    "rubric={points:32}\n",
    "\n",
    "In this exercise, you'll experiment with the `max_depth` hyperparameter of the decision tree classifier. See the [`DecisionTreeClassifier` documentation](https://scikit-learn.org/stable/modules/generated/sklearn.tree.DecisionTreeClassifier.html) for more details.\n",
    "\n",
    "- Explore the `max_depth` hyperparameter. Run 10-fold cross-validation for trees with different values of `max_depth` (at least 10 different values in the range 1 to 25). {points:10}\n",
    "- For each `max_depth`, get both the **train accuracy** and the **cross-validation accuracy**. {points:6}\n",
    "- Make a plot with `max_depth` on the *x*-axis and the train and cross-validation scores on the *y*-axis. That is, your plot should have two curves, one for train and one for cross-validation. Include a legend to specify which is which. {points:6}\n",
    "- Discuss how changing the `max_depth` hyperparameter affects the training and cross-validation accuracy. From these results, what depth would you pick as the optimal depth? {points:5}\n",
    "- Do you think that the depth you chose would generalize to other \"spotify\" datasets (i.e., data on other spotify users)?{points:5}"
   ]
  },
  {
   "cell_type": "code",
   "execution_count": 29,
   "metadata": {
    "colab": {
     "base_uri": "https://localhost:8080/",
     "height": 1000
    },
    "deletable": false,
    "id": "0T-sNbEWQ6Mh",
    "nbgrader": {
     "cell_type": "code",
     "checksum": "d82d3b26bec8314820a5752d7d6f0937",
     "grade": true,
     "grade_id": "cell-3ca54674a3980cb6",
     "locked": false,
     "points": 32,
     "schema_version": 3,
     "solution": true,
     "task": false
    },
    "outputId": "842671d6-8ae3-4d57-aef1-5b7fe85f60f1"
   },
   "outputs": [
    {
     "data": {
      "text/plain": [
       "<AxesSubplot: xlabel='depth'>"
      ]
     },
     "execution_count": 29,
     "metadata": {},
     "output_type": "execute_result"
    },
    {
     "data": {
      "image/png": "[encoded data removed]",
      "text/plain": [
       "<Figure size 640x480 with 1 Axes>"
      ]
     },
     "metadata": {},
     "output_type": "display_data"
    }
   ],
   "source": [
    "# BEGIN YOUR CODE HERE\n",
    "results_dict = {\n",
    "    \"depth\": [],\n",
    "    \"mean_train_error\": [],\n",
    "    \"mean_cv_error\": [],\n",
    "    \"std_cv_error\": [],\n",
    "    \"std_train_error\": [],\n",
    "}\n",
    "\n",
    "param_grid = {\"max_depth\": np.arange(1,16)}\n",
    "\n",
    "for depth in param_grid[\"max_depth\"]:\n",
    "    model = DecisionTreeClassifier(max_depth=depth)\n",
    "    scores = cross_validate(model, X_train, y_train,\n",
    "                            cv=10, return_train_score=True)\n",
    "    results_dict[\"depth\"].append(depth)\n",
    "    results_dict[\"mean_cv_error\"].append(1 - np.mean(scores[\"test_score\"]))\n",
    "    results_dict[\"mean_train_error\"].append(1 - np.mean(scores[\"train_score\"]))\n",
    "    results_dict[\"std_cv_error\"].append(scores[\"test_score\"].std())\n",
    "    results_dict[\"std_train_error\"].append(scores[\"train_score\"].std())\n",
    "    \n",
    "results_df = pd.DataFrame(results_dict)\n",
    "results_df = results_df.set_index(\"depth\")\n",
    "\n",
    "results_df[[\"mean_train_error\", \"mean_cv_error\"]].plot()\n",
    "\n",
    "# END YOUR CODE HERE"
   ]
  },
  {
   "cell_type": "markdown",
   "metadata": {
    "deletable": false,
    "id": "-aq1HciMb_gk",
    "nbgrader": {
     "cell_type": "markdown",
     "checksum": "8f5b1cab236fca8b23063a62141ff253",
     "grade": true,
     "grade_id": "cell-9bbb86d59cdb7a4a",
     "locked": false,
     "points": 0,
     "schema_version": 3,
     "solution": true,
     "task": false
    }
   },
   "source": [
    "As we increase the max_depth hyperparameter we see the training accuracy decrease while the cross validation accuracy increase. We don't expect the cross validation to decrease as the training accuracy decreases so we view an expected output. We want to pick a depth with the minimum cross-validation error. For our situation that would be around a depth value of 4. I believe that all datasets require small modifications to accompany them. So, the chosen depths may work well for this dataset but could be worse for a different one."
   ]
  },
  {
   "cell_type": "markdown",
   "metadata": {
    "id": "2g2OHIaeb_gk"
   },
   "source": [
    "## Exercise 4: Test set\n",
    "rubric={points:10}\n",
    "\n",
    "Remember the test set you created way back at the beginning of this assignment? Let's use it now to see if our cross-validation score from the previous exercise is trustworthy. \n",
    "\n",
    "- Select your favorite `max_depth` from the previous part.\n",
    "- Train a decision tree classifier using that `max_depth` on the _entire training set_.\n",
    "- Compute and display the test score. "
   ]
  },
  {
   "cell_type": "code",
   "execution_count": 30,
   "metadata": {
    "colab": {
     "base_uri": "https://localhost:8080/"
    },
    "deletable": false,
    "id": "BceWsGGz2B6M",
    "nbgrader": {
     "cell_type": "code",
     "checksum": "4cba16beedbaf5bee4dcbd9b8e2f21e8",
     "grade": true,
     "grade_id": "cell-2589d747c10fddd6",
     "locked": false,
     "points": 5,
     "schema_version": 3,
     "solution": true,
     "task": false
    },
    "outputId": "734563d9-05c1-4b38-ae27-63c13dacb3f7"
   },
   "outputs": [
    {
     "data": {
      "text/plain": [
       "{'fit_time': array([0.00674796, 0.00404119, 0.00465298, 0.00810385, 0.00423765,\n",
       "        0.00357699, 0.00295115, 0.00291777, 0.00311208, 0.00297713]),\n",
       " 'score_time': array([0.00154972, 0.00125813, 0.00139689, 0.00228024, 0.0012269 ,\n",
       "        0.00164795, 0.00139952, 0.00109696, 0.00121927, 0.00133395]),\n",
       " 'test_score': array([0.7254902 , 0.60784314, 0.56862745, 0.58823529, 0.56862745,\n",
       "        0.58      , 0.68      , 0.72      , 0.74      , 0.74      ]),\n",
       " 'train_score': array([0.81057269, 0.83480176, 0.82819383, 0.83920705, 0.81497797,\n",
       "        0.81098901, 0.8021978 , 0.80879121, 0.78901099, 0.82417582])}"
      ]
     },
     "execution_count": 30,
     "metadata": {},
     "output_type": "execute_result"
    }
   ],
   "source": [
    "# BEGIN YOUR CODE HERE\n",
    "\n",
    "model = DecisionTreeClassifier(max_depth=5)\n",
    "scores = cross_validate(model, X_test, y_test,\n",
    "                        cv=10, return_train_score=True)\n",
    "\n",
    "scores\n",
    "\n",
    "# END YOUR CODE HERE"
   ]
  },
  {
   "cell_type": "markdown",
   "metadata": {},
   "source": [
    "How does it compare to the cross-validation score from the previous exercise? Briefly discuss. "
   ]
  },
  {
   "cell_type": "markdown",
   "metadata": {
    "deletable": false,
    "id": "S-G_2bK_8hxR",
    "nbgrader": {
     "cell_type": "markdown",
     "checksum": "d8e0b0babb3c2c0d0d7133cc2051f414",
     "grade": true,
     "grade_id": "cell-0e4d1a2613fcbd1d",
     "locked": false,
     "points": 5,
     "schema_version": 3,
     "solution": true,
     "task": false
    }
   },
   "source": [
    "The values that we see here are pretty close to the previous exercise. This indicates that our results are trustworthy."
   ]
  },
  {
   "cell_type": "markdown",
   "metadata": {
    "deletable": false,
    "editable": false,
    "id": "U6DWrQU5b_gl",
    "nbgrader": {
     "cell_type": "markdown",
     "checksum": "f760aab0644cf6f58dd59a68fd255705",
     "grade": false,
     "grade_id": "cell-e49d29625e38812d",
     "locked": true,
     "points": 10,
     "schema_version": 3,
     "solution": false,
     "task": true
    }
   },
   "source": [
    "## Submission instructions \n",
    "rubric={points:10}\n",
    "\n",
    "**PLEASE READ:** When you are ready to submit your assignment do the following:\n",
    "\n",
    "1. Run all cells in your notebook to make sure there are no errors by doing `Kernel -> Restart Kernel and Clear All Outputs` and then `Run -> Run All Cells`. \n",
    "2. Notebooks with cell execution numbers out of order or not starting from “1” will have marks deducted. Notebooks without the output displayed may not be graded at all (because we need to see the output in order to grade your work).\n",
    "3. Upload the assignment at Canvas. \n",
    "4. Finish the corresponding reflection survey."
   ]
  }
 ],
 "metadata": {
  "anaconda-cloud": {},
  "colab": {
   "collapsed_sections": [],
   "name": "CS4320_hw2_TA.ipynb",
   "provenance": []
  },
  "jupytext": {
   "formats": "ipynb,md"
  },
  "kernelspec": {
   "display_name": "Python 3.9.5 64-bit",
   "language": "python",
   "name": "python3"
  },
  "language_info": {
   "codemirror_mode": {
    "name": "ipython",
    "version": 3
   },
   "file_extension": ".py",
   "mimetype": "text/x-python",
   "name": "python",
   "nbconvert_exporter": "python",
   "pygments_lexer": "ipython3",
   "version": "3.9.5"
  },
  "toc": {
   "base_numbering": 1,
   "nav_menu": {},
   "number_sections": true,
   "sideBar": true,
   "skip_h1_title": true,
   "title_cell": "Table of Contents",
   "title_sidebar": "Contents",
   "toc_cell": false,
   "toc_position": {
    "height": "calc(100% - 180px)",
    "left": "10px",
    "top": "150px",
    "width": "272px"
   },
   "toc_section_display": true,
   "toc_window_display": true
  },
  "vscode": {
   "interpreter": {
    "hash": "f9f85f796d01129d0dd105a088854619f454435301f6ffec2fea96ecbd9be4ac"
   }
  }
 },
 "nbformat": 4,
 "nbformat_minor": 1
}
