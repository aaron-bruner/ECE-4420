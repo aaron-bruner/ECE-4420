{
 "cells": [
  {
   "cell_type": "markdown",
   "id": "733870d2",
   "metadata": {
    "id": "vHR1JqHOMRT1"
   },
   "source": [
    "# Homework 5.1: Logistic regression, hyperparameter optimization"
   ]
  },
  {
   "cell_type": "markdown",
   "id": "0b844b59",
   "metadata": {
    "id": "tTW89q0sMRT2"
   },
   "source": [
    "## Imports "
   ]
  },
  {
   "cell_type": "code",
   "execution_count": 1,
   "id": "46f20ff2",
   "metadata": {
    "id": "lliyIwrEMRT2"
   },
   "outputs": [],
   "source": [
    "import matplotlib.pyplot as plt\n",
    "import numpy as np\n",
    "import pandas as pd\n",
    "import os\n",
    "import gdown\n",
    "\n",
    "plt.rcParams[\"font.size\"] = 16\n",
    "\n",
    "from sklearn.dummy import DummyClassifier\n",
    "from sklearn.feature_extraction.text import CountVectorizer\n",
    "from sklearn.linear_model import LogisticRegression\n",
    "from sklearn.model_selection import (\n",
    "    GridSearchCV,\n",
    "    cross_val_score,\n",
    "    cross_validate,\n",
    "    train_test_split,\n",
    ")\n",
    "from sklearn.pipeline import Pipeline, make_pipeline\n",
    "from sklearn.tree import DecisionTreeClassifier"
   ]
  },
  {
   "cell_type": "markdown",
   "id": "8d070263",
   "metadata": {
    "id": "0nTc4JYaMRT3"
   },
   "source": [
    "## Exercise 1: implementing `DummyClassifier`\n",
    "<hr>\n",
    "rubric={points:25}\n",
    "\n",
    "You will implement the simplest possible classifier, `DummyClassifier`.\n",
    "\n",
    "As a reminder, `DummyClassifier` is meant as a baseline and is generally the worst possible \"model\" you could \"fit\" to a dataset. All it does is predict the most popular class in the training set. So if there are more label(0) than label(1) it predicts label(0) every time, and if there are more label(1) than label(0) it predicts label(1) every time. For `predict_proba` it looks at the frequencies in the training set, so if you have 30% label(0) 70% label(1) it predicts `[0.3 0.7]` every time. Thus, `fit` only looks at `y` (not `X`).\n",
    "\n",
    "Below you will find starter code for a class called `MyDummyClassifier`, which has methods `fit()`, `predict()`, `predict_proba()` and `score()`. Your task is to fill in those four functions. To get you started, I have given you a `return` statement in each case that returns the correct data type: `fit` can return nothing, `predict` returns an array whose size is the number of examples, `predict_proba` returns an array whose size is the number of examples x 2, and `score` returns a number.\n",
    "\n",
    "The next code block has some tests you can use to assess whether your code is working. \n",
    "\n",
    "I suggest starting with `fit` and `predict`, and making sure those are working before moving on to `predict_proba`. For `predict_proba`, you should return the frequency of each class in the training data, which is the behaviour of [`DummyClassifier(strategy='prior')`](https://scikit-learn.org/stable/modules/generated/sklearn.dummy.DummyClassifier.html?highlight=dummyclassifier+strategy+prior). Your `score` function should call your `predict` function. Again, you can compare with `DummyClassifier` using the code below.\n",
    "\n",
    "To simplify this question, you can assume **binary classification**, and furthermore that these classes are **encoded as 0 and 1**. In other words, you can assume that `y` contains only 0s and 1s. The real `DummyClassifier` works when you have more than two classes, and also works if the target values are encoded differently, for example as \"cat\", \"dog\", \"mouse\", etc."
   ]
  },
  {
   "cell_type": "code",
   "execution_count": 2,
   "id": "00aae64b",
   "metadata": {
    "deletable": false,
    "id": "0hqSNY5sMRT4",
    "nbgrader": {
     "cell_type": "code",
     "checksum": "c5ba10907af117c07f9337827dab440b",
     "grade": true,
     "grade_id": "cell-90012f81d1b59a0f",
     "locked": false,
     "points": 25,
     "schema_version": 3,
     "solution": true,
     "task": false
    }
   },
   "outputs": [],
   "source": [
    "class MyDummyClassifier:\n",
    "    \"\"\"\n",
    "    A baseline classifier that predicts the most common class.\n",
    "    The predicted probabilities come from the relative frequencies\n",
    "    of the classes in the training data.\n",
    "\n",
    "    This implementation only works when y only contains 0s and 1s.\n",
    "    \"\"\"\n",
    "    def __init__(self):\n",
    "        # BEGIN YOUR CODE HERE\n",
    "        \n",
    "        \n",
    "        # END YOUR CODE HERE\n",
    "        return None\n",
    "        \n",
    "    def fit(self, X, y):\n",
    "        # BEGIN YOUR CODE HERE\n",
    "        self.labels = pd.Series(y).value_counts().idxmax()\n",
    "        self.proportions = np.array([y.size - np.count_nonzero(y), np.count_nonzero(y)])/y.size\n",
    "        # END YOUR CODE HERE\n",
    "        return self\n",
    "\n",
    "\n",
    "    def predict(self, X):\n",
    "        # BEGIN YOUR CODE HERE\n",
    "        return np.full(X.shape[0], self.labels) \n",
    "        # END YOUR CODE HERE\n",
    "   \n",
    "\n",
    "    def predict_proba(self, X):\n",
    "        # BEGIN YOUR CODE HERE\n",
    "        return np.tile(self.proportions, reps=(X.shape[0], 1))       \n",
    "        # END YOUR CODE HERE\n",
    "\n",
    "\n",
    "    def score(self, X, y):\n",
    "        # BEGIN YOUR CODE HERE\n",
    "        return np.mean(self.predict(X) == y)\n",
    "        # END YOUR CODE HERE"
   ]
  },
  {
   "cell_type": "markdown",
   "id": "ff2ddb38",
   "metadata": {
    "id": "rJq_q0qiMRT4"
   },
   "source": [
    "Below are some tests for `predict` using randomly generated data. You may want to run the cell a few times to make sure you explore the different cases (or automate this with a loop or random seeds)."
   ]
  },
  {
   "cell_type": "code",
   "execution_count": 3,
   "id": "f8cf027f",
   "metadata": {
    "id": "7wvFcB5CMRT4"
   },
   "outputs": [],
   "source": [
    "# For testing, generate random data\n",
    "n_train = 101\n",
    "n_valid = 21\n",
    "d = 5\n",
    "X_train_dummy = np.random.randn(n_train, d)\n",
    "X_valid_dummy = np.random.randn(n_valid, d)\n",
    "y_train_dummy = np.random.randint(2, size=n_train)\n",
    "y_valid_dummy = np.random.randint(2, size=n_valid)\n",
    "\n",
    "my_dc = MyDummyClassifier()\n",
    "sk_dc = DummyClassifier(strategy=\"prior\")\n",
    "\n",
    "my_dc.fit(X_train_dummy, y_train_dummy)\n",
    "sk_dc.fit(X_train_dummy, y_train_dummy)\n",
    "\n",
    "assert np.array_equal(my_dc.predict(X_train_dummy), sk_dc.predict(X_train_dummy))\n",
    "assert np.array_equal(my_dc.predict(X_valid_dummy), sk_dc.predict(X_valid_dummy))"
   ]
  },
  {
   "cell_type": "markdown",
   "id": "40f4255a",
   "metadata": {
    "id": "-AvhG5n5MRT5"
   },
   "source": [
    "Below are some tests for `predict_proba`."
   ]
  },
  {
   "cell_type": "code",
   "execution_count": 4,
   "id": "291ec9bd",
   "metadata": {
    "id": "v-05HEiIMRT5"
   },
   "outputs": [],
   "source": [
    "assert np.allclose(my_dc.predict_proba(X_train_dummy), sk_dc.predict_proba(X_train_dummy))\n",
    "assert np.allclose(my_dc.predict_proba(X_valid_dummy), sk_dc.predict_proba(X_valid_dummy))"
   ]
  },
  {
   "cell_type": "markdown",
   "id": "80b2a79d",
   "metadata": {
    "id": "wpQIVhQ3MRT5"
   },
   "source": [
    "Below are some tests for `score`."
   ]
  },
  {
   "cell_type": "code",
   "execution_count": 5,
   "id": "d6f9b747",
   "metadata": {
    "id": "k9LvzdYKMRT5"
   },
   "outputs": [],
   "source": [
    "assert np.isclose(my_dc.score(X_train_dummy, y_train_dummy), sk_dc.score(X_train_dummy, y_train_dummy))\n",
    "assert np.isclose(my_dc.score(X_valid_dummy, y_valid_dummy), sk_dc.score(X_valid_dummy, y_valid_dummy))"
   ]
  },
  {
   "cell_type": "markdown",
   "id": "6ac52105",
   "metadata": {
    "incorrectly_encoded_metadata": "id=\"L5KkCpMWMRT5\" nbgrader={\"grade\": false, \"grade_id\": \"cell-8e3cc53df86a7e14\", \"locked\": true, \"schema_version\": 3, \"solution\": false, \"task\": false} toc-hr-collapsed=true"
   },
   "source": [
    "## Exercise 2: Trump Tweets\n",
    "<hr>\n",
    "rubric={points:35}\n",
    "\n",
    "For the rest of this assignment we'll be looking at a [dataset of Donald Trump's tweets](https://www.kaggle.com/austinreese/trump-tweets) as of June 2020. You should start by downloading the dataset. \n",
    "\n",
    "**As usual, please do not submit the dataset when you submit the assignment.**"
   ]
  },
  {
   "cell_type": "code",
   "execution_count": 6,
   "id": "3a18bb00",
   "metadata": {},
   "outputs": [],
   "source": [
    "if not os.path.exists(\"realdonaldtrump.csv\"):\n",
    "    url = \"https://drive.google.com/file/d/1xeYHzPhraO6rVqWa70Pp9T_xUHjaFMk0/view?usp=sharing\"\n",
    "    output = \"realdonaldtrump.csv\"\n",
    "    md5 = \"dce8232309417781a68ab484ff23fa94\"\n",
    "    gdown.cached_download(url, output, md5=md5, fuzzy=True)"
   ]
  },
  {
   "cell_type": "code",
   "execution_count": 7,
   "id": "e8aeb562",
   "metadata": {
    "id": "9pyaIYSsMRT5"
   },
   "outputs": [
    {
     "data": {
      "text/html": [
       "<div>\n",
       "<style scoped>\n",
       "    .dataframe tbody tr th:only-of-type {\n",
       "        vertical-align: middle;\n",
       "    }\n",
       "\n",
       "    .dataframe tbody tr th {\n",
       "        vertical-align: top;\n",
       "    }\n",
       "\n",
       "    .dataframe thead th {\n",
       "        text-align: right;\n",
       "    }\n",
       "</style>\n",
       "<table border=\"1\" class=\"dataframe\">\n",
       "  <thead>\n",
       "    <tr style=\"text-align: right;\">\n",
       "      <th></th>\n",
       "      <th>link</th>\n",
       "      <th>content</th>\n",
       "      <th>date</th>\n",
       "      <th>retweets</th>\n",
       "      <th>favorites</th>\n",
       "      <th>mentions</th>\n",
       "      <th>hashtags</th>\n",
       "    </tr>\n",
       "    <tr>\n",
       "      <th>id</th>\n",
       "      <th></th>\n",
       "      <th></th>\n",
       "      <th></th>\n",
       "      <th></th>\n",
       "      <th></th>\n",
       "      <th></th>\n",
       "      <th></th>\n",
       "    </tr>\n",
       "  </thead>\n",
       "  <tbody>\n",
       "    <tr>\n",
       "      <th>1698308935</th>\n",
       "      <td>https://twitter.com/realDonaldTrump/status/169...</td>\n",
       "      <td>Be sure to tune in and watch Donald Trump on L...</td>\n",
       "      <td>2009-05-04 13:54:25</td>\n",
       "      <td>510</td>\n",
       "      <td>917</td>\n",
       "      <td>NaN</td>\n",
       "      <td>NaN</td>\n",
       "    </tr>\n",
       "    <tr>\n",
       "      <th>1701461182</th>\n",
       "      <td>https://twitter.com/realDonaldTrump/status/170...</td>\n",
       "      <td>Donald Trump will be appearing on The View tom...</td>\n",
       "      <td>2009-05-04 20:00:10</td>\n",
       "      <td>34</td>\n",
       "      <td>267</td>\n",
       "      <td>NaN</td>\n",
       "      <td>NaN</td>\n",
       "    </tr>\n",
       "    <tr>\n",
       "      <th>1737479987</th>\n",
       "      <td>https://twitter.com/realDonaldTrump/status/173...</td>\n",
       "      <td>Donald Trump reads Top Ten Financial Tips on L...</td>\n",
       "      <td>2009-05-08 08:38:08</td>\n",
       "      <td>13</td>\n",
       "      <td>19</td>\n",
       "      <td>NaN</td>\n",
       "      <td>NaN</td>\n",
       "    </tr>\n",
       "    <tr>\n",
       "      <th>1741160716</th>\n",
       "      <td>https://twitter.com/realDonaldTrump/status/174...</td>\n",
       "      <td>New Blog Post: Celebrity Apprentice Finale and...</td>\n",
       "      <td>2009-05-08 15:40:15</td>\n",
       "      <td>11</td>\n",
       "      <td>26</td>\n",
       "      <td>NaN</td>\n",
       "      <td>NaN</td>\n",
       "    </tr>\n",
       "    <tr>\n",
       "      <th>1773561338</th>\n",
       "      <td>https://twitter.com/realDonaldTrump/status/177...</td>\n",
       "      <td>\"My persona will never be that of a wallflower...</td>\n",
       "      <td>2009-05-12 09:07:28</td>\n",
       "      <td>1375</td>\n",
       "      <td>1945</td>\n",
       "      <td>NaN</td>\n",
       "      <td>NaN</td>\n",
       "    </tr>\n",
       "  </tbody>\n",
       "</table>\n",
       "</div>"
      ],
      "text/plain": [
       "                                                         link  \\\n",
       "id                                                              \n",
       "1698308935  https://twitter.com/realDonaldTrump/status/169...   \n",
       "1701461182  https://twitter.com/realDonaldTrump/status/170...   \n",
       "1737479987  https://twitter.com/realDonaldTrump/status/173...   \n",
       "1741160716  https://twitter.com/realDonaldTrump/status/174...   \n",
       "1773561338  https://twitter.com/realDonaldTrump/status/177...   \n",
       "\n",
       "                                                      content  \\\n",
       "id                                                              \n",
       "1698308935  Be sure to tune in and watch Donald Trump on L...   \n",
       "1701461182  Donald Trump will be appearing on The View tom...   \n",
       "1737479987  Donald Trump reads Top Ten Financial Tips on L...   \n",
       "1741160716  New Blog Post: Celebrity Apprentice Finale and...   \n",
       "1773561338  \"My persona will never be that of a wallflower...   \n",
       "\n",
       "                           date  retweets  favorites mentions hashtags  \n",
       "id                                                                      \n",
       "1698308935  2009-05-04 13:54:25       510        917      NaN      NaN  \n",
       "1701461182  2009-05-04 20:00:10        34        267      NaN      NaN  \n",
       "1737479987  2009-05-08 08:38:08        13         19      NaN      NaN  \n",
       "1741160716  2009-05-08 15:40:15        11         26      NaN      NaN  \n",
       "1773561338  2009-05-12 09:07:28      1375       1945      NaN      NaN  "
      ]
     },
     "execution_count": 7,
     "metadata": {},
     "output_type": "execute_result"
    }
   ],
   "source": [
    "tweets_df = pd.read_csv(\"realdonaldtrump.csv\", index_col=0)\n",
    "tweets_df.head()"
   ]
  },
  {
   "cell_type": "code",
   "execution_count": 8,
   "id": "988a35b3",
   "metadata": {
    "id": "rdzMVX8oMRT5"
   },
   "outputs": [
    {
     "data": {
      "text/plain": [
       "(43352, 7)"
      ]
     },
     "execution_count": 8,
     "metadata": {},
     "output_type": "execute_result"
    }
   ],
   "source": [
    "tweets_df.shape"
   ]
  },
  {
   "cell_type": "markdown",
   "id": "b9023a46",
   "metadata": {
    "id": "M80K1rN5MRT6"
   },
   "source": [
    "We will be trying to predict whether a tweet will go \"viral\", defined as having more than 10,000 retweets:"
   ]
  },
  {
   "cell_type": "code",
   "execution_count": 9,
   "id": "3e77bef6",
   "metadata": {
    "id": "9kPboX_cMRT6"
   },
   "outputs": [],
   "source": [
    "y = tweets_df[\"retweets\"] > 10_000 "
   ]
  },
  {
   "cell_type": "markdown",
   "id": "d613e12d",
   "metadata": {
    "id": "7Ak2bYYFMRT6"
   },
   "source": [
    "To make predictions, we'll be using only the content (text) of the tweet. "
   ]
  },
  {
   "cell_type": "code",
   "execution_count": 10,
   "id": "ab1ddcc8",
   "metadata": {
    "id": "nsut7RqaMRT6"
   },
   "outputs": [],
   "source": [
    "X = tweets_df[\"content\"]"
   ]
  },
  {
   "cell_type": "markdown",
   "id": "f367d888",
   "metadata": {
    "id": "wHDv4GSFMRT6"
   },
   "source": [
    "For the purpose of this assignment, you can ignore all the other columns in the original dataset."
   ]
  },
  {
   "cell_type": "markdown",
   "id": "3621e71e",
   "metadata": {
    "id": "cAPtqdzcMRT6"
   },
   "source": [
    "#### 2(a) ordering the steps\n",
    "rubric={points:8}"
   ]
  },
  {
   "cell_type": "markdown",
   "id": "3cad3bda",
   "metadata": {
    "id": "43afb-2VMRT6"
   },
   "source": [
    "Let's start by building a model using `CountVectorizer` and `LogisticRegression`. The code required to do this has been provided below, but in the wrong order. \n",
    "\n",
    "- Rearrange the lines of code to correctly fit the model and compute the cross-validation score. {points: 4} \n",
    "- Add a short comment to each block to describe what the code is doing. {points: 4}\n"
   ]
  },
  {
   "cell_type": "code",
   "execution_count": 11,
   "id": "5e70c2bc",
   "metadata": {
    "id": "SkWw3qsCMRT7",
    "tags": [
     "raises-exception"
    ]
   },
   "outputs": [
    {
     "data": {
      "text/plain": [
       "fit_time       3.893374\n",
       "score_time     0.208801\n",
       "test_score     0.897890\n",
       "train_score    0.967045\n",
       "dtype: float64"
      ]
     },
     "execution_count": 11,
     "metadata": {},
     "output_type": "execute_result"
    }
   ],
   "source": [
    "'''\n",
    "You can skip this cell and insert your code in the next cell. \n",
    "After that, to make sure you can run all cells without any error, \n",
    "you can comment the code in this cell or simply delete this cell\n",
    "'''\n",
    "# initialize the CountVectorizer with setting to remove built-in set of English stopwords (commonly-used English words that do not add much meaning)\n",
    "countvec = CountVectorizer(stop_words=\"english\")\n",
    "\n",
    "# Split up the training and test data and use specified random value for grader\n",
    "X_train, X_test, y_train, y_test = train_test_split(X, y, random_state=321)\n",
    "\n",
    "# LogisticRegression classifier with maximum number of iterations set to 1000\n",
    "lr = LogisticRegression(max_iter=1000)\n",
    "\n",
    "# connect CountVectorizer and LogisticRegression without breaking golden rule\n",
    "pipe = make_pipeline(countvec, lr)\n",
    "\n",
    "# store cross validation results in DataFrame\n",
    "cross_val_results = pd.DataFrame(cross_validate(pipe, X_train, y_train, return_train_score=True))\n",
    "\n",
    "# show the means of cross-validation results\n",
    "cross_val_results.mean()"
   ]
  },
  {
   "cell_type": "markdown",
   "id": "7c175f05",
   "metadata": {
    "id": "imnr-RgCcrCP"
   },
   "source": [
    "Expected Output. (Note that we round to three decimal places. Your output could have more decimal places. )\n",
    "- test_score     0.897\n",
    "- train_score    0.967"
   ]
  },
  {
   "cell_type": "markdown",
   "id": "a81e7857",
   "metadata": {
    "id": "6EFl-NTiMRT7"
   },
   "source": [
    "#### 2(b) Cross-validation fold sub-scores\n",
    "rubric={points:3}\n",
    "\n",
    "Above we averaged the scores from the 5 folds of cross-validation. \n",
    "\n",
    "- Print out the 5 individual scores. Reminder: `sklearn` calls them `\"test_score\"` but they are really (cross-)validation scores. {points:1} "
   ]
  },
  {
   "cell_type": "code",
   "execution_count": 12,
   "id": "c803b4c1",
   "metadata": {
    "deletable": false,
    "id": "HXTVaHDnscHP",
    "nbgrader": {
     "cell_type": "code",
     "checksum": "87c596d35849659d52119792cafb429f",
     "grade": true,
     "grade_id": "cell-d79b08be770e77db",
     "locked": false,
     "points": 1,
     "schema_version": 3,
     "solution": true,
     "task": false
    }
   },
   "outputs": [
    {
     "name": "stdout",
     "output_type": "stream",
     "text": [
      "0    0.899123\n",
      "1    0.899739\n",
      "2    0.896356\n",
      "3    0.898201\n",
      "4    0.896032\n",
      "Name: test_score, dtype: float64\n"
     ]
    }
   ],
   "source": [
    "# BEGIN YOUR CODE HERE\n",
    "print(cross_val_results[\"test_score\"])\n",
    "# END YOUR CODE HERE"
   ]
  },
  {
   "cell_type": "markdown",
   "id": "057cd4fa",
   "metadata": {},
   "source": [
    "- Are the 5 scores close to each other or spread far apart? (This is a bit subjective, answer to the best of your ability.) {points:1}\n"
   ]
  },
  {
   "cell_type": "markdown",
   "id": "ceab80b9",
   "metadata": {
    "deletable": false,
    "nbgrader": {
     "cell_type": "markdown",
     "checksum": "668f50b02072c12689c5fd0c76f602a5",
     "grade": true,
     "grade_id": "cell-9ae5fc09a21b8d86",
     "locked": false,
     "points": 1,
     "schema_version": 3,
     "solution": true,
     "task": false
    }
   },
   "source": [
    "The above 5 scores are close together."
   ]
  },
  {
   "cell_type": "markdown",
   "id": "0ae3cf66",
   "metadata": {},
   "source": [
    "- How does the size of this dataset (number of rows) compare to the cities dataset we have been using in class? How does this relate to the different sub-scores from the 5 folds? {points:1}"
   ]
  },
  {
   "cell_type": "markdown",
   "id": "3a00a93d",
   "metadata": {
    "deletable": false,
    "id": "vCBVlDhVQ24g",
    "nbgrader": {
     "cell_type": "markdown",
     "checksum": "56b9230d85bc18cddf17da2964f0194b",
     "grade": true,
     "grade_id": "cell-d80852128ebc3ccd",
     "locked": false,
     "points": 1,
     "schema_version": 3,
     "solution": true,
     "task": false
    }
   },
   "source": [
    "The number of rows in the cities dataset is relatively small which results in larger differences in validation scores with the same model."
   ]
  },
  {
   "cell_type": "markdown",
   "id": "5cf40164",
   "metadata": {
    "id": "fRWX4knvMRT7"
   },
   "source": [
    "#### 2(c) baseline\n",
    "rubric={points:5}\n",
    "\n",
    "By the way, are these scores any good? \n",
    "\n",
    "- Run `DummyClassifier` (or `MyDummyClassifier`!) on this dataset (You only do cross validation on the training data like (a)). {points:2}\n",
    "    - Expected Output. Mean cross_val_results is\n",
    "        - test_score     0.738\n",
    "        - train_score    0.738"
   ]
  },
  {
   "cell_type": "code",
   "execution_count": 13,
   "id": "decd06a7",
   "metadata": {
    "deletable": false,
    "id": "H4DxMIdOyJS_",
    "nbgrader": {
     "cell_type": "code",
     "checksum": "93846614600b3872af4283fdef843f7d",
     "grade": true,
     "grade_id": "cell-b4a922e09011e0aa",
     "locked": false,
     "points": 2,
     "schema_version": 3,
     "solution": true,
     "task": false
    }
   },
   "outputs": [
    {
     "data": {
      "text/plain": [
       "fit_time       0.845432\n",
       "score_time     0.194327\n",
       "test_score     0.738543\n",
       "train_score    0.738543\n",
       "dtype: float64"
      ]
     },
     "execution_count": 13,
     "metadata": {},
     "output_type": "execute_result"
    }
   ],
   "source": [
    "# BEGIN YOUR CODE HERE\n",
    "results = pd.DataFrame(\n",
    "    cross_validate(make_pipeline(countvec, DummyClassifier()), X_train, y_train, return_train_score=True)\n",
    ")\n",
    "\n",
    "results.mean()\n",
    "# END YOUR CODE HERE"
   ]
  },
  {
   "cell_type": "markdown",
   "id": "ec5df62c",
   "metadata": {},
   "source": [
    "- Compare the `DummyClassifier` score to what you got from logistic regression above. Does logistic regression seem to be doing anything useful? {points:1}"
   ]
  },
  {
   "cell_type": "markdown",
   "id": "8d27a7d6",
   "metadata": {
    "deletable": false,
    "nbgrader": {
     "cell_type": "markdown",
     "checksum": "a6b21fe5b7abcd3706241b7e101e2a92",
     "grade": true,
     "grade_id": "cell-f817f9e8b5a1b8b2",
     "locked": false,
     "points": 1,
     "schema_version": 3,
     "solution": true,
     "task": false
    }
   },
   "source": [
    "Yes, logistic regression is doing something useful. The score from logistic regression is higher than the DummyClassifier."
   ]
  },
  {
   "cell_type": "markdown",
   "id": "dbd29abe",
   "metadata": {},
   "source": [
    "- Is it necessary to use `CountVectorizer` here? Briefly explain. {points:2}"
   ]
  },
  {
   "cell_type": "markdown",
   "id": "381ead88",
   "metadata": {
    "deletable": false,
    "id": "EIABdTQC0fiv",
    "nbgrader": {
     "cell_type": "markdown",
     "checksum": "66c9e0064e1393a13b2bdbef54835c05",
     "grade": true,
     "grade_id": "cell-199dbb403be04532",
     "locked": false,
     "points": 2,
     "schema_version": 3,
     "solution": true,
     "task": false
    }
   },
   "source": [
    "No it's not necessary to use CountVectorizer here. Because DummyClassifier fits the model by using the most popular target label so vectorizing has no benefit."
   ]
  },
  {
   "cell_type": "markdown",
   "id": "cfb8692f",
   "metadata": {
    "id": "baOChYrAMRT7"
   },
   "source": [
    "#### 2(d) probability scores\n",
    "rubric={points:5}\n",
    "\n",
    "Here we train a logistic regression classifier on the entire training set: \n",
    "\n",
    "(Note: this is relying on the `pipe` variable from 2(a) - you'll need to redefine it if you overwrote that variable in between.)"
   ]
  },
  {
   "cell_type": "code",
   "execution_count": 14,
   "id": "5d7b4f59",
   "metadata": {
    "id": "IOa6AmwKMRT7"
   },
   "outputs": [
    {
     "data": {
      "text/html": [
       "<style>#sk-container-id-1 {color: black;background-color: white;}#sk-container-id-1 pre{padding: 0;}#sk-container-id-1 div.sk-toggleable {background-color: white;}#sk-container-id-1 label.sk-toggleable__label {cursor: pointer;display: block;width: 100%;margin-bottom: 0;padding: 0.3em;box-sizing: border-box;text-align: center;}#sk-container-id-1 label.sk-toggleable__label-arrow:before {content: \"▸\";float: left;margin-right: 0.25em;color: #696969;}#sk-container-id-1 label.sk-toggleable__label-arrow:hover:before {color: black;}#sk-container-id-1 div.sk-estimator:hover label.sk-toggleable__label-arrow:before {color: black;}#sk-container-id-1 div.sk-toggleable__content {max-height: 0;max-width: 0;overflow: hidden;text-align: left;background-color: #f0f8ff;}#sk-container-id-1 div.sk-toggleable__content pre {margin: 0.2em;color: black;border-radius: 0.25em;background-color: #f0f8ff;}#sk-container-id-1 input.sk-toggleable__control:checked~div.sk-toggleable__content {max-height: 200px;max-width: 100%;overflow: auto;}#sk-container-id-1 input.sk-toggleable__control:checked~label.sk-toggleable__label-arrow:before {content: \"▾\";}#sk-container-id-1 div.sk-estimator input.sk-toggleable__control:checked~label.sk-toggleable__label {background-color: #d4ebff;}#sk-container-id-1 div.sk-label input.sk-toggleable__control:checked~label.sk-toggleable__label {background-color: #d4ebff;}#sk-container-id-1 input.sk-hidden--visually {border: 0;clip: rect(1px 1px 1px 1px);clip: rect(1px, 1px, 1px, 1px);height: 1px;margin: -1px;overflow: hidden;padding: 0;position: absolute;width: 1px;}#sk-container-id-1 div.sk-estimator {font-family: monospace;background-color: #f0f8ff;border: 1px dotted black;border-radius: 0.25em;box-sizing: border-box;margin-bottom: 0.5em;}#sk-container-id-1 div.sk-estimator:hover {background-color: #d4ebff;}#sk-container-id-1 div.sk-parallel-item::after {content: \"\";width: 100%;border-bottom: 1px solid gray;flex-grow: 1;}#sk-container-id-1 div.sk-label:hover label.sk-toggleable__label {background-color: #d4ebff;}#sk-container-id-1 div.sk-serial::before {content: \"\";position: absolute;border-left: 1px solid gray;box-sizing: border-box;top: 0;bottom: 0;left: 50%;z-index: 0;}#sk-container-id-1 div.sk-serial {display: flex;flex-direction: column;align-items: center;background-color: white;padding-right: 0.2em;padding-left: 0.2em;position: relative;}#sk-container-id-1 div.sk-item {position: relative;z-index: 1;}#sk-container-id-1 div.sk-parallel {display: flex;align-items: stretch;justify-content: center;background-color: white;position: relative;}#sk-container-id-1 div.sk-item::before, #sk-container-id-1 div.sk-parallel-item::before {content: \"\";position: absolute;border-left: 1px solid gray;box-sizing: border-box;top: 0;bottom: 0;left: 50%;z-index: -1;}#sk-container-id-1 div.sk-parallel-item {display: flex;flex-direction: column;z-index: 1;position: relative;background-color: white;}#sk-container-id-1 div.sk-parallel-item:first-child::after {align-self: flex-end;width: 50%;}#sk-container-id-1 div.sk-parallel-item:last-child::after {align-self: flex-start;width: 50%;}#sk-container-id-1 div.sk-parallel-item:only-child::after {width: 0;}#sk-container-id-1 div.sk-dashed-wrapped {border: 1px dashed gray;margin: 0 0.4em 0.5em 0.4em;box-sizing: border-box;padding-bottom: 0.4em;background-color: white;}#sk-container-id-1 div.sk-label label {font-family: monospace;font-weight: bold;display: inline-block;line-height: 1.2em;}#sk-container-id-1 div.sk-label-container {text-align: center;}#sk-container-id-1 div.sk-container {/* jupyter's `normalize.less` sets `[hidden] { display: none; }` but bootstrap.min.css set `[hidden] { display: none !important; }` so we also need the `!important` here to be able to override the default hidden behavior on the sphinx rendered scikit-learn.org. See: https://github.com/scikit-learn/scikit-learn/issues/21755 */display: inline-block !important;position: relative;}#sk-container-id-1 div.sk-text-repr-fallback {display: none;}</style><div id=\"sk-container-id-1\" class=\"sk-top-container\"><div class=\"sk-text-repr-fallback\"><pre>Pipeline(steps=[(&#x27;countvectorizer&#x27;, CountVectorizer(stop_words=&#x27;english&#x27;)),\n",
       "                (&#x27;logisticregression&#x27;, LogisticRegression(max_iter=1000))])</pre><b>In a Jupyter environment, please rerun this cell to show the HTML representation or trust the notebook. <br />On GitHub, the HTML representation is unable to render, please try loading this page with nbviewer.org.</b></div><div class=\"sk-container\" hidden><div class=\"sk-item sk-dashed-wrapped\"><div class=\"sk-label-container\"><div class=\"sk-label sk-toggleable\"><input class=\"sk-toggleable__control sk-hidden--visually\" id=\"sk-estimator-id-1\" type=\"checkbox\" ><label for=\"sk-estimator-id-1\" class=\"sk-toggleable__label sk-toggleable__label-arrow\">Pipeline</label><div class=\"sk-toggleable__content\"><pre>Pipeline(steps=[(&#x27;countvectorizer&#x27;, CountVectorizer(stop_words=&#x27;english&#x27;)),\n",
       "                (&#x27;logisticregression&#x27;, LogisticRegression(max_iter=1000))])</pre></div></div></div><div class=\"sk-serial\"><div class=\"sk-item\"><div class=\"sk-estimator sk-toggleable\"><input class=\"sk-toggleable__control sk-hidden--visually\" id=\"sk-estimator-id-2\" type=\"checkbox\" ><label for=\"sk-estimator-id-2\" class=\"sk-toggleable__label sk-toggleable__label-arrow\">CountVectorizer</label><div class=\"sk-toggleable__content\"><pre>CountVectorizer(stop_words=&#x27;english&#x27;)</pre></div></div></div><div class=\"sk-item\"><div class=\"sk-estimator sk-toggleable\"><input class=\"sk-toggleable__control sk-hidden--visually\" id=\"sk-estimator-id-3\" type=\"checkbox\" ><label for=\"sk-estimator-id-3\" class=\"sk-toggleable__label sk-toggleable__label-arrow\">LogisticRegression</label><div class=\"sk-toggleable__content\"><pre>LogisticRegression(max_iter=1000)</pre></div></div></div></div></div></div></div>"
      ],
      "text/plain": [
       "Pipeline(steps=[('countvectorizer', CountVectorizer(stop_words='english')),\n",
       "                ('logisticregression', LogisticRegression(max_iter=1000))])"
      ]
     },
     "execution_count": 14,
     "metadata": {},
     "output_type": "execute_result"
    }
   ],
   "source": [
    "pipe.fit(X_train, y_train) # train a logistic regression classifier on the entire training set"
   ]
  },
  {
   "cell_type": "markdown",
   "id": "5c2ffbcb",
   "metadata": {
    "id": "-EWRNUspMRT8"
   },
   "source": [
    "Using this model, find the tweet in the **test set** with the highest predicted probability of being viral. Print out the tweet and the associated probability score."
   ]
  },
  {
   "cell_type": "code",
   "execution_count": 15,
   "id": "277b89f0",
   "metadata": {
    "deletable": false,
    "id": "jNsuQ2yZ8nHN",
    "nbgrader": {
     "cell_type": "code",
     "checksum": "ff33c775dd8177481391ea4dd614e7de",
     "grade": true,
     "grade_id": "cell-f2a6d441fb87c0f4",
     "locked": false,
     "points": 5,
     "schema_version": 3,
     "solution": true,
     "task": false
    }
   },
   "outputs": [
    {
     "name": "stdout",
     "output_type": "stream",
     "text": [
      "Tweet: Corrupt politician Adam Schiff wants people from the White House to testify in his and Pelosi’s disgraceful Witch Hunt, yet he will not allow a White House lawyer, nor will he allow ANY of our requested witnesses. This is a first in due process and Congressional history!\n",
      "Score: 0.9999999325364971\n"
     ]
    }
   ],
   "source": [
    "# BEGIN YOUR CODE HERE\n",
    "\n",
    "viral_probabilities = pipe.predict_proba(X_test)[:, 1]\n",
    "print(f\"Tweet: {X_test.iloc[np.argmax(viral_probabilities)]}\\nScore: {viral_probabilities[np.argmax(viral_probabilities)]}\")\n",
    "\n",
    "# END YOUR CODE HERE"
   ]
  },
  {
   "cell_type": "markdown",
   "id": "ef5a87bc",
   "metadata": {
    "id": "OVtKG5SyMRT8"
   },
   "source": [
    "#### 2(e) coefficients\n",
    "rubric={points:4}\n",
    "\n",
    "We can extract the `CountVectorizer` and `LogisticRegression` objects from the `make_pipeline` object as follows:"
   ]
  },
  {
   "cell_type": "code",
   "execution_count": 16,
   "id": "42242a2d",
   "metadata": {
    "id": "m0eUc7DcMRT8"
   },
   "outputs": [],
   "source": [
    "vec_from_pipe = pipe.named_steps[\"countvectorizer\"]\n",
    "lr_from_pipe = pipe.named_steps[\"logisticregression\"]"
   ]
  },
  {
   "cell_type": "markdown",
   "id": "0df1720f",
   "metadata": {
    "id": "9pXuZLNEMRT8"
   },
   "source": [
    "Using these extracted components above, display the 5 words with the highest coefficients and the 5 words with the smallest coefficients."
   ]
  },
  {
   "cell_type": "code",
   "execution_count": 17,
   "id": "3027239d",
   "metadata": {
    "id": "Y7JABALKNg-P"
   },
   "outputs": [
    {
     "name": "stderr",
     "output_type": "stream",
     "text": [
      "/home/aaron/.local/lib/python3.8/site-packages/sklearn/utils/deprecation.py:87: FutureWarning: Function get_feature_names is deprecated; get_feature_names is deprecated in 1.0 and will be removed in 1.2. Please use get_feature_names_out instead.\n",
      "  warnings.warn(msg, category=FutureWarning)\n"
     ]
    },
    {
     "data": {
      "text/html": [
       "<div>\n",
       "<style scoped>\n",
       "    .dataframe tbody tr th:only-of-type {\n",
       "        vertical-align: middle;\n",
       "    }\n",
       "\n",
       "    .dataframe tbody tr th {\n",
       "        vertical-align: top;\n",
       "    }\n",
       "\n",
       "    .dataframe thead th {\n",
       "        text-align: right;\n",
       "    }\n",
       "</style>\n",
       "<table border=\"1\" class=\"dataframe\">\n",
       "  <thead>\n",
       "    <tr style=\"text-align: right;\">\n",
       "      <th></th>\n",
       "      <th>Coefficient</th>\n",
       "    </tr>\n",
       "  </thead>\n",
       "  <tbody>\n",
       "    <tr>\n",
       "      <th>harassment</th>\n",
       "      <td>2.731844</td>\n",
       "    </tr>\n",
       "    <tr>\n",
       "      <th>mini</th>\n",
       "      <td>2.712470</td>\n",
       "    </tr>\n",
       "    <tr>\n",
       "      <th>fake</th>\n",
       "      <td>2.692798</td>\n",
       "    </tr>\n",
       "    <tr>\n",
       "      <th>coronavirus</th>\n",
       "      <td>2.434337</td>\n",
       "    </tr>\n",
       "    <tr>\n",
       "      <th>transcripts</th>\n",
       "      <td>2.380480</td>\n",
       "    </tr>\n",
       "    <tr>\n",
       "      <th>...</th>\n",
       "      <td>...</td>\n",
       "    </tr>\n",
       "    <tr>\n",
       "      <th>1pic</th>\n",
       "      <td>-2.295028</td>\n",
       "    </tr>\n",
       "    <tr>\n",
       "      <th>trump2016</th>\n",
       "      <td>-2.316147</td>\n",
       "    </tr>\n",
       "    <tr>\n",
       "      <th>barackobama</th>\n",
       "      <td>-2.565353</td>\n",
       "    </tr>\n",
       "    <tr>\n",
       "      <th>trump2016pic</th>\n",
       "      <td>-2.637175</td>\n",
       "    </tr>\n",
       "    <tr>\n",
       "      <th>realdonaldtrump</th>\n",
       "      <td>-3.116947</td>\n",
       "    </tr>\n",
       "  </tbody>\n",
       "</table>\n",
       "<p>40965 rows × 1 columns</p>\n",
       "</div>"
      ],
      "text/plain": [
       "                 Coefficient\n",
       "harassment          2.731844\n",
       "mini                2.712470\n",
       "fake                2.692798\n",
       "coronavirus         2.434337\n",
       "transcripts         2.380480\n",
       "...                      ...\n",
       "1pic               -2.295028\n",
       "trump2016          -2.316147\n",
       "barackobama        -2.565353\n",
       "trump2016pic       -2.637175\n",
       "realdonaldtrump    -3.116947\n",
       "\n",
       "[40965 rows x 1 columns]"
      ]
     },
     "execution_count": 17,
     "metadata": {},
     "output_type": "execute_result"
    }
   ],
   "source": [
    "feature_names = np.array(vec_from_pipe.get_feature_names())\n",
    "coeffs = lr_from_pipe.coef_.flatten()\n",
    "word_coeff_df = pd.DataFrame(coeffs, index=feature_names, columns=[\"Coefficient\"])\n",
    "word_coeff_df.sort_values(by=\"Coefficient\", ascending=False)"
   ]
  },
  {
   "cell_type": "code",
   "execution_count": 18,
   "id": "eec304f6",
   "metadata": {},
   "outputs": [
    {
     "name": "stdout",
     "output_type": "stream",
     "text": [
      "Highest Coefficients:              Coefficient\n",
      "harassment      2.731844\n",
      "mini            2.712470\n",
      "fake            2.692798\n",
      "coronavirus     2.434337\n",
      "transcripts     2.380480\n",
      "Lowest Coefficients:                  Coefficient\n",
      "1pic               -2.295028\n",
      "trump2016          -2.316147\n",
      "barackobama        -2.565353\n",
      "trump2016pic       -2.637175\n",
      "realdonaldtrump    -3.116947\n"
     ]
    }
   ],
   "source": [
    "word_coeff_df = word_coeff_df.sort_values(by=\"Coefficient\", ascending=False)\n",
    "\n",
    "print(f\"Highest Coefficients: {word_coeff_df.head(5)}\\nLowest Coefficients: {word_coeff_df.tail(5)}\")"
   ]
  },
  {
   "cell_type": "markdown",
   "id": "33b741a5",
   "metadata": {
    "id": "4bst-ityMRT8"
   },
   "source": [
    "#### 2(f)\n",
    "2f rubric={points:10}\n",
    "\n",
    "scikit-learn provides a lot of useful tools like `make_pipeline` and `cross_validate`, which are awesome. But with these fancy tools it's also easy to lose track of what is actually happening under the hood. Here, your task is to \"manually\" (without `Pipeline`) compute logistic regression's validation score(that is, train on 80% and validate on 20%) of the training data.\n",
    "\n",
    "You should start with the following `CountVectorizer` and `LogisticRegression` objects. You only need to furtherly split `X_train` and `y_train` into 80% training set and 20% validation set. Use lr.score() to show your validation score of your model performing on validation set.(In order to grade, we set random_state=123)"
   ]
  },
  {
   "cell_type": "code",
   "execution_count": 19,
   "id": "f5023106",
   "metadata": {
    "id": "O5a_LFr9MRT8"
   },
   "outputs": [],
   "source": [
    "countvec = CountVectorizer(stop_words=\"english\")\n",
    "lr = LogisticRegression(max_iter=1000)  "
   ]
  },
  {
   "cell_type": "code",
   "execution_count": 20,
   "id": "455564fa",
   "metadata": {
    "deletable": false,
    "id": "GmZN1rTYg6k3",
    "nbgrader": {
     "cell_type": "code",
     "checksum": "a91715e388b5a17113783ffc6f9410d0",
     "grade": true,
     "grade_id": "cell-a876ebc177069b61",
     "locked": false,
     "points": 10,
     "schema_version": 3,
     "solution": true,
     "task": false
    }
   },
   "outputs": [
    {
     "data": {
      "text/plain": [
       "0.8929724742426572"
      ]
     },
     "execution_count": 20,
     "metadata": {},
     "output_type": "execute_result"
    }
   ],
   "source": [
    "# BEGIN YOUR CODE HERE\n",
    "X_train_two, X_test_two, y_train_two, y_test_two = train_test_split(X_train, y_train, test_size=0.20, random_state=123)\n",
    "\n",
    "X_train_two_cv = countvec.fit_transform(X_train_two)\n",
    "X_test_two_cv = countvec.transform(X_test_two)\n",
    "\n",
    "lr.fit(X_train_two_cv, y_train_two)\n",
    "lr.score(X_test_two_cv, y_test_two)\n",
    "# END YOUR CODE HERE"
   ]
  },
  {
   "cell_type": "markdown",
   "id": "53f2d864",
   "metadata": {
    "id": "gQF_HwR41ijP"
   },
   "source": [
    "Expected output value: 0.893"
   ]
  },
  {
   "cell_type": "markdown",
   "id": "fb6837fd",
   "metadata": {
    "id": "sDElLzibMRT8"
   },
   "source": [
    "Meta-comment:I think this type of question (and Exercise 1) is a useful middle ground. I do want you to know what is going on in `Pipeline` and in `cross_validate` even if we don't cover the details of `fit`. To get into logistic regression's `fit` requires a bunch of math; here, we're keeping it more conceptual and avoiding all those prerequisites."
   ]
  },
  {
   "cell_type": "markdown",
   "id": "cac5fb84",
   "metadata": {
    "incorrectly_encoded_metadata": "id=\"gj3qijcUMRT9\" toc-hr-collapsed=true"
   },
   "source": [
    "## Exercise 3: hyperparameter optimization\n",
    "<hr>\n",
    "rubric={points:25}"
   ]
  },
  {
   "cell_type": "markdown",
   "id": "97f735f9",
   "metadata": {
    "id": "WLOeCebnMRT9"
   },
   "source": [
    "#### 3(a)\n",
    "rubric={points:4}\n",
    "\n",
    "The following code varies the `max_features` hyperparameter of `CountVectorizer` and makes a plot (with the x-axis on a log scale) that shows train/cross-validation scores vs. `max_features`. It also prints the results. Based on the plot/output, what value of `max_features` seems best? Briefly explain.\n",
    "\n",
    "Note: the code may take a minute or two to run. You can uncomment the `print` statement if you want to see it show the progress."
   ]
  },
  {
   "cell_type": "code",
   "execution_count": 21,
   "id": "b7926496",
   "metadata": {
    "id": "1ZFGyo0zMRT9"
   },
   "outputs": [
    {
     "name": "stdout",
     "output_type": "stream",
     "text": [
      "10\n",
      "100\n",
      "1000\n",
      "10000\n",
      "100000\n"
     ]
    },
    {
     "data": {
      "image/png": "[encoded data removed]",
      "text/plain": [
       "<Figure size 640x480 with 1 Axes>"
      ]
     },
     "metadata": {},
     "output_type": "display_data"
    }
   ],
   "source": [
    "train_scores = []\n",
    "cv_scores = []\n",
    "\n",
    "max_features = [10, 100, 1000, 10_000, 100_000]\n",
    "\n",
    "for mf in max_features:\n",
    "    print(mf)\n",
    "    pipe = make_pipeline(\n",
    "        CountVectorizer(stop_words=\"english\", max_features=mf),\n",
    "        LogisticRegression(max_iter=1000),\n",
    "    )\n",
    "    cv_results = cross_validate(pipe, X_train, y_train, return_train_score=True)\n",
    "    train_scores.append(cv_results[\"train_score\"].mean())\n",
    "    cv_scores.append(cv_results[\"test_score\"].mean())\n",
    "\n",
    "plt.semilogx(max_features, train_scores, label=\"train\")\n",
    "plt.semilogx(max_features, cv_scores, label=\"valid\")\n",
    "plt.legend()\n",
    "plt.xlabel(\"max_features\")\n",
    "plt.ylabel(\"accuracy\");"
   ]
  },
  {
   "cell_type": "code",
   "execution_count": 22,
   "id": "043096f0",
   "metadata": {
    "id": "7up_9-_CMRT9"
   },
   "outputs": [
    {
     "data": {
      "text/html": [
       "<div>\n",
       "<style scoped>\n",
       "    .dataframe tbody tr th:only-of-type {\n",
       "        vertical-align: middle;\n",
       "    }\n",
       "\n",
       "    .dataframe tbody tr th {\n",
       "        vertical-align: top;\n",
       "    }\n",
       "\n",
       "    .dataframe thead th {\n",
       "        text-align: right;\n",
       "    }\n",
       "</style>\n",
       "<table border=\"1\" class=\"dataframe\">\n",
       "  <thead>\n",
       "    <tr style=\"text-align: right;\">\n",
       "      <th></th>\n",
       "      <th>max_features</th>\n",
       "      <th>train</th>\n",
       "      <th>cv</th>\n",
       "    </tr>\n",
       "  </thead>\n",
       "  <tbody>\n",
       "    <tr>\n",
       "      <th>0</th>\n",
       "      <td>10</td>\n",
       "      <td>0.767854</td>\n",
       "      <td>0.766593</td>\n",
       "    </tr>\n",
       "    <tr>\n",
       "      <th>1</th>\n",
       "      <td>100</td>\n",
       "      <td>0.838900</td>\n",
       "      <td>0.837147</td>\n",
       "    </tr>\n",
       "    <tr>\n",
       "      <th>2</th>\n",
       "      <td>1000</td>\n",
       "      <td>0.904626</td>\n",
       "      <td>0.887956</td>\n",
       "    </tr>\n",
       "    <tr>\n",
       "      <th>3</th>\n",
       "      <td>10000</td>\n",
       "      <td>0.951498</td>\n",
       "      <td>0.896537</td>\n",
       "    </tr>\n",
       "    <tr>\n",
       "      <th>4</th>\n",
       "      <td>100000</td>\n",
       "      <td>0.967045</td>\n",
       "      <td>0.897890</td>\n",
       "    </tr>\n",
       "  </tbody>\n",
       "</table>\n",
       "</div>"
      ],
      "text/plain": [
       "   max_features     train        cv\n",
       "0            10  0.767854  0.766593\n",
       "1           100  0.838900  0.837147\n",
       "2          1000  0.904626  0.887956\n",
       "3         10000  0.951498  0.896537\n",
       "4        100000  0.967045  0.897890"
      ]
     },
     "execution_count": 22,
     "metadata": {},
     "output_type": "execute_result"
    }
   ],
   "source": [
    "pd.DataFrame({\"max_features\": max_features, \"train\": train_scores, \"cv\": cv_scores})"
   ]
  },
  {
   "cell_type": "markdown",
   "id": "9e58d06c",
   "metadata": {
    "deletable": false,
    "id": "Xnn4LOkX23x9",
    "nbgrader": {
     "cell_type": "markdown",
     "checksum": "489f2c0d6bb7f7361e81d04ee49729e3",
     "grade": true,
     "grade_id": "cell-53e3fe7a3211c292",
     "locked": false,
     "points": 4,
     "schema_version": 3,
     "solution": true,
     "task": false
    }
   },
   "source": [
    "It would appear as though the best value for us to use would be 10^3 based on our graph. This is the point where the two lines divert."
   ]
  },
  {
   "cell_type": "markdown",
   "id": "5f300f25",
   "metadata": {
    "id": "wPQT5c7tMRT9"
   },
   "source": [
    "#### 3(b)\n",
    "rubric={points:4}\n",
    "\n",
    "The following code varies the `C` hyperparameter of `LogisticRegression` and makes a plot (with the x-axis on a log scale) that shows train/cross-validation scores vs. `C`. Based on the plot, what value of `C` seems best?\n",
    "\n",
    "Note: the code may take a minute or two to run. You can uncomment the `print` statement if you want to see it show the progress."
   ]
  },
  {
   "cell_type": "code",
   "execution_count": 23,
   "id": "6ceac63f",
   "metadata": {
    "id": "ne67GMhmMRT9"
   },
   "outputs": [
    {
     "name": "stdout",
     "output_type": "stream",
     "text": [
      "0.03162277660168379\n",
      "0.1\n",
      "0.31622776601683794\n",
      "1.0\n",
      "3.1622776601683795\n",
      "10.0\n",
      "31.622776601683793\n"
     ]
    },
    {
     "data": {
      "image/png": "[encoded data removed]",
      "text/plain": [
       "<Figure size 640x480 with 1 Axes>"
      ]
     },
     "metadata": {},
     "output_type": "display_data"
    }
   ],
   "source": [
    "train_scores = []\n",
    "cv_scores = []\n",
    "\n",
    "C_vals = 10.0 ** np.arange(-1.5, 2, 0.5)\n",
    "\n",
    "for C in C_vals:\n",
    "    print(C)\n",
    "    pipe = make_pipeline(\n",
    "        CountVectorizer(stop_words=\"english\", max_features=None),\n",
    "        LogisticRegression(max_iter=1000, C=C),\n",
    "    )\n",
    "    cv_results = cross_validate(pipe, X_train, y_train, return_train_score=True)\n",
    "\n",
    "    train_scores.append(cv_results[\"train_score\"].mean())\n",
    "    cv_scores.append(cv_results[\"test_score\"].mean())\n",
    "\n",
    "plt.semilogx(C_vals, train_scores, label=\"train\")\n",
    "plt.semilogx(C_vals, cv_scores, label=\"valid\")\n",
    "plt.legend()\n",
    "plt.xlabel(\"C\")\n",
    "plt.ylabel(\"accuracy\");"
   ]
  },
  {
   "cell_type": "code",
   "execution_count": 24,
   "id": "2fcf9a0b",
   "metadata": {
    "id": "n_R271j2MRT9"
   },
   "outputs": [
    {
     "data": {
      "text/html": [
       "<div>\n",
       "<style scoped>\n",
       "    .dataframe tbody tr th:only-of-type {\n",
       "        vertical-align: middle;\n",
       "    }\n",
       "\n",
       "    .dataframe tbody tr th {\n",
       "        vertical-align: top;\n",
       "    }\n",
       "\n",
       "    .dataframe thead th {\n",
       "        text-align: right;\n",
       "    }\n",
       "</style>\n",
       "<table border=\"1\" class=\"dataframe\">\n",
       "  <thead>\n",
       "    <tr style=\"text-align: right;\">\n",
       "      <th></th>\n",
       "      <th>C</th>\n",
       "      <th>train</th>\n",
       "      <th>cv</th>\n",
       "    </tr>\n",
       "  </thead>\n",
       "  <tbody>\n",
       "    <tr>\n",
       "      <th>0</th>\n",
       "      <td>0.031623</td>\n",
       "      <td>0.896898</td>\n",
       "      <td>0.878821</td>\n",
       "    </tr>\n",
       "    <tr>\n",
       "      <th>1</th>\n",
       "      <td>0.100000</td>\n",
       "      <td>0.919196</td>\n",
       "      <td>0.893277</td>\n",
       "    </tr>\n",
       "    <tr>\n",
       "      <th>2</th>\n",
       "      <td>0.316228</td>\n",
       "      <td>0.941333</td>\n",
       "      <td>0.897521</td>\n",
       "    </tr>\n",
       "    <tr>\n",
       "      <th>3</th>\n",
       "      <td>1.000000</td>\n",
       "      <td>0.967045</td>\n",
       "      <td>0.897890</td>\n",
       "    </tr>\n",
       "    <tr>\n",
       "      <th>4</th>\n",
       "      <td>3.162278</td>\n",
       "      <td>0.985668</td>\n",
       "      <td>0.894507</td>\n",
       "    </tr>\n",
       "    <tr>\n",
       "      <th>5</th>\n",
       "      <td>10.000000</td>\n",
       "      <td>0.993733</td>\n",
       "      <td>0.888171</td>\n",
       "    </tr>\n",
       "    <tr>\n",
       "      <th>6</th>\n",
       "      <td>31.622777</td>\n",
       "      <td>0.996571</td>\n",
       "      <td>0.881251</td>\n",
       "    </tr>\n",
       "  </tbody>\n",
       "</table>\n",
       "</div>"
      ],
      "text/plain": [
       "           C     train        cv\n",
       "0   0.031623  0.896898  0.878821\n",
       "1   0.100000  0.919196  0.893277\n",
       "2   0.316228  0.941333  0.897521\n",
       "3   1.000000  0.967045  0.897890\n",
       "4   3.162278  0.985668  0.894507\n",
       "5  10.000000  0.993733  0.888171\n",
       "6  31.622777  0.996571  0.881251"
      ]
     },
     "execution_count": 24,
     "metadata": {},
     "output_type": "execute_result"
    }
   ],
   "source": [
    "pd.DataFrame({\"C\": C_vals, \"train\": train_scores, \"cv\": cv_scores})"
   ]
  },
  {
   "cell_type": "markdown",
   "id": "e528ac60",
   "metadata": {
    "deletable": false,
    "id": "4dUggjmsMRT-",
    "nbgrader": {
     "cell_type": "markdown",
     "checksum": "29c7e3ea3b9ff3c2bab416f565c691ef",
     "grade": true,
     "grade_id": "cell-9ea16d18aa7f94b6",
     "locked": false,
     "points": 4,
     "schema_version": 3,
     "solution": true,
     "task": false
    }
   },
   "source": [
    "Based on our graph the ideal value of C would be 10^-1 because this is where the two lines divert from each other."
   ]
  },
  {
   "cell_type": "markdown",
   "id": "a9c142b8",
   "metadata": {
    "id": "vLwFSeUwMRT-"
   },
   "source": [
    "#### 3(c)\n",
    "3c rubric={points:12}\n",
    "\n",
    "- Using `GridSearchCV`, jointly optimize `max_features` and `C` across all the combinations of values we tried above.{points:8} \n",
    "  - Note: the code might be a bit slow here. \n",
    "  - Setting `n_jobs=-1` should speed it up if you have a multi-core processor.\n",
    "  - You can reduce the number of folds (e.g. `cv=2`) to speed it up if necessary.\n"
   ]
  },
  {
   "cell_type": "code",
   "execution_count": 25,
   "id": "270b80c2",
   "metadata": {
    "deletable": false,
    "id": "9yHPfPOF3ePf",
    "nbgrader": {
     "cell_type": "code",
     "checksum": "948f4363be0b7924446d0fb1233234ec",
     "grade": true,
     "grade_id": "cell-ab152828658bfa62",
     "locked": false,
     "points": 8,
     "schema_version": 3,
     "solution": true,
     "task": false
    }
   },
   "outputs": [
    {
     "data": {
      "text/html": [
       "<style>#sk-container-id-2 {color: black;background-color: white;}#sk-container-id-2 pre{padding: 0;}#sk-container-id-2 div.sk-toggleable {background-color: white;}#sk-container-id-2 label.sk-toggleable__label {cursor: pointer;display: block;width: 100%;margin-bottom: 0;padding: 0.3em;box-sizing: border-box;text-align: center;}#sk-container-id-2 label.sk-toggleable__label-arrow:before {content: \"▸\";float: left;margin-right: 0.25em;color: #696969;}#sk-container-id-2 label.sk-toggleable__label-arrow:hover:before {color: black;}#sk-container-id-2 div.sk-estimator:hover label.sk-toggleable__label-arrow:before {color: black;}#sk-container-id-2 div.sk-toggleable__content {max-height: 0;max-width: 0;overflow: hidden;text-align: left;background-color: #f0f8ff;}#sk-container-id-2 div.sk-toggleable__content pre {margin: 0.2em;color: black;border-radius: 0.25em;background-color: #f0f8ff;}#sk-container-id-2 input.sk-toggleable__control:checked~div.sk-toggleable__content {max-height: 200px;max-width: 100%;overflow: auto;}#sk-container-id-2 input.sk-toggleable__control:checked~label.sk-toggleable__label-arrow:before {content: \"▾\";}#sk-container-id-2 div.sk-estimator input.sk-toggleable__control:checked~label.sk-toggleable__label {background-color: #d4ebff;}#sk-container-id-2 div.sk-label input.sk-toggleable__control:checked~label.sk-toggleable__label {background-color: #d4ebff;}#sk-container-id-2 input.sk-hidden--visually {border: 0;clip: rect(1px 1px 1px 1px);clip: rect(1px, 1px, 1px, 1px);height: 1px;margin: -1px;overflow: hidden;padding: 0;position: absolute;width: 1px;}#sk-container-id-2 div.sk-estimator {font-family: monospace;background-color: #f0f8ff;border: 1px dotted black;border-radius: 0.25em;box-sizing: border-box;margin-bottom: 0.5em;}#sk-container-id-2 div.sk-estimator:hover {background-color: #d4ebff;}#sk-container-id-2 div.sk-parallel-item::after {content: \"\";width: 100%;border-bottom: 1px solid gray;flex-grow: 1;}#sk-container-id-2 div.sk-label:hover label.sk-toggleable__label {background-color: #d4ebff;}#sk-container-id-2 div.sk-serial::before {content: \"\";position: absolute;border-left: 1px solid gray;box-sizing: border-box;top: 0;bottom: 0;left: 50%;z-index: 0;}#sk-container-id-2 div.sk-serial {display: flex;flex-direction: column;align-items: center;background-color: white;padding-right: 0.2em;padding-left: 0.2em;position: relative;}#sk-container-id-2 div.sk-item {position: relative;z-index: 1;}#sk-container-id-2 div.sk-parallel {display: flex;align-items: stretch;justify-content: center;background-color: white;position: relative;}#sk-container-id-2 div.sk-item::before, #sk-container-id-2 div.sk-parallel-item::before {content: \"\";position: absolute;border-left: 1px solid gray;box-sizing: border-box;top: 0;bottom: 0;left: 50%;z-index: -1;}#sk-container-id-2 div.sk-parallel-item {display: flex;flex-direction: column;z-index: 1;position: relative;background-color: white;}#sk-container-id-2 div.sk-parallel-item:first-child::after {align-self: flex-end;width: 50%;}#sk-container-id-2 div.sk-parallel-item:last-child::after {align-self: flex-start;width: 50%;}#sk-container-id-2 div.sk-parallel-item:only-child::after {width: 0;}#sk-container-id-2 div.sk-dashed-wrapped {border: 1px dashed gray;margin: 0 0.4em 0.5em 0.4em;box-sizing: border-box;padding-bottom: 0.4em;background-color: white;}#sk-container-id-2 div.sk-label label {font-family: monospace;font-weight: bold;display: inline-block;line-height: 1.2em;}#sk-container-id-2 div.sk-label-container {text-align: center;}#sk-container-id-2 div.sk-container {/* jupyter's `normalize.less` sets `[hidden] { display: none; }` but bootstrap.min.css set `[hidden] { display: none !important; }` so we also need the `!important` here to be able to override the default hidden behavior on the sphinx rendered scikit-learn.org. See: https://github.com/scikit-learn/scikit-learn/issues/21755 */display: inline-block !important;position: relative;}#sk-container-id-2 div.sk-text-repr-fallback {display: none;}</style><div id=\"sk-container-id-2\" class=\"sk-top-container\"><div class=\"sk-text-repr-fallback\"><pre>GridSearchCV(cv=5,\n",
       "             estimator=Pipeline(steps=[(&#x27;countvectorizer&#x27;,\n",
       "                                        CountVectorizer(stop_words=&#x27;english&#x27;)),\n",
       "                                       (&#x27;logisticregression&#x27;,\n",
       "                                        LogisticRegression(C=31.622776601683793,\n",
       "                                                           max_iter=1000))]),\n",
       "             n_jobs=-1,\n",
       "             param_grid={&#x27;countvectorizer__max_features&#x27;: [10, 100, 1000, 10000,\n",
       "                                                           100000],\n",
       "                         &#x27;logisticregression__C&#x27;: array([ 0.03162278,  0.1       ,  0.31622777,  1.        ,  3.16227766,\n",
       "       10.        , 31.6227766 ])},\n",
       "             return_train_score=True)</pre><b>In a Jupyter environment, please rerun this cell to show the HTML representation or trust the notebook. <br />On GitHub, the HTML representation is unable to render, please try loading this page with nbviewer.org.</b></div><div class=\"sk-container\" hidden><div class=\"sk-item sk-dashed-wrapped\"><div class=\"sk-label-container\"><div class=\"sk-label sk-toggleable\"><input class=\"sk-toggleable__control sk-hidden--visually\" id=\"sk-estimator-id-4\" type=\"checkbox\" ><label for=\"sk-estimator-id-4\" class=\"sk-toggleable__label sk-toggleable__label-arrow\">GridSearchCV</label><div class=\"sk-toggleable__content\"><pre>GridSearchCV(cv=5,\n",
       "             estimator=Pipeline(steps=[(&#x27;countvectorizer&#x27;,\n",
       "                                        CountVectorizer(stop_words=&#x27;english&#x27;)),\n",
       "                                       (&#x27;logisticregression&#x27;,\n",
       "                                        LogisticRegression(C=31.622776601683793,\n",
       "                                                           max_iter=1000))]),\n",
       "             n_jobs=-1,\n",
       "             param_grid={&#x27;countvectorizer__max_features&#x27;: [10, 100, 1000, 10000,\n",
       "                                                           100000],\n",
       "                         &#x27;logisticregression__C&#x27;: array([ 0.03162278,  0.1       ,  0.31622777,  1.        ,  3.16227766,\n",
       "       10.        , 31.6227766 ])},\n",
       "             return_train_score=True)</pre></div></div></div><div class=\"sk-parallel\"><div class=\"sk-parallel-item\"><div class=\"sk-item\"><div class=\"sk-label-container\"><div class=\"sk-label sk-toggleable\"><input class=\"sk-toggleable__control sk-hidden--visually\" id=\"sk-estimator-id-5\" type=\"checkbox\" ><label for=\"sk-estimator-id-5\" class=\"sk-toggleable__label sk-toggleable__label-arrow\">estimator: Pipeline</label><div class=\"sk-toggleable__content\"><pre>Pipeline(steps=[(&#x27;countvectorizer&#x27;, CountVectorizer(stop_words=&#x27;english&#x27;)),\n",
       "                (&#x27;logisticregression&#x27;,\n",
       "                 LogisticRegression(C=31.622776601683793, max_iter=1000))])</pre></div></div></div><div class=\"sk-serial\"><div class=\"sk-item\"><div class=\"sk-serial\"><div class=\"sk-item\"><div class=\"sk-estimator sk-toggleable\"><input class=\"sk-toggleable__control sk-hidden--visually\" id=\"sk-estimator-id-6\" type=\"checkbox\" ><label for=\"sk-estimator-id-6\" class=\"sk-toggleable__label sk-toggleable__label-arrow\">CountVectorizer</label><div class=\"sk-toggleable__content\"><pre>CountVectorizer(stop_words=&#x27;english&#x27;)</pre></div></div></div><div class=\"sk-item\"><div class=\"sk-estimator sk-toggleable\"><input class=\"sk-toggleable__control sk-hidden--visually\" id=\"sk-estimator-id-7\" type=\"checkbox\" ><label for=\"sk-estimator-id-7\" class=\"sk-toggleable__label sk-toggleable__label-arrow\">LogisticRegression</label><div class=\"sk-toggleable__content\"><pre>LogisticRegression(C=31.622776601683793, max_iter=1000)</pre></div></div></div></div></div></div></div></div></div></div></div></div>"
      ],
      "text/plain": [
       "GridSearchCV(cv=5,\n",
       "             estimator=Pipeline(steps=[('countvectorizer',\n",
       "                                        CountVectorizer(stop_words='english')),\n",
       "                                       ('logisticregression',\n",
       "                                        LogisticRegression(C=31.622776601683793,\n",
       "                                                           max_iter=1000))]),\n",
       "             n_jobs=-1,\n",
       "             param_grid={'countvectorizer__max_features': [10, 100, 1000, 10000,\n",
       "                                                           100000],\n",
       "                         'logisticregression__C': array([ 0.03162278,  0.1       ,  0.31622777,  1.        ,  3.16227766,\n",
       "       10.        , 31.6227766 ])},\n",
       "             return_train_score=True)"
      ]
     },
     "execution_count": 25,
     "metadata": {},
     "output_type": "execute_result"
    }
   ],
   "source": [
    "# BEGIN YOUR CODE HERE\n",
    "param_grid = {\n",
    "    \"countvectorizer__max_features\": [10, 100, 1000, 10_000, 100_000],\n",
    "    \"logisticregression__C\": 10.0 ** np.arange(-1.5, 2, 0.5),\n",
    "}\n",
    "\n",
    "grid_search = GridSearchCV(\n",
    "    pipe, param_grid, cv=5, n_jobs=-1, return_train_score=True\n",
    ")\n",
    "\n",
    "grid_search.fit(X_train, y_train)\n",
    "# END YOUR CODE HERE"
   ]
  },
  {
   "cell_type": "markdown",
   "id": "4e66011d",
   "metadata": {},
   "source": [
    "- What are the best values of `max_features` and `C` according to your grid search?(You can just print your best values){points:4}"
   ]
  },
  {
   "cell_type": "code",
   "execution_count": 26,
   "id": "0649c001",
   "metadata": {},
   "outputs": [
    {
     "data": {
      "text/plain": [
       "{'countvectorizer__max_features': 100000, 'logisticregression__C': 1.0}"
      ]
     },
     "execution_count": 26,
     "metadata": {},
     "output_type": "execute_result"
    }
   ],
   "source": [
    "grid_search.best_params_"
   ]
  },
  {
   "cell_type": "markdown",
   "id": "27ea42d5",
   "metadata": {
    "id": "kkr6jYFuMRT-"
   },
   "source": [
    "#### 3(d)\n",
    "3d rubric={points:5}\n",
    "\n",
    "- Evaluate your final model on the test set.{points:3} \n",
    "    - Expected test accuracy is 0.899\n"
   ]
  },
  {
   "cell_type": "code",
   "execution_count": 27,
   "id": "742d33f8",
   "metadata": {
    "deletable": false,
    "id": "GifXNTF5FDtT",
    "nbgrader": {
     "cell_type": "code",
     "checksum": "ae50bdc0132371a4036c703c1730f4cf",
     "grade": true,
     "grade_id": "cell-977c0063b6843fa7",
     "locked": false,
     "points": 3,
     "schema_version": 3,
     "solution": true,
     "task": false
    }
   },
   "outputs": [
    {
     "name": "stdout",
     "output_type": "stream",
     "text": [
      "Test Accuracy: 0.8993356707879683\n"
     ]
    }
   ],
   "source": [
    "# BEGIN YOUR CODE HERE\n",
    "print(f\"Test Accuracy: {grid_search.score(X_test, y_test)}\")\n",
    "# END YOUR CODE HERE"
   ]
  },
  {
   "cell_type": "markdown",
   "id": "e8ff7b79",
   "metadata": {},
   "source": [
    "- How does your test accuracy compare to your validation accuracy?{points:2}"
   ]
  },
  {
   "cell_type": "markdown",
   "id": "a46983c5",
   "metadata": {
    "deletable": false,
    "id": "LdtL5X-lH1mc",
    "nbgrader": {
     "cell_type": "markdown",
     "checksum": "7a6d21775d868532b44a43a3ae69c1e0",
     "grade": true,
     "grade_id": "cell-d993d23242a76fc8",
     "locked": false,
     "points": 2,
     "schema_version": 3,
     "solution": true,
     "task": false
    }
   },
   "source": [
    "The test accuracy compares rather well to the validation accuracy. The results are closely related."
   ]
  },
  {
   "cell_type": "markdown",
   "id": "318122d1",
   "metadata": {
    "id": "aBhrNBerMRT-"
   },
   "source": [
    "## Exercise 4: Very short answer questions\n",
    "rubric={points:15}\n",
    "\n",
    "Each question is worth 3 points."
   ]
  },
  {
   "cell_type": "markdown",
   "id": "e28f75fe",
   "metadata": {
    "id": "CoyCJvjHMRT-"
   },
   "source": [
    "1. What is the problem with calling `fit_transform` on your test data with `CountVectorizer`? "
   ]
  },
  {
   "cell_type": "markdown",
   "id": "c1ab5eb4",
   "metadata": {
    "deletable": false,
    "nbgrader": {
     "cell_type": "markdown",
     "checksum": "460fc86f02d92323e66cae44ae0d0303",
     "grade": true,
     "grade_id": "cell-6bead45cd8f8505c",
     "locked": false,
     "points": 3,
     "schema_version": 3,
     "solution": true,
     "task": false
    }
   },
   "source": [
    "If we apply fit_transform on our test data then we will be violating the golden rule."
   ]
  },
  {
   "cell_type": "markdown",
   "id": "78cf6650",
   "metadata": {
    "id": "CoyCJvjHMRT-"
   },
   "source": [
    "2. Why is it important to follow the Golden Rule? If you violate it, will that give you a worse classifier?"
   ]
  },
  {
   "cell_type": "markdown",
   "id": "37652f28",
   "metadata": {
    "deletable": false,
    "nbgrader": {
     "cell_type": "markdown",
     "checksum": "c934a7d05ff075ebe68868397d11cf23",
     "grade": true,
     "grade_id": "cell-87bb087186181f76",
     "locked": false,
     "points": 3,
     "schema_version": 3,
     "solution": true,
     "task": false
    }
   },
   "source": [
    "The golden rule must be followed. We cannot cross our test dataset with the training algorithms at all. Breaking the golden rule would ideally give us a better classifier which is what we would expect since it's like cheating."
   ]
  },
  {
   "cell_type": "markdown",
   "id": "384c7ac9",
   "metadata": {
    "id": "CoyCJvjHMRT-"
   },
   "source": [
    "3. If you could only access one of `predict` or `predict_proba`, which one would you choose? Briefly explain."
   ]
  },
  {
   "cell_type": "markdown",
   "id": "d4ad35a2",
   "metadata": {
    "deletable": false,
    "nbgrader": {
     "cell_type": "markdown",
     "checksum": "9e9bf25b6a3acc54a8c62f430de85a0d",
     "grade": true,
     "grade_id": "cell-c55d5c0f3e87031e",
     "locked": false,
     "points": 3,
     "schema_version": 3,
     "solution": true,
     "task": false
    }
   },
   "source": [
    "Since predict_proba returns the confidence score for all inputs we can also get the highest probability score. So, it'd be better to only access predict_proba."
   ]
  },
  {
   "cell_type": "markdown",
   "id": "fc5d53a3",
   "metadata": {
    "id": "CoyCJvjHMRT-"
   },
   "source": [
    "4. What are two advantages of using sklearn `Pipeline`s? "
   ]
  },
  {
   "cell_type": "markdown",
   "id": "f7af9e27",
   "metadata": {
    "deletable": false,
    "nbgrader": {
     "cell_type": "markdown",
     "checksum": "979e7306d1de85fc669e6ae8546d8177",
     "grade": true,
     "grade_id": "cell-05a6f11152d877c1",
     "locked": false,
     "points": 3,
     "schema_version": 3,
     "solution": true,
     "task": false
    }
   },
   "source": [
    "An advantage of using pipelines is improved readability and pipelines are also able to execute a series of transforms in one call."
   ]
  },
  {
   "cell_type": "markdown",
   "id": "92fec659",
   "metadata": {
    "id": "CoyCJvjHMRT-"
   },
   "source": [
    "5. What are two advantages of `RandomizedSearchCV` over `GridSearchCV`?"
   ]
  },
  {
   "cell_type": "markdown",
   "id": "5d0b8301",
   "metadata": {
    "deletable": false,
    "nbgrader": {
     "cell_type": "markdown",
     "checksum": "d1843578816add13e8726afe077b6c41",
     "grade": true,
     "grade_id": "cell-4af7ce34a43f02fb",
     "locked": false,
     "points": 3,
     "schema_version": 3,
     "solution": true,
     "task": false
    }
   },
   "source": [
    "RandomziedSearchCV selects the combinations randomly where GridSearchCV used predefined combinations. GridSearchCV is also only good for small datasets."
   ]
  },
  {
   "cell_type": "markdown",
   "id": "91e00b40",
   "metadata": {
    "id": "SmnHq1b6MRT_"
   },
   "source": [
    "## Submission instructions \n",
    "\n",
    "**PLEASE READ:** When you are ready to submit your assignment do the following:\n",
    "\n",
    "1. Run all cells in your notebook to make sure there are no errors by doing `Kernel -> Restart Kernel and Clear All Outputs` and then `Run -> Run All Cells`. \n",
    "2. Notebooks with cell execution numbers out of order or not starting from “1” will have marks deducted. Notebooks without the output displayed may not be graded at all (because we need to see the output in order to grade your work).\n",
    "3. Upload the assignment at Canvas. \n",
    "4. Finish the corresponding reflection survey."
   ]
  }
 ],
 "metadata": {
  "jupytext": {
   "formats": "ipynb,md"
  },
  "kernelspec": {
   "display_name": "Python 3.8.10 64-bit",
   "language": "python",
   "name": "python3"
  },
  "language_info": {
   "codemirror_mode": {
    "name": "ipython",
    "version": 3
   },
   "file_extension": ".py",
   "mimetype": "text/x-python",
   "name": "python",
   "nbconvert_exporter": "python",
   "pygments_lexer": "ipython3",
   "version": "3.8.10"
  },
  "toc": {
   "base_numbering": 1,
   "nav_menu": {},
   "number_sections": true,
   "sideBar": true,
   "skip_h1_title": true,
   "title_cell": "Table of Contents",
   "title_sidebar": "Contents",
   "toc_cell": false,
   "toc_position": {
    "height": "calc(100% - 180px)",
    "left": "10px",
    "top": "150px",
    "width": "349.091px"
   },
   "toc_section_display": true,
   "toc_window_display": true
  },
  "vscode": {
   "interpreter": {
    "hash": "31f2aee4e71d21fbe5cf8b01ff0e069b9275f58929596ceb00d14d90e3e16cd6"
   }
  }
 },
 "nbformat": 4,
 "nbformat_minor": 5
}
