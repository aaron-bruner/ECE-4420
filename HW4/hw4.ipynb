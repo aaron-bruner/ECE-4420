{
 "cells": [
  {
   "cell_type": "markdown",
   "id": "ccd8d495",
   "metadata": {},
   "source": [
    "# Homework 4: Preprocessing \n",
    "\n",
    "## Introduction\n",
    "\n",
    "A crucial step when using machine learning algorithms on real-world datasets is preprocessing. This homework will give you some practice of data preprocessing and building a supervised machine learning pipeline on a real-world dataset. "
   ]
  },
  {
   "cell_type": "markdown",
   "id": "87b92ef4",
   "metadata": {},
   "source": [
    "## Imports "
   ]
  },
  {
   "cell_type": "code",
   "execution_count": 1,
   "id": "87c65a6a",
   "metadata": {},
   "outputs": [],
   "source": [
    "import matplotlib.pyplot as plt\n",
    "import numpy as np\n",
    "import pandas as pd\n",
    "from sklearn.compose import ColumnTransformer, make_column_transformer\n",
    "from sklearn.dummy import DummyClassifier\n",
    "from sklearn.impute import SimpleImputer\n",
    "from sklearn.model_selection import cross_val_score, cross_validate, train_test_split\n",
    "from sklearn.neighbors import KNeighborsClassifier\n",
    "from sklearn.pipeline import Pipeline, make_pipeline\n",
    "from sklearn.preprocessing import OneHotEncoder, StandardScaler, OrdinalEncoder\n",
    "from sklearn.tree import DecisionTreeClassifier\n",
    "import warnings\n",
    "warnings.filterwarnings('ignore')"
   ]
  },
  {
   "cell_type": "markdown",
   "id": "d59f3f28",
   "metadata": {},
   "source": [
    "## Exercise A: Introducing the dataset\n",
    "<hr>\n",
    "\n",
    "In this lab, you will be working on [the adult census dataset](https://www.kaggle.com/uciml/adult-census-income#). \n",
    "Download the CSV and save it as `adult.csv` under this homework folder. \n",
    "\n",
    "This is a classification dataset and the classification task is to predict whether income exceeds 50K per year or not based on the census data. You can find more information on the dataset and features [here](http://archive.ics.uci.edu/ml/datasets/Adult).\n",
    "\n",
    "The starter code below loads the data CSV (assuming that it is saved as `adult.csv` in this folder). \n",
    "\n",
    "_Note that many popular datasets have sex as a feature where the possible values are male and female. This representation reflects how the data were collected and is not meant to imply that, for example, gender is binary._"
   ]
  },
  {
   "cell_type": "code",
   "execution_count": 2,
   "id": "de5304c6",
   "metadata": {
    "slideshow": {
     "slide_type": "slide"
    }
   },
   "outputs": [
    {
     "data": {
      "text/plain": [
       "(32561, 15)"
      ]
     },
     "execution_count": 2,
     "metadata": {},
     "output_type": "execute_result"
    }
   ],
   "source": [
    "census_df = pd.read_csv(\"adult.csv\")\n",
    "census_df.shape"
   ]
  },
  {
   "cell_type": "markdown",
   "id": "2d3f5551",
   "metadata": {},
   "source": [
    "### Data splitting \n",
    "rubric={points:5}\n",
    "\n",
    "In order to avoid violation of the golden rule, the first step before we do anything is splitting the data. \n",
    "\n",
    "**Your tasks:**\n",
    "\n",
    "1. Split the data into `train_df` (80%) and `test_df` (20%) with `random_state = 24`. Keep the target column (`income`) in the splits so that we can use it in the exploratory data analysis.  \n",
    "\n",
    "_Usually having more data for training is a good idea. But here I'm using 80%/20% split because this is kind of a big dataset for a modest laptop. A smaller training data means it won't take too long to train the model on your laptop. A side advantage of this would be that with a bigger test split, we'll have a more reliable estimate of the deployment performance!_"
   ]
  },
  {
   "cell_type": "code",
   "execution_count": 3,
   "id": "91a3f190",
   "metadata": {
    "deletable": false,
    "nbgrader": {
     "cell_type": "code",
     "checksum": "664609bb3239b1f2db201db3a084249e",
     "grade": true,
     "grade_id": "cell-ede84e17a177c40c",
     "locked": false,
     "points": 5,
     "schema_version": 3,
     "solution": true,
     "task": false
    },
    "slideshow": {
     "slide_type": "slide"
    }
   },
   "outputs": [],
   "source": [
    "train_df = None\n",
    "test_df = None\n",
    "\n",
    "# BEGIN YOUR CODE HERE\n",
    "\n",
    "train_df, test_df = train_test_split(census_df, test_size=0.2, random_state=24)\n",
    "\n",
    "# END YOUR CODE HERE"
   ]
  },
  {
   "cell_type": "markdown",
   "id": "fc86ac4c",
   "metadata": {
    "slideshow": {
     "slide_type": "slide"
    }
   },
   "source": [
    "## Exercise B: Exploratory data analysis (EDA)\n",
    "<hr>"
   ]
  },
  {
   "cell_type": "markdown",
   "id": "94e1c10e",
   "metadata": {},
   "source": [
    "Let's examine our `train_df`. "
   ]
  },
  {
   "cell_type": "code",
   "execution_count": 4,
   "id": "a57216d3",
   "metadata": {},
   "outputs": [
    {
     "data": {
      "text/html": [
       "<div>\n",
       "<style scoped>\n",
       "    .dataframe tbody tr th:only-of-type {\n",
       "        vertical-align: middle;\n",
       "    }\n",
       "\n",
       "    .dataframe tbody tr th {\n",
       "        vertical-align: top;\n",
       "    }\n",
       "\n",
       "    .dataframe thead th {\n",
       "        text-align: right;\n",
       "    }\n",
       "</style>\n",
       "<table border=\"1\" class=\"dataframe\">\n",
       "  <thead>\n",
       "    <tr style=\"text-align: right;\">\n",
       "      <th></th>\n",
       "      <th>age</th>\n",
       "      <th>workclass</th>\n",
       "      <th>fnlwgt</th>\n",
       "      <th>education</th>\n",
       "      <th>education.num</th>\n",
       "      <th>marital.status</th>\n",
       "      <th>occupation</th>\n",
       "      <th>relationship</th>\n",
       "      <th>race</th>\n",
       "      <th>sex</th>\n",
       "      <th>capital.gain</th>\n",
       "      <th>capital.loss</th>\n",
       "      <th>hours.per.week</th>\n",
       "      <th>native.country</th>\n",
       "      <th>income</th>\n",
       "    </tr>\n",
       "  </thead>\n",
       "  <tbody>\n",
       "    <tr>\n",
       "      <th>0</th>\n",
       "      <td>90</td>\n",
       "      <td>?</td>\n",
       "      <td>77053</td>\n",
       "      <td>HS-grad</td>\n",
       "      <td>9</td>\n",
       "      <td>Widowed</td>\n",
       "      <td>?</td>\n",
       "      <td>Not-in-family</td>\n",
       "      <td>White</td>\n",
       "      <td>Female</td>\n",
       "      <td>0</td>\n",
       "      <td>4356</td>\n",
       "      <td>40</td>\n",
       "      <td>United-States</td>\n",
       "      <td>&lt;=50K</td>\n",
       "    </tr>\n",
       "    <tr>\n",
       "      <th>1</th>\n",
       "      <td>82</td>\n",
       "      <td>Private</td>\n",
       "      <td>132870</td>\n",
       "      <td>HS-grad</td>\n",
       "      <td>9</td>\n",
       "      <td>Widowed</td>\n",
       "      <td>Exec-managerial</td>\n",
       "      <td>Not-in-family</td>\n",
       "      <td>White</td>\n",
       "      <td>Female</td>\n",
       "      <td>0</td>\n",
       "      <td>4356</td>\n",
       "      <td>18</td>\n",
       "      <td>United-States</td>\n",
       "      <td>&lt;=50K</td>\n",
       "    </tr>\n",
       "    <tr>\n",
       "      <th>2</th>\n",
       "      <td>66</td>\n",
       "      <td>?</td>\n",
       "      <td>186061</td>\n",
       "      <td>Some-college</td>\n",
       "      <td>10</td>\n",
       "      <td>Widowed</td>\n",
       "      <td>?</td>\n",
       "      <td>Unmarried</td>\n",
       "      <td>Black</td>\n",
       "      <td>Female</td>\n",
       "      <td>0</td>\n",
       "      <td>4356</td>\n",
       "      <td>40</td>\n",
       "      <td>United-States</td>\n",
       "      <td>&lt;=50K</td>\n",
       "    </tr>\n",
       "    <tr>\n",
       "      <th>3</th>\n",
       "      <td>54</td>\n",
       "      <td>Private</td>\n",
       "      <td>140359</td>\n",
       "      <td>7th-8th</td>\n",
       "      <td>4</td>\n",
       "      <td>Divorced</td>\n",
       "      <td>Machine-op-inspct</td>\n",
       "      <td>Unmarried</td>\n",
       "      <td>White</td>\n",
       "      <td>Female</td>\n",
       "      <td>0</td>\n",
       "      <td>3900</td>\n",
       "      <td>40</td>\n",
       "      <td>United-States</td>\n",
       "      <td>&lt;=50K</td>\n",
       "    </tr>\n",
       "    <tr>\n",
       "      <th>4</th>\n",
       "      <td>41</td>\n",
       "      <td>Private</td>\n",
       "      <td>264663</td>\n",
       "      <td>Some-college</td>\n",
       "      <td>10</td>\n",
       "      <td>Separated</td>\n",
       "      <td>Prof-specialty</td>\n",
       "      <td>Own-child</td>\n",
       "      <td>White</td>\n",
       "      <td>Female</td>\n",
       "      <td>0</td>\n",
       "      <td>3900</td>\n",
       "      <td>40</td>\n",
       "      <td>United-States</td>\n",
       "      <td>&lt;=50K</td>\n",
       "    </tr>\n",
       "    <tr>\n",
       "      <th>...</th>\n",
       "      <td>...</td>\n",
       "      <td>...</td>\n",
       "      <td>...</td>\n",
       "      <td>...</td>\n",
       "      <td>...</td>\n",
       "      <td>...</td>\n",
       "      <td>...</td>\n",
       "      <td>...</td>\n",
       "      <td>...</td>\n",
       "      <td>...</td>\n",
       "      <td>...</td>\n",
       "      <td>...</td>\n",
       "      <td>...</td>\n",
       "      <td>...</td>\n",
       "      <td>...</td>\n",
       "    </tr>\n",
       "    <tr>\n",
       "      <th>32554</th>\n",
       "      <td>32</td>\n",
       "      <td>Private</td>\n",
       "      <td>116138</td>\n",
       "      <td>Masters</td>\n",
       "      <td>14</td>\n",
       "      <td>Never-married</td>\n",
       "      <td>Tech-support</td>\n",
       "      <td>Not-in-family</td>\n",
       "      <td>Asian-Pac-Islander</td>\n",
       "      <td>Male</td>\n",
       "      <td>0</td>\n",
       "      <td>0</td>\n",
       "      <td>11</td>\n",
       "      <td>Taiwan</td>\n",
       "      <td>&lt;=50K</td>\n",
       "    </tr>\n",
       "    <tr>\n",
       "      <th>32555</th>\n",
       "      <td>53</td>\n",
       "      <td>Private</td>\n",
       "      <td>321865</td>\n",
       "      <td>Masters</td>\n",
       "      <td>14</td>\n",
       "      <td>Married-civ-spouse</td>\n",
       "      <td>Exec-managerial</td>\n",
       "      <td>Husband</td>\n",
       "      <td>White</td>\n",
       "      <td>Male</td>\n",
       "      <td>0</td>\n",
       "      <td>0</td>\n",
       "      <td>40</td>\n",
       "      <td>United-States</td>\n",
       "      <td>&gt;50K</td>\n",
       "    </tr>\n",
       "    <tr>\n",
       "      <th>32558</th>\n",
       "      <td>40</td>\n",
       "      <td>Private</td>\n",
       "      <td>154374</td>\n",
       "      <td>HS-grad</td>\n",
       "      <td>9</td>\n",
       "      <td>Married-civ-spouse</td>\n",
       "      <td>Machine-op-inspct</td>\n",
       "      <td>Husband</td>\n",
       "      <td>White</td>\n",
       "      <td>Male</td>\n",
       "      <td>0</td>\n",
       "      <td>0</td>\n",
       "      <td>40</td>\n",
       "      <td>United-States</td>\n",
       "      <td>&gt;50K</td>\n",
       "    </tr>\n",
       "    <tr>\n",
       "      <th>32559</th>\n",
       "      <td>58</td>\n",
       "      <td>Private</td>\n",
       "      <td>151910</td>\n",
       "      <td>HS-grad</td>\n",
       "      <td>9</td>\n",
       "      <td>Widowed</td>\n",
       "      <td>Adm-clerical</td>\n",
       "      <td>Unmarried</td>\n",
       "      <td>White</td>\n",
       "      <td>Female</td>\n",
       "      <td>0</td>\n",
       "      <td>0</td>\n",
       "      <td>40</td>\n",
       "      <td>United-States</td>\n",
       "      <td>&lt;=50K</td>\n",
       "    </tr>\n",
       "    <tr>\n",
       "      <th>32560</th>\n",
       "      <td>22</td>\n",
       "      <td>Private</td>\n",
       "      <td>201490</td>\n",
       "      <td>HS-grad</td>\n",
       "      <td>9</td>\n",
       "      <td>Never-married</td>\n",
       "      <td>Adm-clerical</td>\n",
       "      <td>Own-child</td>\n",
       "      <td>White</td>\n",
       "      <td>Male</td>\n",
       "      <td>0</td>\n",
       "      <td>0</td>\n",
       "      <td>20</td>\n",
       "      <td>United-States</td>\n",
       "      <td>&lt;=50K</td>\n",
       "    </tr>\n",
       "  </tbody>\n",
       "</table>\n",
       "<p>26048 rows × 15 columns</p>\n",
       "</div>"
      ],
      "text/plain": [
       "       age workclass  fnlwgt     education  education.num      marital.status  \\\n",
       "0       90         ?   77053       HS-grad              9             Widowed   \n",
       "1       82   Private  132870       HS-grad              9             Widowed   \n",
       "2       66         ?  186061  Some-college             10             Widowed   \n",
       "3       54   Private  140359       7th-8th              4            Divorced   \n",
       "4       41   Private  264663  Some-college             10           Separated   \n",
       "...    ...       ...     ...           ...            ...                 ...   \n",
       "32554   32   Private  116138       Masters             14       Never-married   \n",
       "32555   53   Private  321865       Masters             14  Married-civ-spouse   \n",
       "32558   40   Private  154374       HS-grad              9  Married-civ-spouse   \n",
       "32559   58   Private  151910       HS-grad              9             Widowed   \n",
       "32560   22   Private  201490       HS-grad              9       Never-married   \n",
       "\n",
       "              occupation   relationship                race     sex  \\\n",
       "0                      ?  Not-in-family               White  Female   \n",
       "1        Exec-managerial  Not-in-family               White  Female   \n",
       "2                      ?      Unmarried               Black  Female   \n",
       "3      Machine-op-inspct      Unmarried               White  Female   \n",
       "4         Prof-specialty      Own-child               White  Female   \n",
       "...                  ...            ...                 ...     ...   \n",
       "32554       Tech-support  Not-in-family  Asian-Pac-Islander    Male   \n",
       "32555    Exec-managerial        Husband               White    Male   \n",
       "32558  Machine-op-inspct        Husband               White    Male   \n",
       "32559       Adm-clerical      Unmarried               White  Female   \n",
       "32560       Adm-clerical      Own-child               White    Male   \n",
       "\n",
       "       capital.gain  capital.loss  hours.per.week native.country income  \n",
       "0                 0          4356              40  United-States  <=50K  \n",
       "1                 0          4356              18  United-States  <=50K  \n",
       "2                 0          4356              40  United-States  <=50K  \n",
       "3                 0          3900              40  United-States  <=50K  \n",
       "4                 0          3900              40  United-States  <=50K  \n",
       "...             ...           ...             ...            ...    ...  \n",
       "32554             0             0              11         Taiwan  <=50K  \n",
       "32555             0             0              40  United-States   >50K  \n",
       "32558             0             0              40  United-States   >50K  \n",
       "32559             0             0              40  United-States  <=50K  \n",
       "32560             0             0              20  United-States  <=50K  \n",
       "\n",
       "[26048 rows x 15 columns]"
      ]
     },
     "execution_count": 4,
     "metadata": {},
     "output_type": "execute_result"
    }
   ],
   "source": [
    "train_df.sort_index()"
   ]
  },
  {
   "cell_type": "markdown",
   "id": "f2159937",
   "metadata": {},
   "source": [
    "We see some missing values represented with a \"?\". Probably these were the questions not answered by some people during the census.  Usually `.describe()` or `.info()` methods would give you information on missing values. But here, they won't pick \"?\" as missing values as they are encoded as strings instead of an actual NaN in Python. So let's replace them with `np.nan` before we carry out EDA. If you do not do it, you'll encounter an error later on when you try to pass this data to a classifier. "
   ]
  },
  {
   "cell_type": "code",
   "execution_count": 5,
   "id": "75700fbf",
   "metadata": {},
   "outputs": [
    {
     "data": {
      "text/plain": [
       "(26048, 15)"
      ]
     },
     "execution_count": 5,
     "metadata": {},
     "output_type": "execute_result"
    }
   ],
   "source": [
    "train_df_nan = train_df.replace(\"?\", np.nan)\n",
    "test_df_nan = test_df.replace(\"?\", np.nan)\n",
    "train_df_nan.shape"
   ]
  },
  {
   "cell_type": "code",
   "execution_count": 6,
   "id": "23a68eac",
   "metadata": {},
   "outputs": [
    {
     "data": {
      "text/html": [
       "<div>\n",
       "<style scoped>\n",
       "    .dataframe tbody tr th:only-of-type {\n",
       "        vertical-align: middle;\n",
       "    }\n",
       "\n",
       "    .dataframe tbody tr th {\n",
       "        vertical-align: top;\n",
       "    }\n",
       "\n",
       "    .dataframe thead th {\n",
       "        text-align: right;\n",
       "    }\n",
       "</style>\n",
       "<table border=\"1\" class=\"dataframe\">\n",
       "  <thead>\n",
       "    <tr style=\"text-align: right;\">\n",
       "      <th></th>\n",
       "      <th>age</th>\n",
       "      <th>workclass</th>\n",
       "      <th>fnlwgt</th>\n",
       "      <th>education</th>\n",
       "      <th>education.num</th>\n",
       "      <th>marital.status</th>\n",
       "      <th>occupation</th>\n",
       "      <th>relationship</th>\n",
       "      <th>race</th>\n",
       "      <th>sex</th>\n",
       "      <th>capital.gain</th>\n",
       "      <th>capital.loss</th>\n",
       "      <th>hours.per.week</th>\n",
       "      <th>native.country</th>\n",
       "      <th>income</th>\n",
       "    </tr>\n",
       "  </thead>\n",
       "  <tbody>\n",
       "    <tr>\n",
       "      <th>0</th>\n",
       "      <td>90</td>\n",
       "      <td>NaN</td>\n",
       "      <td>77053</td>\n",
       "      <td>HS-grad</td>\n",
       "      <td>9</td>\n",
       "      <td>Widowed</td>\n",
       "      <td>NaN</td>\n",
       "      <td>Not-in-family</td>\n",
       "      <td>White</td>\n",
       "      <td>Female</td>\n",
       "      <td>0</td>\n",
       "      <td>4356</td>\n",
       "      <td>40</td>\n",
       "      <td>United-States</td>\n",
       "      <td>&lt;=50K</td>\n",
       "    </tr>\n",
       "    <tr>\n",
       "      <th>1</th>\n",
       "      <td>82</td>\n",
       "      <td>Private</td>\n",
       "      <td>132870</td>\n",
       "      <td>HS-grad</td>\n",
       "      <td>9</td>\n",
       "      <td>Widowed</td>\n",
       "      <td>Exec-managerial</td>\n",
       "      <td>Not-in-family</td>\n",
       "      <td>White</td>\n",
       "      <td>Female</td>\n",
       "      <td>0</td>\n",
       "      <td>4356</td>\n",
       "      <td>18</td>\n",
       "      <td>United-States</td>\n",
       "      <td>&lt;=50K</td>\n",
       "    </tr>\n",
       "    <tr>\n",
       "      <th>2</th>\n",
       "      <td>66</td>\n",
       "      <td>NaN</td>\n",
       "      <td>186061</td>\n",
       "      <td>Some-college</td>\n",
       "      <td>10</td>\n",
       "      <td>Widowed</td>\n",
       "      <td>NaN</td>\n",
       "      <td>Unmarried</td>\n",
       "      <td>Black</td>\n",
       "      <td>Female</td>\n",
       "      <td>0</td>\n",
       "      <td>4356</td>\n",
       "      <td>40</td>\n",
       "      <td>United-States</td>\n",
       "      <td>&lt;=50K</td>\n",
       "    </tr>\n",
       "    <tr>\n",
       "      <th>3</th>\n",
       "      <td>54</td>\n",
       "      <td>Private</td>\n",
       "      <td>140359</td>\n",
       "      <td>7th-8th</td>\n",
       "      <td>4</td>\n",
       "      <td>Divorced</td>\n",
       "      <td>Machine-op-inspct</td>\n",
       "      <td>Unmarried</td>\n",
       "      <td>White</td>\n",
       "      <td>Female</td>\n",
       "      <td>0</td>\n",
       "      <td>3900</td>\n",
       "      <td>40</td>\n",
       "      <td>United-States</td>\n",
       "      <td>&lt;=50K</td>\n",
       "    </tr>\n",
       "    <tr>\n",
       "      <th>4</th>\n",
       "      <td>41</td>\n",
       "      <td>Private</td>\n",
       "      <td>264663</td>\n",
       "      <td>Some-college</td>\n",
       "      <td>10</td>\n",
       "      <td>Separated</td>\n",
       "      <td>Prof-specialty</td>\n",
       "      <td>Own-child</td>\n",
       "      <td>White</td>\n",
       "      <td>Female</td>\n",
       "      <td>0</td>\n",
       "      <td>3900</td>\n",
       "      <td>40</td>\n",
       "      <td>United-States</td>\n",
       "      <td>&lt;=50K</td>\n",
       "    </tr>\n",
       "    <tr>\n",
       "      <th>...</th>\n",
       "      <td>...</td>\n",
       "      <td>...</td>\n",
       "      <td>...</td>\n",
       "      <td>...</td>\n",
       "      <td>...</td>\n",
       "      <td>...</td>\n",
       "      <td>...</td>\n",
       "      <td>...</td>\n",
       "      <td>...</td>\n",
       "      <td>...</td>\n",
       "      <td>...</td>\n",
       "      <td>...</td>\n",
       "      <td>...</td>\n",
       "      <td>...</td>\n",
       "      <td>...</td>\n",
       "    </tr>\n",
       "    <tr>\n",
       "      <th>32554</th>\n",
       "      <td>32</td>\n",
       "      <td>Private</td>\n",
       "      <td>116138</td>\n",
       "      <td>Masters</td>\n",
       "      <td>14</td>\n",
       "      <td>Never-married</td>\n",
       "      <td>Tech-support</td>\n",
       "      <td>Not-in-family</td>\n",
       "      <td>Asian-Pac-Islander</td>\n",
       "      <td>Male</td>\n",
       "      <td>0</td>\n",
       "      <td>0</td>\n",
       "      <td>11</td>\n",
       "      <td>Taiwan</td>\n",
       "      <td>&lt;=50K</td>\n",
       "    </tr>\n",
       "    <tr>\n",
       "      <th>32555</th>\n",
       "      <td>53</td>\n",
       "      <td>Private</td>\n",
       "      <td>321865</td>\n",
       "      <td>Masters</td>\n",
       "      <td>14</td>\n",
       "      <td>Married-civ-spouse</td>\n",
       "      <td>Exec-managerial</td>\n",
       "      <td>Husband</td>\n",
       "      <td>White</td>\n",
       "      <td>Male</td>\n",
       "      <td>0</td>\n",
       "      <td>0</td>\n",
       "      <td>40</td>\n",
       "      <td>United-States</td>\n",
       "      <td>&gt;50K</td>\n",
       "    </tr>\n",
       "    <tr>\n",
       "      <th>32558</th>\n",
       "      <td>40</td>\n",
       "      <td>Private</td>\n",
       "      <td>154374</td>\n",
       "      <td>HS-grad</td>\n",
       "      <td>9</td>\n",
       "      <td>Married-civ-spouse</td>\n",
       "      <td>Machine-op-inspct</td>\n",
       "      <td>Husband</td>\n",
       "      <td>White</td>\n",
       "      <td>Male</td>\n",
       "      <td>0</td>\n",
       "      <td>0</td>\n",
       "      <td>40</td>\n",
       "      <td>United-States</td>\n",
       "      <td>&gt;50K</td>\n",
       "    </tr>\n",
       "    <tr>\n",
       "      <th>32559</th>\n",
       "      <td>58</td>\n",
       "      <td>Private</td>\n",
       "      <td>151910</td>\n",
       "      <td>HS-grad</td>\n",
       "      <td>9</td>\n",
       "      <td>Widowed</td>\n",
       "      <td>Adm-clerical</td>\n",
       "      <td>Unmarried</td>\n",
       "      <td>White</td>\n",
       "      <td>Female</td>\n",
       "      <td>0</td>\n",
       "      <td>0</td>\n",
       "      <td>40</td>\n",
       "      <td>United-States</td>\n",
       "      <td>&lt;=50K</td>\n",
       "    </tr>\n",
       "    <tr>\n",
       "      <th>32560</th>\n",
       "      <td>22</td>\n",
       "      <td>Private</td>\n",
       "      <td>201490</td>\n",
       "      <td>HS-grad</td>\n",
       "      <td>9</td>\n",
       "      <td>Never-married</td>\n",
       "      <td>Adm-clerical</td>\n",
       "      <td>Own-child</td>\n",
       "      <td>White</td>\n",
       "      <td>Male</td>\n",
       "      <td>0</td>\n",
       "      <td>0</td>\n",
       "      <td>20</td>\n",
       "      <td>United-States</td>\n",
       "      <td>&lt;=50K</td>\n",
       "    </tr>\n",
       "  </tbody>\n",
       "</table>\n",
       "<p>26048 rows × 15 columns</p>\n",
       "</div>"
      ],
      "text/plain": [
       "       age workclass  fnlwgt     education  education.num      marital.status  \\\n",
       "0       90       NaN   77053       HS-grad              9             Widowed   \n",
       "1       82   Private  132870       HS-grad              9             Widowed   \n",
       "2       66       NaN  186061  Some-college             10             Widowed   \n",
       "3       54   Private  140359       7th-8th              4            Divorced   \n",
       "4       41   Private  264663  Some-college             10           Separated   \n",
       "...    ...       ...     ...           ...            ...                 ...   \n",
       "32554   32   Private  116138       Masters             14       Never-married   \n",
       "32555   53   Private  321865       Masters             14  Married-civ-spouse   \n",
       "32558   40   Private  154374       HS-grad              9  Married-civ-spouse   \n",
       "32559   58   Private  151910       HS-grad              9             Widowed   \n",
       "32560   22   Private  201490       HS-grad              9       Never-married   \n",
       "\n",
       "              occupation   relationship                race     sex  \\\n",
       "0                    NaN  Not-in-family               White  Female   \n",
       "1        Exec-managerial  Not-in-family               White  Female   \n",
       "2                    NaN      Unmarried               Black  Female   \n",
       "3      Machine-op-inspct      Unmarried               White  Female   \n",
       "4         Prof-specialty      Own-child               White  Female   \n",
       "...                  ...            ...                 ...     ...   \n",
       "32554       Tech-support  Not-in-family  Asian-Pac-Islander    Male   \n",
       "32555    Exec-managerial        Husband               White    Male   \n",
       "32558  Machine-op-inspct        Husband               White    Male   \n",
       "32559       Adm-clerical      Unmarried               White  Female   \n",
       "32560       Adm-clerical      Own-child               White    Male   \n",
       "\n",
       "       capital.gain  capital.loss  hours.per.week native.country income  \n",
       "0                 0          4356              40  United-States  <=50K  \n",
       "1                 0          4356              18  United-States  <=50K  \n",
       "2                 0          4356              40  United-States  <=50K  \n",
       "3                 0          3900              40  United-States  <=50K  \n",
       "4                 0          3900              40  United-States  <=50K  \n",
       "...             ...           ...             ...            ...    ...  \n",
       "32554             0             0              11         Taiwan  <=50K  \n",
       "32555             0             0              40  United-States   >50K  \n",
       "32558             0             0              40  United-States   >50K  \n",
       "32559             0             0              40  United-States  <=50K  \n",
       "32560             0             0              20  United-States  <=50K  \n",
       "\n",
       "[26048 rows x 15 columns]"
      ]
     },
     "execution_count": 6,
     "metadata": {},
     "output_type": "execute_result"
    }
   ],
   "source": [
    "train_df_nan.sort_index()"
   ]
  },
  {
   "cell_type": "markdown",
   "id": "fbc3b45e",
   "metadata": {},
   "source": [
    "The \"?\" symbols are now replaced with `NaN` values. "
   ]
  },
  {
   "cell_type": "markdown",
   "id": "9712a0f7",
   "metadata": {},
   "source": [
    "### Visualizing features\n",
    "rubric={points:10}"
   ]
  },
  {
   "cell_type": "markdown",
   "id": "475622ec",
   "metadata": {},
   "source": [
    "#### Task B1\n",
    "rubric={points:4}\n",
    "\n",
    "`display` the information given by `train_df_nan.info()` and `train_df_nan.describe()` methods. \n",
    "In the case of `.describe()`, you can **optimally** use the `include=\"all\"` argument to show summary statistics of all  features. "
   ]
  },
  {
   "cell_type": "code",
   "execution_count": 7,
   "id": "f4b3f98f",
   "metadata": {
    "deletable": false,
    "nbgrader": {
     "cell_type": "code",
     "checksum": "b2743989e79d79206999089ddfe69e55",
     "grade": true,
     "grade_id": "cell-30f3e2214cfdbf33",
     "locked": false,
     "points": 4,
     "schema_version": 3,
     "solution": true,
     "task": false
    }
   },
   "outputs": [
    {
     "name": "stdout",
     "output_type": "stream",
     "text": [
      "<class 'pandas.core.frame.DataFrame'>\n",
      "Int64Index: 26048 entries, 20823 to 12706\n",
      "Data columns (total 15 columns):\n",
      " #   Column          Non-Null Count  Dtype \n",
      "---  ------          --------------  ----- \n",
      " 0   age             26048 non-null  int64 \n",
      " 1   workclass       24568 non-null  object\n",
      " 2   fnlwgt          26048 non-null  int64 \n",
      " 3   education       26048 non-null  object\n",
      " 4   education.num   26048 non-null  int64 \n",
      " 5   marital.status  26048 non-null  object\n",
      " 6   occupation      24564 non-null  object\n",
      " 7   relationship    26048 non-null  object\n",
      " 8   race            26048 non-null  object\n",
      " 9   sex             26048 non-null  object\n",
      " 10  capital.gain    26048 non-null  int64 \n",
      " 11  capital.loss    26048 non-null  int64 \n",
      " 12  hours.per.week  26048 non-null  int64 \n",
      " 13  native.country  25586 non-null  object\n",
      " 14  income          26048 non-null  object\n",
      "dtypes: int64(6), object(9)\n",
      "memory usage: 3.2+ MB\n"
     ]
    },
    {
     "data": {
      "text/plain": [
       "None"
      ]
     },
     "metadata": {},
     "output_type": "display_data"
    },
    {
     "data": {
      "text/html": [
       "<div>\n",
       "<style scoped>\n",
       "    .dataframe tbody tr th:only-of-type {\n",
       "        vertical-align: middle;\n",
       "    }\n",
       "\n",
       "    .dataframe tbody tr th {\n",
       "        vertical-align: top;\n",
       "    }\n",
       "\n",
       "    .dataframe thead th {\n",
       "        text-align: right;\n",
       "    }\n",
       "</style>\n",
       "<table border=\"1\" class=\"dataframe\">\n",
       "  <thead>\n",
       "    <tr style=\"text-align: right;\">\n",
       "      <th></th>\n",
       "      <th>age</th>\n",
       "      <th>workclass</th>\n",
       "      <th>fnlwgt</th>\n",
       "      <th>education</th>\n",
       "      <th>education.num</th>\n",
       "      <th>marital.status</th>\n",
       "      <th>occupation</th>\n",
       "      <th>relationship</th>\n",
       "      <th>race</th>\n",
       "      <th>sex</th>\n",
       "      <th>capital.gain</th>\n",
       "      <th>capital.loss</th>\n",
       "      <th>hours.per.week</th>\n",
       "      <th>native.country</th>\n",
       "      <th>income</th>\n",
       "    </tr>\n",
       "  </thead>\n",
       "  <tbody>\n",
       "    <tr>\n",
       "      <th>count</th>\n",
       "      <td>26048.000000</td>\n",
       "      <td>24568</td>\n",
       "      <td>2.604800e+04</td>\n",
       "      <td>26048</td>\n",
       "      <td>26048.000000</td>\n",
       "      <td>26048</td>\n",
       "      <td>24564</td>\n",
       "      <td>26048</td>\n",
       "      <td>26048</td>\n",
       "      <td>26048</td>\n",
       "      <td>26048.000000</td>\n",
       "      <td>26048.000000</td>\n",
       "      <td>26048.000000</td>\n",
       "      <td>25586</td>\n",
       "      <td>26048</td>\n",
       "    </tr>\n",
       "    <tr>\n",
       "      <th>unique</th>\n",
       "      <td>NaN</td>\n",
       "      <td>8</td>\n",
       "      <td>NaN</td>\n",
       "      <td>16</td>\n",
       "      <td>NaN</td>\n",
       "      <td>7</td>\n",
       "      <td>14</td>\n",
       "      <td>6</td>\n",
       "      <td>5</td>\n",
       "      <td>2</td>\n",
       "      <td>NaN</td>\n",
       "      <td>NaN</td>\n",
       "      <td>NaN</td>\n",
       "      <td>41</td>\n",
       "      <td>2</td>\n",
       "    </tr>\n",
       "    <tr>\n",
       "      <th>top</th>\n",
       "      <td>NaN</td>\n",
       "      <td>Private</td>\n",
       "      <td>NaN</td>\n",
       "      <td>HS-grad</td>\n",
       "      <td>NaN</td>\n",
       "      <td>Married-civ-spouse</td>\n",
       "      <td>Prof-specialty</td>\n",
       "      <td>Husband</td>\n",
       "      <td>White</td>\n",
       "      <td>Male</td>\n",
       "      <td>NaN</td>\n",
       "      <td>NaN</td>\n",
       "      <td>NaN</td>\n",
       "      <td>United-States</td>\n",
       "      <td>&lt;=50K</td>\n",
       "    </tr>\n",
       "    <tr>\n",
       "      <th>freq</th>\n",
       "      <td>NaN</td>\n",
       "      <td>18179</td>\n",
       "      <td>NaN</td>\n",
       "      <td>8437</td>\n",
       "      <td>NaN</td>\n",
       "      <td>11991</td>\n",
       "      <td>3307</td>\n",
       "      <td>10576</td>\n",
       "      <td>22227</td>\n",
       "      <td>17470</td>\n",
       "      <td>NaN</td>\n",
       "      <td>NaN</td>\n",
       "      <td>NaN</td>\n",
       "      <td>23371</td>\n",
       "      <td>19755</td>\n",
       "    </tr>\n",
       "    <tr>\n",
       "      <th>mean</th>\n",
       "      <td>38.591677</td>\n",
       "      <td>NaN</td>\n",
       "      <td>1.896370e+05</td>\n",
       "      <td>NaN</td>\n",
       "      <td>10.090295</td>\n",
       "      <td>NaN</td>\n",
       "      <td>NaN</td>\n",
       "      <td>NaN</td>\n",
       "      <td>NaN</td>\n",
       "      <td>NaN</td>\n",
       "      <td>1080.957885</td>\n",
       "      <td>89.201052</td>\n",
       "      <td>40.431549</td>\n",
       "      <td>NaN</td>\n",
       "      <td>NaN</td>\n",
       "    </tr>\n",
       "    <tr>\n",
       "      <th>std</th>\n",
       "      <td>13.631118</td>\n",
       "      <td>NaN</td>\n",
       "      <td>1.056490e+05</td>\n",
       "      <td>NaN</td>\n",
       "      <td>2.560870</td>\n",
       "      <td>NaN</td>\n",
       "      <td>NaN</td>\n",
       "      <td>NaN</td>\n",
       "      <td>NaN</td>\n",
       "      <td>NaN</td>\n",
       "      <td>7379.583044</td>\n",
       "      <td>407.430432</td>\n",
       "      <td>12.306181</td>\n",
       "      <td>NaN</td>\n",
       "      <td>NaN</td>\n",
       "    </tr>\n",
       "    <tr>\n",
       "      <th>min</th>\n",
       "      <td>17.000000</td>\n",
       "      <td>NaN</td>\n",
       "      <td>1.228500e+04</td>\n",
       "      <td>NaN</td>\n",
       "      <td>1.000000</td>\n",
       "      <td>NaN</td>\n",
       "      <td>NaN</td>\n",
       "      <td>NaN</td>\n",
       "      <td>NaN</td>\n",
       "      <td>NaN</td>\n",
       "      <td>0.000000</td>\n",
       "      <td>0.000000</td>\n",
       "      <td>1.000000</td>\n",
       "      <td>NaN</td>\n",
       "      <td>NaN</td>\n",
       "    </tr>\n",
       "    <tr>\n",
       "      <th>25%</th>\n",
       "      <td>28.000000</td>\n",
       "      <td>NaN</td>\n",
       "      <td>1.175830e+05</td>\n",
       "      <td>NaN</td>\n",
       "      <td>9.000000</td>\n",
       "      <td>NaN</td>\n",
       "      <td>NaN</td>\n",
       "      <td>NaN</td>\n",
       "      <td>NaN</td>\n",
       "      <td>NaN</td>\n",
       "      <td>0.000000</td>\n",
       "      <td>0.000000</td>\n",
       "      <td>40.000000</td>\n",
       "      <td>NaN</td>\n",
       "      <td>NaN</td>\n",
       "    </tr>\n",
       "    <tr>\n",
       "      <th>50%</th>\n",
       "      <td>37.000000</td>\n",
       "      <td>NaN</td>\n",
       "      <td>1.783545e+05</td>\n",
       "      <td>NaN</td>\n",
       "      <td>10.000000</td>\n",
       "      <td>NaN</td>\n",
       "      <td>NaN</td>\n",
       "      <td>NaN</td>\n",
       "      <td>NaN</td>\n",
       "      <td>NaN</td>\n",
       "      <td>0.000000</td>\n",
       "      <td>0.000000</td>\n",
       "      <td>40.000000</td>\n",
       "      <td>NaN</td>\n",
       "      <td>NaN</td>\n",
       "    </tr>\n",
       "    <tr>\n",
       "      <th>75%</th>\n",
       "      <td>48.000000</td>\n",
       "      <td>NaN</td>\n",
       "      <td>2.374370e+05</td>\n",
       "      <td>NaN</td>\n",
       "      <td>12.000000</td>\n",
       "      <td>NaN</td>\n",
       "      <td>NaN</td>\n",
       "      <td>NaN</td>\n",
       "      <td>NaN</td>\n",
       "      <td>NaN</td>\n",
       "      <td>0.000000</td>\n",
       "      <td>0.000000</td>\n",
       "      <td>45.000000</td>\n",
       "      <td>NaN</td>\n",
       "      <td>NaN</td>\n",
       "    </tr>\n",
       "    <tr>\n",
       "      <th>max</th>\n",
       "      <td>90.000000</td>\n",
       "      <td>NaN</td>\n",
       "      <td>1.484705e+06</td>\n",
       "      <td>NaN</td>\n",
       "      <td>16.000000</td>\n",
       "      <td>NaN</td>\n",
       "      <td>NaN</td>\n",
       "      <td>NaN</td>\n",
       "      <td>NaN</td>\n",
       "      <td>NaN</td>\n",
       "      <td>99999.000000</td>\n",
       "      <td>4356.000000</td>\n",
       "      <td>99.000000</td>\n",
       "      <td>NaN</td>\n",
       "      <td>NaN</td>\n",
       "    </tr>\n",
       "  </tbody>\n",
       "</table>\n",
       "</div>"
      ],
      "text/plain": [
       "                 age workclass        fnlwgt education  education.num  \\\n",
       "count   26048.000000     24568  2.604800e+04     26048   26048.000000   \n",
       "unique           NaN         8           NaN        16            NaN   \n",
       "top              NaN   Private           NaN   HS-grad            NaN   \n",
       "freq             NaN     18179           NaN      8437            NaN   \n",
       "mean       38.591677       NaN  1.896370e+05       NaN      10.090295   \n",
       "std        13.631118       NaN  1.056490e+05       NaN       2.560870   \n",
       "min        17.000000       NaN  1.228500e+04       NaN       1.000000   \n",
       "25%        28.000000       NaN  1.175830e+05       NaN       9.000000   \n",
       "50%        37.000000       NaN  1.783545e+05       NaN      10.000000   \n",
       "75%        48.000000       NaN  2.374370e+05       NaN      12.000000   \n",
       "max        90.000000       NaN  1.484705e+06       NaN      16.000000   \n",
       "\n",
       "            marital.status      occupation relationship   race    sex  \\\n",
       "count                26048           24564        26048  26048  26048   \n",
       "unique                   7              14            6      5      2   \n",
       "top     Married-civ-spouse  Prof-specialty      Husband  White   Male   \n",
       "freq                 11991            3307        10576  22227  17470   \n",
       "mean                   NaN             NaN          NaN    NaN    NaN   \n",
       "std                    NaN             NaN          NaN    NaN    NaN   \n",
       "min                    NaN             NaN          NaN    NaN    NaN   \n",
       "25%                    NaN             NaN          NaN    NaN    NaN   \n",
       "50%                    NaN             NaN          NaN    NaN    NaN   \n",
       "75%                    NaN             NaN          NaN    NaN    NaN   \n",
       "max                    NaN             NaN          NaN    NaN    NaN   \n",
       "\n",
       "        capital.gain  capital.loss  hours.per.week native.country income  \n",
       "count   26048.000000  26048.000000    26048.000000          25586  26048  \n",
       "unique           NaN           NaN             NaN             41      2  \n",
       "top              NaN           NaN             NaN  United-States  <=50K  \n",
       "freq             NaN           NaN             NaN          23371  19755  \n",
       "mean     1080.957885     89.201052       40.431549            NaN    NaN  \n",
       "std      7379.583044    407.430432       12.306181            NaN    NaN  \n",
       "min         0.000000      0.000000        1.000000            NaN    NaN  \n",
       "25%         0.000000      0.000000       40.000000            NaN    NaN  \n",
       "50%         0.000000      0.000000       40.000000            NaN    NaN  \n",
       "75%         0.000000      0.000000       45.000000            NaN    NaN  \n",
       "max     99999.000000   4356.000000       99.000000            NaN    NaN  "
      ]
     },
     "metadata": {},
     "output_type": "display_data"
    }
   ],
   "source": [
    "# BEGIN YOUR CODE HERE\n",
    "\n",
    "display(train_df_nan.info())\n",
    "display(train_df_nan.describe(include=\"all\"))\n",
    "\n",
    "# END YOUR CODE HERE"
   ]
  },
  {
   "cell_type": "markdown",
   "id": "78ba9deb",
   "metadata": {},
   "source": [
    "#### Task B2 \n",
    "rubric={points:6}\n",
    "\n",
    "Visualize the histograms of numeric features \n",
    "\n",
    "Hint: use `dataframe.hist` to show the distribution of six numeric features."
   ]
  },
  {
   "cell_type": "code",
   "execution_count": 8,
   "id": "ac56154a",
   "metadata": {
    "deletable": false,
    "nbgrader": {
     "cell_type": "code",
     "checksum": "e26c83a5f396d331afce9aa64682664b",
     "grade": true,
     "grade_id": "cell-440f98becf9bfe9a",
     "locked": false,
     "points": 6,
     "schema_version": 3,
     "solution": true,
     "task": false
    }
   },
   "outputs": [
    {
     "data": {
      "text/plain": [
       "array([[<AxesSubplot: title={'center': 'age'}>,\n",
       "        <AxesSubplot: title={'center': 'fnlwgt'}>],\n",
       "       [<AxesSubplot: title={'center': 'education.num'}>,\n",
       "        <AxesSubplot: title={'center': 'capital.gain'}>],\n",
       "       [<AxesSubplot: title={'center': 'capital.loss'}>,\n",
       "        <AxesSubplot: title={'center': 'hours.per.week'}>]], dtype=object)"
      ]
     },
     "execution_count": 8,
     "metadata": {},
     "output_type": "execute_result"
    },
    {
     "data": {
      "image/png": "[encoded data removed]",
      "text/plain": [
       "<Figure size 640x480 with 6 Axes>"
      ]
     },
     "metadata": {},
     "output_type": "display_data"
    }
   ],
   "source": [
    "# BEGIN YOUR CODE HERE\n",
    "\n",
    "train_df_nan.hist(['age','fnlwgt','education.num','capital.gain','capital.loss','hours.per.week'])\n",
    "\n",
    "# END YOUR CODE HERE"
   ]
  },
  {
   "cell_type": "markdown",
   "id": "e7a3df71",
   "metadata": {},
   "source": [
    "#### Task B3\n",
    "rubric={points:4}\n",
    "\n",
    "From the visualizations, which features seem relevant for the given prediction task?(You can pick multi-features)."
   ]
  },
  {
   "cell_type": "markdown",
   "id": "845365d6",
   "metadata": {
    "deletable": false,
    "nbgrader": {
     "cell_type": "markdown",
     "checksum": "e7b871c4fc21893b77345f6b8679f02a",
     "grade": true,
     "grade_id": "cell-42db519234eb9146",
     "locked": false,
     "points": 4,
     "schema_version": 3,
     "solution": true,
     "task": false
    }
   },
   "source": [
    "The features that seem relevant for the prediction task are age, fnlwgt and education.num."
   ]
  },
  {
   "cell_type": "markdown",
   "id": "7e1bc2bb",
   "metadata": {},
   "source": [
    "### Identify transformations to apply\n",
    "\n",
    "rubric={points:20}\n"
   ]
  },
  {
   "cell_type": "markdown",
   "id": "e09c78d4",
   "metadata": {},
   "source": [
    "#### Task B4\n",
    "rubric={points:13}\n",
    "\n",
    "Identify what kind of feature transformations (`scaling`, `imputation`, `one hot encoding`) you would apply on each column in the dataset and fill in the table below accordingly. You may decide to apply any transformations on a certain column or entirely drop a column from your model. That's totally fine. \n",
    "\n",
    "As an example, we use imputation and One-Hot encoding for feature `occupation` here."
   ]
  },
  {
   "cell_type": "markdown",
   "id": "c89e7e40",
   "metadata": {},
   "source": [
    "| Feature | Transformation |\n",
    "| --- | ----------- |\n",
    "| occupation | imputation, One-Hot Encoding |\n",
    "| age | |\n",
    "| workclass |  |\n",
    "| fnlwgt | |\n",
    "| education ||\n",
    "| education.num |  |\n",
    "| marital.status |  |\n",
    "| relationship |  |\n",
    "| race | |\n",
    "| sex |  |\n",
    "| capital.gain | |\n",
    "| capital.loss |  |\n",
    "| hours.per.week |  |\n",
    "| native.country |  |\n"
   ]
  },
  {
   "cell_type": "markdown",
   "id": "c6cd8f6f",
   "metadata": {
    "deletable": false,
    "editable": false,
    "nbgrader": {
     "cell_type": "markdown",
     "checksum": "fa24c28a3231c94c5f922ea4fc699f28",
     "grade": false,
     "grade_id": "cell-67ab20d3c82fa326",
     "locked": true,
     "points": 13,
     "schema_version": 3,
     "solution": false,
     "task": true
    }
   },
   "source": [
    "| Feature | Transformation |\n",
    "| --- | ----------- |\n",
    "| occupation | imputation, One-Hot Encoding |\n",
    "| age | scaling|\n",
    "| workclass | imputation, One-Hot Encoding |\n",
    "| fnlwgt | scaling |\n",
    "| education |One-Hot Encoding|\n",
    "| education.num | Scaling |\n",
    "| marital.status | One-Hot Encoding |\n",
    "| relationship | One-Hot Encoding |\n",
    "| race | Drop|\n",
    "| sex | One-Hot Encoding |\n",
    "| capital.gain | scaling |\n",
    "| capital.loss | scaling |\n",
    "| hours.per.week | scaling |\n",
    "| native.country | imputation, One-Hot Encoding |\n"
   ]
  },
  {
   "cell_type": "markdown",
   "id": "362d3515",
   "metadata": {},
   "source": [
    "#### Task B5\n",
    "rubric={points:5}\n",
    "\n",
    "Identify different feature types for applying different transformations. \n",
    "In particular, fill in the lists below.\n",
    "\n",
    "Hint:\n",
    "1. This dataset is very special - the features with missing values are categorical. So we don't create a list for `imputation_features`."
   ]
  },
  {
   "cell_type": "code",
   "execution_count": 9,
   "id": "41e75724",
   "metadata": {
    "deletable": false,
    "nbgrader": {
     "cell_type": "code",
     "checksum": "f7110445da3c456374c9de11648e68de",
     "grade": true,
     "grade_id": "cell-a19ac474c1373859",
     "locked": false,
     "points": 5,
     "schema_version": 3,
     "solution": true,
     "task": false
    }
   },
   "outputs": [],
   "source": [
    "# It's OK to keep some of the lists empty or add new lists.\n",
    "numeric_features = [] \n",
    "categorical_features = [] \n",
    "ordinal_features = [] \n",
    "binary_features = [] \n",
    "drop_features = []  # do not include these features in modeling\n",
    "passthrough_features = [] # do not apply any transformation\n",
    "\n",
    "# Example: numeric_features = [\"age\"] \n",
    "# BEGIN YOUR CODE HERE\n",
    "\n",
    "numeric_features = ['age','fnlwgt','education.num','capital.gain','capital.loss', 'hours.per.week'] \n",
    "categorical_features = ['education','native.country', 'relationship', 'occupation', 'marital.status','workclass']\n",
    "drop_features = ['race']  # do not include these features in modeling\n",
    "\n",
    "# END YOUR CODE HERE\n",
    "\n",
    "target = \"income\"\n"
   ]
  },
  {
   "cell_type": "markdown",
   "id": "5388a904",
   "metadata": {},
   "source": [
    "#### Task B6\n",
    "rubric={points:2}\n",
    "\n",
    "Is including the `race` feature for predicting income ethically a good idea? Briefly discuss.\n",
    "\n",
    "Hint:\n",
    "1. This question is a bit open-ended and there is no single correct solution."
   ]
  },
  {
   "cell_type": "markdown",
   "id": "58378ce7",
   "metadata": {
    "deletable": false,
    "nbgrader": {
     "cell_type": "markdown",
     "checksum": "56c5838ee59fb77a273b721c8d1a0eaf",
     "grade": true,
     "grade_id": "cell-e1334ca6da3801d2",
     "locked": false,
     "points": 2,
     "schema_version": 3,
     "solution": true,
     "task": false
    }
   },
   "source": [
    "I don't know if it necessarily would be a good or bad idea. I'm sure that race could have some impact on very very large data sets but for ours it doesn't seem significant to differentiate."
   ]
  },
  {
   "cell_type": "markdown",
   "id": "25dc6367",
   "metadata": {},
   "source": [
    "### Separating feature vectors and targets  \n",
    "rubric={points:6}\n",
    "\n",
    "<br>"
   ]
  },
  {
   "cell_type": "markdown",
   "id": "5938fcac",
   "metadata": {},
   "source": [
    "#### Task B7\n",
    "rubric={points:4}\n",
    "\n",
    "Create `X_train`, `y_train`, `X_test`, `y_test` from `train_df_nan` and `test_df_nan`.\n",
    "\n",
    "Hint:\n",
    "1. `income` is the target.\n",
    "2. The rest are considered as features."
   ]
  },
  {
   "cell_type": "code",
   "execution_count": 10,
   "id": "7159c656",
   "metadata": {
    "deletable": false,
    "nbgrader": {
     "cell_type": "code",
     "checksum": "3ed9e4e497355b656151201c061c9f7c",
     "grade": true,
     "grade_id": "cell-e0948492f2ad7018",
     "locked": false,
     "points": 4,
     "schema_version": 3,
     "solution": true,
     "task": false
    }
   },
   "outputs": [],
   "source": [
    "# Split the dataset, feature/target:\n",
    "# BEGIN YOUR CODE HERE\n",
    "\n",
    "X_train, y_train = train_df_nan.drop(columns=['income']), train_df_nan['income']\n",
    "X_test, y_test = test_df_nan.drop(columns=['income']), test_df_nan['income']\n",
    "\n",
    "# END YOUR CODE HERE"
   ]
  },
  {
   "cell_type": "markdown",
   "id": "2cd8f680",
   "metadata": {},
   "source": [
    "#### Task B8\n",
    "rubric={points:2}\n",
    "\n",
    "At this point, if you train kNN model on `X_train` and `y_train`, would it work? Why or why not?"
   ]
  },
  {
   "cell_type": "markdown",
   "id": "d9ee22a7",
   "metadata": {
    "deletable": false,
    "nbgrader": {
     "cell_type": "markdown",
     "checksum": "bd6387ed6f904f23e5c9337bd26f2f49",
     "grade": true,
     "grade_id": "cell-f0a5e4962c33bbdf",
     "locked": false,
     "points": 2,
     "schema_version": 3,
     "solution": true,
     "task": false
    }
   },
   "source": [
    "Yes it would work but it may not be that accurate."
   ]
  },
  {
   "cell_type": "markdown",
   "id": "bc0226a7",
   "metadata": {},
   "source": [
    "## Exercise C: Preprocessing\n",
    "<hr>"
   ]
  },
  {
   "cell_type": "markdown",
   "id": "4c637a02",
   "metadata": {},
   "source": [
    "### Preprocessing using `sklearn`'s `ColumnTransformer` and `Pipeline`\n",
    "rubric={points:18}\n",
    "\n",
    "Let's carry out preprocessing using `sklearn`'s `ColumnTransformer` and `Pipeline`. Note that you can define pipelines in two ways: \n",
    "- by using [`Pipeline`](https://scikit-learn.org/stable/modules/generated/sklearn.pipeline.Pipeline.html) and explicitly providing named steps\n",
    "- by using [`make_pipeline`](https://scikit-learn.org/stable/modules/generated/sklearn.pipeline.make_pipeline.html#sklearn.pipeline.make_pipeline), which automatically names the steps in the pipeline with their class names. \n",
    "\n",
    "Similarly you can create a column transformer in two ways:\n",
    "- by using [`ColumnTransformer`](https://scikit-learn.org/stable/modules/generated/sklearn.compose.ColumnTransformer.html)\n",
    "- by using [`make_column_transformer`](https://scikit-learn.org/stable/modules/generated/sklearn.compose.make_column_transformer.html) \n",
    "\n",
    "You may use the method of your choice but `make_pipeline` and `make_column_transformer` are highly recommended.  "
   ]
  },
  {
   "cell_type": "markdown",
   "id": "15e96ce2",
   "metadata": {},
   "source": [
    "#### Task C1 \n",
    "rubric={points:10}\n",
    "\n",
    "Create a column transformer `preprocessor` based on transformations you want to apply on the data from [Task B5](#Task-B5).\n",
    "\n",
    "Hint\n",
    "1. There are several features with missing values. Fortunately, they are categorical features.\n",
    "2. Don't forget add `SimpleImputer(strategy='most_frequent')` and `OneHotEncoder` for your `categorical_features`.\n",
    "3. You can use `make_pipeline` to combine `SimpleImputer` and `OneHotEncoder`."
   ]
  },
  {
   "cell_type": "code",
   "execution_count": 11,
   "id": "6ecf1142",
   "metadata": {
    "deletable": false,
    "lines_to_next_cell": 0,
    "nbgrader": {
     "cell_type": "code",
     "checksum": "aa3ab60f86fd234e74babf884e24175d",
     "grade": true,
     "grade_id": "cell-d8d20476ac487747",
     "locked": false,
     "points": 10,
     "schema_version": 3,
     "solution": true,
     "task": false
    }
   },
   "outputs": [],
   "source": [
    "preprocessor = None\n",
    "# BEGIN YOUR CODE HERE\n",
    "\n",
    "numeric_transformer = Pipeline(\n",
    "    steps=[(\"imputer\", SimpleImputer(strategy=\"most_frequent\")), (\"scaler\", StandardScaler())]\n",
    ")\n",
    "\n",
    "preprocessor = make_column_transformer(\n",
    "    (OneHotEncoder(), categorical_features),\n",
    "    (numeric_transformer, numeric_features),\n",
    "    (\"drop\", drop_features)\n",
    ")\n",
    "\n",
    "# END YOUR CODE HERE"
   ]
  },
  {
   "cell_type": "markdown",
   "id": "dc51d7fd",
   "metadata": {},
   "source": [
    "#### Task C2 \n",
    "rubric={points:4}\n",
    "\n",
    "Transform the data by calling `fit_transform` on the training set. \n",
    "Then **print** or **display** the shape of the transformed data."
   ]
  },
  {
   "cell_type": "code",
   "execution_count": 12,
   "id": "8aaca43a",
   "metadata": {
    "deletable": false,
    "nbgrader": {
     "cell_type": "code",
     "checksum": "8105aa5c74d1b3a047ff050b306ff2f4",
     "grade": true,
     "grade_id": "cell-3ef662c3ea19f095",
     "locked": false,
     "points": 4,
     "schema_version": 3,
     "solution": true,
     "task": false
    }
   },
   "outputs": [
    {
     "name": "stdout",
     "output_type": "stream",
     "text": [
      "(26048, 101)\n"
     ]
    }
   ],
   "source": [
    "# BEGIN YOUR CODE HERE\n",
    "\n",
    "preprocessor.fit_transform(X_train)\n",
    "\n",
    "print(preprocessor.fit_transform(X_train).shape)\n",
    "\n",
    "# END YOUR CODE HERE"
   ]
  },
  {
   "cell_type": "markdown",
   "id": "07f87b55",
   "metadata": {},
   "source": [
    "#### Task C3\n",
    "rubric={points:4}\n",
    "\n",
    "\n",
    "Why do we need to use a column transformer in this case? Briefly explain."
   ]
  },
  {
   "cell_type": "markdown",
   "id": "713fcc2c",
   "metadata": {
    "deletable": false,
    "nbgrader": {
     "cell_type": "markdown",
     "checksum": "858862684b37ecfad39c4e5de30f1e18",
     "grade": true,
     "grade_id": "cell-7309c309f7fa5f78",
     "locked": false,
     "points": 4,
     "schema_version": 3,
     "solution": true,
     "task": false
    }
   },
   "source": [
    "Because we need to be able to transform the different types of columns separately. Then, we concatenate the features that are generated to get our transformed data."
   ]
  },
  {
   "cell_type": "markdown",
   "id": "7738b69b",
   "metadata": {
    "slideshow": {
     "slide_type": "slide"
    }
   },
   "source": [
    "## Exercise D: Building models\n",
    "<hr>\n",
    "\n",
    "Now that we have preprocessed features, we are ready to build models. Below, I'm providing the function we used in class which returns mean cross-validation score along with standard deviation for a given model. Feel free to use it to keep track of your results if you like. "
   ]
  },
  {
   "cell_type": "code",
   "execution_count": 13,
   "id": "47bbfc68",
   "metadata": {
    "slideshow": {
     "slide_type": "slide"
    }
   },
   "outputs": [],
   "source": [
    "results_dict = {} # dictionary to store all the results"
   ]
  },
  {
   "cell_type": "code",
   "execution_count": 14,
   "id": "15821aed",
   "metadata": {},
   "outputs": [],
   "source": [
    "\n",
    "def mean_std_cross_val_scores(model, X_train, y_train, **kwargs):\n",
    "    \"\"\"\n",
    "    Returns mean and std of cross validation\n",
    "\n",
    "    Parameters\n",
    "    ----------\n",
    "    model :\n",
    "        scikit-learn model\n",
    "    X_train : numpy array or pandas DataFrame\n",
    "        X in the training data\n",
    "    y_train :\n",
    "        y in the training data\n",
    "\n",
    "    Returns\n",
    "    ----------\n",
    "        pandas Series with mean scores from cross_validation\n",
    "    \"\"\"\n",
    "\n",
    "    scores = cross_validate(model, X_train, y_train, **kwargs)\n",
    "\n",
    "    mean_scores = pd.DataFrame(scores).mean()\n",
    "    std_scores = pd.DataFrame(scores).std()\n",
    "    out_col = []\n",
    "\n",
    "    for i in range(len(mean_scores)):\n",
    "        out_col.append((f\"%0.3f (+/- %0.3f)\" % (mean_scores[i], std_scores[i])))\n",
    "\n",
    "    return pd.Series(data=out_col, index=mean_scores.index)"
   ]
  },
  {
   "cell_type": "markdown",
   "id": "a47a1c5b",
   "metadata": {
    "slideshow": {
     "slide_type": "slide"
    }
   },
   "source": [
    "### Baseline model \n",
    "rubric={points:6}"
   ]
  },
  {
   "cell_type": "markdown",
   "id": "3982dad7",
   "metadata": {
    "slideshow": {
     "slide_type": "slide"
    }
   },
   "source": [
    "#### Task D1\n",
    "rubric={points:3}\n",
    "\n",
    "Define a **pipeline** with two steps: `preprocessor` from [Task C2](Task-C2) and `scikit-learn`'s `DummyClassifier` with `strategy=\"prior\"` as your classifier."
   ]
  },
  {
   "cell_type": "code",
   "execution_count": 15,
   "id": "0970389f",
   "metadata": {
    "deletable": false,
    "nbgrader": {
     "cell_type": "code",
     "checksum": "7f17a77b2ed561e4c651d47ebe5da2bd",
     "grade": true,
     "grade_id": "cell-f21d59b77ebc9be9",
     "locked": false,
     "points": 3,
     "schema_version": 3,
     "solution": true,
     "task": false
    }
   },
   "outputs": [],
   "source": [
    "# BEGIN YOUR CODE HERE\n",
    "\n",
    "pipeline = Pipeline(\n",
    "        steps=[\n",
    "        ('transformer', preprocessor),\n",
    "        ('classifier', DummyClassifier(strategy=\"prior\")),\n",
    "        ]\n",
    "    )\n",
    "\n",
    "# END YOUR CODE HERE"
   ]
  },
  {
   "cell_type": "markdown",
   "id": "c54c7810",
   "metadata": {
    "slideshow": {
     "slide_type": "slide"
    }
   },
   "source": [
    "#### Task D2\n",
    "rubric={points:3}\n",
    "\n",
    "Carry out 5-fold cross-validation with the pipeline. Store the results in `results_dict['dummy]` above. \n",
    "\n",
    "> You may use the function `mean_std_cross_val_scores` above to carry out cross-validation and storing results. Refer to the class notes if you are unsure about how to use it. "
   ]
  },
  {
   "cell_type": "code",
   "execution_count": 16,
   "id": "1b92b081",
   "metadata": {
    "deletable": false,
    "nbgrader": {
     "cell_type": "code",
     "checksum": "fa2bef41178a4d2b1e8c59652e845a3b",
     "grade": true,
     "grade_id": "cell-00cee76d80b6e733",
     "locked": false,
     "points": 3,
     "schema_version": 3,
     "solution": true,
     "task": false
    }
   },
   "outputs": [],
   "source": [
    "results_dict[\"dummy\"] = None\n",
    "# BEGIN YOUR CODE HERE\n",
    "\n",
    "results_dict[\"dummy\"] = mean_std_cross_val_scores(\n",
    "    pipeline, X_train, y_train, cv=5, return_train_score=True\n",
    ")\n",
    "\n",
    "# END YOUR CODE HERE"
   ]
  },
  {
   "cell_type": "markdown",
   "id": "cdbcb74b",
   "metadata": {},
   "source": [
    "Now let us show the results."
   ]
  },
  {
   "cell_type": "code",
   "execution_count": 17,
   "id": "2964c90f",
   "metadata": {},
   "outputs": [
    {
     "data": {
      "text/html": [
       "<div>\n",
       "<style scoped>\n",
       "    .dataframe tbody tr th:only-of-type {\n",
       "        vertical-align: middle;\n",
       "    }\n",
       "\n",
       "    .dataframe tbody tr th {\n",
       "        vertical-align: top;\n",
       "    }\n",
       "\n",
       "    .dataframe thead th {\n",
       "        text-align: right;\n",
       "    }\n",
       "</style>\n",
       "<table border=\"1\" class=\"dataframe\">\n",
       "  <thead>\n",
       "    <tr style=\"text-align: right;\">\n",
       "      <th></th>\n",
       "      <th>fit_time</th>\n",
       "      <th>score_time</th>\n",
       "      <th>test_score</th>\n",
       "      <th>train_score</th>\n",
       "    </tr>\n",
       "  </thead>\n",
       "  <tbody>\n",
       "    <tr>\n",
       "      <th>dummy</th>\n",
       "      <td>0.098 (+/- 0.009)</td>\n",
       "      <td>0.035 (+/- 0.013)</td>\n",
       "      <td>0.758 (+/- 0.000)</td>\n",
       "      <td>0.758 (+/- 0.000)</td>\n",
       "    </tr>\n",
       "  </tbody>\n",
       "</table>\n",
       "</div>"
      ],
      "text/plain": [
       "                fit_time         score_time         test_score  \\\n",
       "dummy  0.098 (+/- 0.009)  0.035 (+/- 0.013)  0.758 (+/- 0.000)   \n",
       "\n",
       "             train_score  \n",
       "dummy  0.758 (+/- 0.000)  "
      ]
     },
     "execution_count": 17,
     "metadata": {},
     "output_type": "execute_result"
    }
   ],
   "source": [
    "pd.DataFrame(results_dict).T"
   ]
  },
  {
   "cell_type": "markdown",
   "id": "f8c2d09d",
   "metadata": {
    "slideshow": {
     "slide_type": "slide"
    }
   },
   "source": [
    "### Trying different classifiers\n",
    "rubric={points:12}"
   ]
  },
  {
   "cell_type": "markdown",
   "id": "036dea0f",
   "metadata": {
    "slideshow": {
     "slide_type": "slide"
    }
   },
   "source": [
    "#### Task D3\n",
    "rubric={points:5}\n",
    "\n",
    "For each of the models (`DecisionTreeClassifier` and `KNeighborsClassifier`) in the starter code below:\n",
    "\n",
    "- Define a pipeline with two steps: `preprocessor` from [Task C2](#Task-C2) and the model as your classifier. \n",
    "- Carry out 5-fold cross-validation with the pipeline.  \n",
    "- Store the results in `results_dict`. \n",
    "    "
   ]
  },
  {
   "cell_type": "code",
   "execution_count": 18,
   "id": "9af8dff4",
   "metadata": {
    "lines_to_next_cell": 0
   },
   "outputs": [],
   "source": [
    "models = {\n",
    "    \"decision tree\": DecisionTreeClassifier(),\n",
    "    \"kNN\": KNeighborsClassifier(),\n",
    "}"
   ]
  },
  {
   "cell_type": "code",
   "execution_count": 19,
   "id": "e3e3790f",
   "metadata": {
    "deletable": false,
    "nbgrader": {
     "cell_type": "code",
     "checksum": "6dc70200605d7cba32ceb40ca3f964b6",
     "grade": true,
     "grade_id": "cell-4a60eadeeea02f19",
     "locked": false,
     "points": 5,
     "schema_version": 3,
     "solution": true,
     "task": false
    }
   },
   "outputs": [],
   "source": [
    "np.random.seed(12345)\n",
    "# BEGIN YOUR CODE HERE\n",
    "\n",
    "for name, model in models.items():\n",
    "    temp_model = make_pipeline(preprocessor, model)\n",
    "    results_dict[name] = mean_std_cross_val_scores(\n",
    "        temp_model, X_train, y_train,\n",
    "        cv=5, return_train_score=True\n",
    "    )\n",
    "\n",
    "# END YOUR CODE HERE"
   ]
  },
  {
   "cell_type": "markdown",
   "id": "090ebc2d",
   "metadata": {
    "slideshow": {
     "slide_type": "slide"
    }
   },
   "source": [
    "#### Task D4\n",
    "rubric={points:2}\n",
    "\n",
    "Display all the results so far as a pandas dataframe."
   ]
  },
  {
   "cell_type": "code",
   "execution_count": 20,
   "id": "c4149d2f",
   "metadata": {
    "deletable": false,
    "nbgrader": {
     "cell_type": "code",
     "checksum": "bee5c29613d9f592b8f818d803e2cabe",
     "grade": true,
     "grade_id": "cell-ecc02b55d417c46e",
     "locked": false,
     "points": 2,
     "schema_version": 3,
     "solution": true,
     "task": false
    }
   },
   "outputs": [
    {
     "data": {
      "text/html": [
       "<div>\n",
       "<style scoped>\n",
       "    .dataframe tbody tr th:only-of-type {\n",
       "        vertical-align: middle;\n",
       "    }\n",
       "\n",
       "    .dataframe tbody tr th {\n",
       "        vertical-align: top;\n",
       "    }\n",
       "\n",
       "    .dataframe thead th {\n",
       "        text-align: right;\n",
       "    }\n",
       "</style>\n",
       "<table border=\"1\" class=\"dataframe\">\n",
       "  <thead>\n",
       "    <tr style=\"text-align: right;\">\n",
       "      <th></th>\n",
       "      <th>fit_time</th>\n",
       "      <th>score_time</th>\n",
       "      <th>test_score</th>\n",
       "      <th>train_score</th>\n",
       "    </tr>\n",
       "  </thead>\n",
       "  <tbody>\n",
       "    <tr>\n",
       "      <th>dummy</th>\n",
       "      <td>0.098 (+/- 0.009)</td>\n",
       "      <td>0.035 (+/- 0.013)</td>\n",
       "      <td>0.758 (+/- 0.000)</td>\n",
       "      <td>0.758 (+/- 0.000)</td>\n",
       "    </tr>\n",
       "    <tr>\n",
       "      <th>decision tree</th>\n",
       "      <td>0.825 (+/- 0.144)</td>\n",
       "      <td>0.018 (+/- 0.009)</td>\n",
       "      <td>0.816 (+/- 0.005)</td>\n",
       "      <td>1.000 (+/- 0.000)</td>\n",
       "    </tr>\n",
       "    <tr>\n",
       "      <th>kNN</th>\n",
       "      <td>0.058 (+/- 0.012)</td>\n",
       "      <td>4.679 (+/- 2.635)</td>\n",
       "      <td>0.832 (+/- 0.002)</td>\n",
       "      <td>0.883 (+/- 0.002)</td>\n",
       "    </tr>\n",
       "  </tbody>\n",
       "</table>\n",
       "</div>"
      ],
      "text/plain": [
       "                        fit_time         score_time         test_score  \\\n",
       "dummy          0.098 (+/- 0.009)  0.035 (+/- 0.013)  0.758 (+/- 0.000)   \n",
       "decision tree  0.825 (+/- 0.144)  0.018 (+/- 0.009)  0.816 (+/- 0.005)   \n",
       "kNN            0.058 (+/- 0.012)  4.679 (+/- 2.635)  0.832 (+/- 0.002)   \n",
       "\n",
       "                     train_score  \n",
       "dummy          0.758 (+/- 0.000)  \n",
       "decision tree  1.000 (+/- 0.000)  \n",
       "kNN            0.883 (+/- 0.002)  "
      ]
     },
     "execution_count": 20,
     "metadata": {},
     "output_type": "execute_result"
    }
   ],
   "source": [
    "# BEGIN YOUR CODE HERE\n",
    "\n",
    "pd.DataFrame(results_dict).T\n",
    "\n",
    "# END YOUR CODE HERE"
   ]
  },
  {
   "cell_type": "markdown",
   "id": "6918a80c",
   "metadata": {},
   "source": [
    "### Exploring importance of scaling\n",
    "rubric={points:10}\n",
    "\n",
    "In this exercise you'll examine whether scaling helps in case of KNNs. "
   ]
  },
  {
   "cell_type": "markdown",
   "id": "684b9246",
   "metadata": {},
   "source": [
    "#### Task D6\n",
    "rubric={points:4}\n",
    "\n",
    "Create a column transformer **without** the `StandardScaler` step for `numeric_features`. \n",
    "You can refer your to [Task C1](#Task-C1)."
   ]
  },
  {
   "cell_type": "code",
   "execution_count": 21,
   "id": "15345d81",
   "metadata": {
    "deletable": false,
    "nbgrader": {
     "cell_type": "code",
     "checksum": "264f82722e13e823794282e4d89b24ab",
     "grade": true,
     "grade_id": "cell-bb06df720e04ebd4",
     "locked": false,
     "points": 4,
     "schema_version": 3,
     "solution": true,
     "task": false
    }
   },
   "outputs": [],
   "source": [
    "# BEGIN YOUR CODE HERE\n",
    "\n",
    "preprocessor = make_column_transformer(\n",
    "    (OneHotEncoder(), categorical_features),\n",
    "    (SimpleImputer(strategy=\"most_frequent\"), numeric_features),\n",
    "    (\"drop\", drop_features)\n",
    ")\n",
    "\n",
    "# END YOUR CODE HERE"
   ]
  },
  {
   "cell_type": "markdown",
   "id": "5132fec6",
   "metadata": {},
   "source": [
    "#### Task D7\n",
    "rubric={points:4}\n",
    "\n",
    "Repeat the steps in [Task D3](#Task-D3) with this new column transformer. Save all results in `results_dic_compare`."
   ]
  },
  {
   "cell_type": "code",
   "execution_count": 22,
   "id": "c0aea091",
   "metadata": {
    "deletable": false,
    "nbgrader": {
     "cell_type": "code",
     "checksum": "bace5328bb1a41629bad752c462cd13d",
     "grade": true,
     "grade_id": "cell-51318be5ac76c162",
     "locked": false,
     "points": 4,
     "schema_version": 3,
     "solution": true,
     "task": false
    }
   },
   "outputs": [],
   "source": [
    "np.random.seed(12345)\n",
    "results_dict_compare = {}  # dictionary to store all the results\n",
    "\n",
    "# BEGIN YOUR CODE HERE\n",
    "\n",
    "for name, model in models.items():\n",
    "    temp_model = make_pipeline(preprocessor, model)\n",
    "    results_dict_compare[name] = mean_std_cross_val_scores(\n",
    "        temp_model, X_train, y_train,\n",
    "        cv=5, return_train_score=True\n",
    "    )\n",
    "\n",
    "# END YOUR CODE HERE"
   ]
  },
  {
   "cell_type": "code",
   "execution_count": 23,
   "id": "7b95a796",
   "metadata": {},
   "outputs": [
    {
     "data": {
      "text/html": [
       "<div>\n",
       "<style scoped>\n",
       "    .dataframe tbody tr th:only-of-type {\n",
       "        vertical-align: middle;\n",
       "    }\n",
       "\n",
       "    .dataframe tbody tr th {\n",
       "        vertical-align: top;\n",
       "    }\n",
       "\n",
       "    .dataframe thead th {\n",
       "        text-align: right;\n",
       "    }\n",
       "</style>\n",
       "<table border=\"1\" class=\"dataframe\">\n",
       "  <thead>\n",
       "    <tr style=\"text-align: right;\">\n",
       "      <th></th>\n",
       "      <th>fit_time</th>\n",
       "      <th>score_time</th>\n",
       "      <th>test_score</th>\n",
       "      <th>train_score</th>\n",
       "    </tr>\n",
       "  </thead>\n",
       "  <tbody>\n",
       "    <tr>\n",
       "      <th>decision tree</th>\n",
       "      <td>0.564 (+/- 0.012)</td>\n",
       "      <td>0.014 (+/- 0.006)</td>\n",
       "      <td>0.816 (+/- 0.005)</td>\n",
       "      <td>1.000 (+/- 0.000)</td>\n",
       "    </tr>\n",
       "    <tr>\n",
       "      <th>kNN</th>\n",
       "      <td>0.052 (+/- 0.003)</td>\n",
       "      <td>4.276 (+/- 2.409)</td>\n",
       "      <td>0.774 (+/- 0.003)</td>\n",
       "      <td>0.831 (+/- 0.001)</td>\n",
       "    </tr>\n",
       "  </tbody>\n",
       "</table>\n",
       "</div>"
      ],
      "text/plain": [
       "                        fit_time         score_time         test_score  \\\n",
       "decision tree  0.564 (+/- 0.012)  0.014 (+/- 0.006)  0.816 (+/- 0.005)   \n",
       "kNN            0.052 (+/- 0.003)  4.276 (+/- 2.409)  0.774 (+/- 0.003)   \n",
       "\n",
       "                     train_score  \n",
       "decision tree  1.000 (+/- 0.000)  \n",
       "kNN            0.831 (+/- 0.001)  "
      ]
     },
     "execution_count": 23,
     "metadata": {},
     "output_type": "execute_result"
    }
   ],
   "source": [
    "pd.DataFrame(results_dict_compare).T # compare the result with the outcome without doing feature scaling   "
   ]
  },
  {
   "cell_type": "markdown",
   "id": "3a3f34a4",
   "metadata": {},
   "source": [
    "#### Task D8\n",
    "rubric={points:2}\n",
    "\n",
    "Compare the results of scaled numeric features with unscaled numeric features. \n",
    "1. Is scaling necessary for decision trees? (Yes/No)\n",
    "2. Is scaling necessary for knn? (Yes/No)"
   ]
  },
  {
   "cell_type": "markdown",
   "id": "4863b3df",
   "metadata": {
    "deletable": false,
    "nbgrader": {
     "cell_type": "markdown",
     "checksum": "c7eb1956252a1274e0f77af2bbb82939",
     "grade": true,
     "grade_id": "cell-e0a33e852b68eeff",
     "locked": false,
     "points": 2,
     "schema_version": 3,
     "solution": true,
     "task": false
    }
   },
   "source": [
    "1. No\n",
    "2. Yes"
   ]
  },
  {
   "cell_type": "markdown",
   "id": "452600db",
   "metadata": {},
   "source": [
    "### Hyperparameter optimization\n",
    "rubric={points:8}\n",
    "\n",
    "In this exercise, you'll carry out hyperparameter optimization for the hyperparameter `n_neighbors` of KNeighborsClassifier. \n",
    "In practice you'll carry out hyperparameter optimization for all different hyperparameters for the most promising classifiers. \n",
    "For the purpose of this assignment, we'll only do it for the K Neighbors classifier with one hyperparameter: `n_neighbors`. "
   ]
  },
  {
   "cell_type": "markdown",
   "id": "7fb14229",
   "metadata": {},
   "source": [
    "#### Task D9\n",
    "rubric={points:4}\n",
    "\n",
    "For each `n_neighbors` value in the `param_grid` in the starter code below: \n",
    "- Create a pipeline object with two steps: `preprocessor` from [Task C1](#Task-C1) and KNeighbors classifier with the value of `n_neignbors`.\n",
    "- Carry out 5-fold cross validation with the pipeline using the function `mean_std_cross_val_scores`.  \n",
    "- Store the results in `results_dict_hyper` where the key is the `n_neignbors` value and the value is times and scores.\n",
    "- This step take a few minutes as you are training 4 knn models with 5 fold cross-validation.\n",
    "- Display results as a pandas DataFrame.\n",
    "    "
   ]
  },
  {
   "cell_type": "code",
   "execution_count": 24,
   "id": "96e154e0",
   "metadata": {},
   "outputs": [
    {
     "data": {
      "text/plain": [
       "[2, 3, 4, 5]"
      ]
     },
     "execution_count": 24,
     "metadata": {},
     "output_type": "execute_result"
    }
   ],
   "source": [
    "param_grid = [2, 3, 4, 5]\n",
    "param_grid"
   ]
  },
  {
   "cell_type": "code",
   "execution_count": 25,
   "id": "b463b6ef",
   "metadata": {
    "deletable": false,
    "nbgrader": {
     "cell_type": "code",
     "checksum": "d15cfcef1c387f93deab5191d04fffe3",
     "grade": true,
     "grade_id": "cell-f88c2042ea20cd24",
     "locked": false,
     "points": 4,
     "schema_version": 3,
     "solution": true,
     "task": false
    }
   },
   "outputs": [
    {
     "data": {
      "text/html": [
       "<div>\n",
       "<style scoped>\n",
       "    .dataframe tbody tr th:only-of-type {\n",
       "        vertical-align: middle;\n",
       "    }\n",
       "\n",
       "    .dataframe tbody tr th {\n",
       "        vertical-align: top;\n",
       "    }\n",
       "\n",
       "    .dataframe thead th {\n",
       "        text-align: right;\n",
       "    }\n",
       "</style>\n",
       "<table border=\"1\" class=\"dataframe\">\n",
       "  <thead>\n",
       "    <tr style=\"text-align: right;\">\n",
       "      <th></th>\n",
       "      <th>fit_time</th>\n",
       "      <th>score_time</th>\n",
       "      <th>test_score</th>\n",
       "      <th>train_score</th>\n",
       "    </tr>\n",
       "  </thead>\n",
       "  <tbody>\n",
       "    <tr>\n",
       "      <th>2</th>\n",
       "      <td>0.055 (+/- 0.007)</td>\n",
       "      <td>4.127 (+/- 2.369)</td>\n",
       "      <td>0.784 (+/- 0.005)</td>\n",
       "      <td>0.868 (+/- 0.001)</td>\n",
       "    </tr>\n",
       "    <tr>\n",
       "      <th>3</th>\n",
       "      <td>0.052 (+/- 0.005)</td>\n",
       "      <td>4.004 (+/- 2.251)</td>\n",
       "      <td>0.755 (+/- 0.006)</td>\n",
       "      <td>0.862 (+/- 0.001)</td>\n",
       "    </tr>\n",
       "    <tr>\n",
       "      <th>4</th>\n",
       "      <td>0.053 (+/- 0.004)</td>\n",
       "      <td>4.202 (+/- 2.350)</td>\n",
       "      <td>0.788 (+/- 0.002)</td>\n",
       "      <td>0.833 (+/- 0.001)</td>\n",
       "    </tr>\n",
       "    <tr>\n",
       "      <th>5</th>\n",
       "      <td>0.059 (+/- 0.019)</td>\n",
       "      <td>4.269 (+/- 2.423)</td>\n",
       "      <td>0.774 (+/- 0.003)</td>\n",
       "      <td>0.831 (+/- 0.001)</td>\n",
       "    </tr>\n",
       "  </tbody>\n",
       "</table>\n",
       "</div>"
      ],
      "text/plain": [
       "            fit_time         score_time         test_score        train_score\n",
       "2  0.055 (+/- 0.007)  4.127 (+/- 2.369)  0.784 (+/- 0.005)  0.868 (+/- 0.001)\n",
       "3  0.052 (+/- 0.005)  4.004 (+/- 2.251)  0.755 (+/- 0.006)  0.862 (+/- 0.001)\n",
       "4  0.053 (+/- 0.004)  4.202 (+/- 2.350)  0.788 (+/- 0.002)  0.833 (+/- 0.001)\n",
       "5  0.059 (+/- 0.019)  4.269 (+/- 2.423)  0.774 (+/- 0.003)  0.831 (+/- 0.001)"
      ]
     },
     "execution_count": 25,
     "metadata": {},
     "output_type": "execute_result"
    }
   ],
   "source": [
    "results_dict_hyper = {}\n",
    "\n",
    "# BEGIN YOUR CODE HERE\n",
    "\n",
    "for n in param_grid:\n",
    "    pipe = make_pipeline(preprocessor, KNeighborsClassifier(n_neighbors=n))\n",
    "    results_dict_hyper[str(n)] = mean_std_cross_val_scores(\n",
    "        pipe, X_train, y_train,\n",
    "        cv=5, return_train_score=True\n",
    "    )\n",
    "\n",
    "# END YOUR CODE HERE\n",
    "\n",
    "pd.DataFrame(results_dict_hyper).T"
   ]
  },
  {
   "cell_type": "markdown",
   "id": "fe4fa221",
   "metadata": {},
   "source": [
    "You can find the best hyper-parameter from `[2, 3, 4, 5]`. Keep it in your mind."
   ]
  },
  {
   "cell_type": "markdown",
   "id": "916ab427",
   "metadata": {
    "slideshow": {
     "slide_type": "slide"
    },
    "tags": []
   },
   "source": [
    "## Exercise E: Evaluating on the test set\n",
    "<hr>\n",
    "\n",
    "Now that we have a best performing model, it's time to assess our model on the set aside test set. In this exercise you'll examine whether the results you obtained using cross-validation on the train set are consistent with the results on the test set. "
   ]
  },
  {
   "cell_type": "markdown",
   "id": "e81cd850",
   "metadata": {},
   "source": [
    "### Task E1\n",
    "rubric={points:3}\n",
    "\n",
    "Train the best performing model on **the entire training set** with the pipeline define from [Task D9](#Task-D9).\n",
    "\n",
    "Hint:\n",
    "1. Cross validation is no longer needed as you have the best hyper-parameters\n",
    "2. You build a knn model with `X_train` and `y_train`."
   ]
  },
  {
   "cell_type": "code",
   "execution_count": 26,
   "id": "fe2adff6",
   "metadata": {
    "deletable": false,
    "nbgrader": {
     "cell_type": "code",
     "checksum": "1845c02c0dfe7b292f80758a05d868a5",
     "grade": true,
     "grade_id": "cell-7f2661e2f5b8f4a6",
     "locked": false,
     "points": 3,
     "schema_version": 3,
     "solution": true,
     "task": false
    }
   },
   "outputs": [
    {
     "data": {
      "text/html": [
       "<style>#sk-container-id-1 {color: black;background-color: white;}#sk-container-id-1 pre{padding: 0;}#sk-container-id-1 div.sk-toggleable {background-color: white;}#sk-container-id-1 label.sk-toggleable__label {cursor: pointer;display: block;width: 100%;margin-bottom: 0;padding: 0.3em;box-sizing: border-box;text-align: center;}#sk-container-id-1 label.sk-toggleable__label-arrow:before {content: \"▸\";float: left;margin-right: 0.25em;color: #696969;}#sk-container-id-1 label.sk-toggleable__label-arrow:hover:before {color: black;}#sk-container-id-1 div.sk-estimator:hover label.sk-toggleable__label-arrow:before {color: black;}#sk-container-id-1 div.sk-toggleable__content {max-height: 0;max-width: 0;overflow: hidden;text-align: left;background-color: #f0f8ff;}#sk-container-id-1 div.sk-toggleable__content pre {margin: 0.2em;color: black;border-radius: 0.25em;background-color: #f0f8ff;}#sk-container-id-1 input.sk-toggleable__control:checked~div.sk-toggleable__content {max-height: 200px;max-width: 100%;overflow: auto;}#sk-container-id-1 input.sk-toggleable__control:checked~label.sk-toggleable__label-arrow:before {content: \"▾\";}#sk-container-id-1 div.sk-estimator input.sk-toggleable__control:checked~label.sk-toggleable__label {background-color: #d4ebff;}#sk-container-id-1 div.sk-label input.sk-toggleable__control:checked~label.sk-toggleable__label {background-color: #d4ebff;}#sk-container-id-1 input.sk-hidden--visually {border: 0;clip: rect(1px 1px 1px 1px);clip: rect(1px, 1px, 1px, 1px);height: 1px;margin: -1px;overflow: hidden;padding: 0;position: absolute;width: 1px;}#sk-container-id-1 div.sk-estimator {font-family: monospace;background-color: #f0f8ff;border: 1px dotted black;border-radius: 0.25em;box-sizing: border-box;margin-bottom: 0.5em;}#sk-container-id-1 div.sk-estimator:hover {background-color: #d4ebff;}#sk-container-id-1 div.sk-parallel-item::after {content: \"\";width: 100%;border-bottom: 1px solid gray;flex-grow: 1;}#sk-container-id-1 div.sk-label:hover label.sk-toggleable__label {background-color: #d4ebff;}#sk-container-id-1 div.sk-serial::before {content: \"\";position: absolute;border-left: 1px solid gray;box-sizing: border-box;top: 0;bottom: 0;left: 50%;z-index: 0;}#sk-container-id-1 div.sk-serial {display: flex;flex-direction: column;align-items: center;background-color: white;padding-right: 0.2em;padding-left: 0.2em;position: relative;}#sk-container-id-1 div.sk-item {position: relative;z-index: 1;}#sk-container-id-1 div.sk-parallel {display: flex;align-items: stretch;justify-content: center;background-color: white;position: relative;}#sk-container-id-1 div.sk-item::before, #sk-container-id-1 div.sk-parallel-item::before {content: \"\";position: absolute;border-left: 1px solid gray;box-sizing: border-box;top: 0;bottom: 0;left: 50%;z-index: -1;}#sk-container-id-1 div.sk-parallel-item {display: flex;flex-direction: column;z-index: 1;position: relative;background-color: white;}#sk-container-id-1 div.sk-parallel-item:first-child::after {align-self: flex-end;width: 50%;}#sk-container-id-1 div.sk-parallel-item:last-child::after {align-self: flex-start;width: 50%;}#sk-container-id-1 div.sk-parallel-item:only-child::after {width: 0;}#sk-container-id-1 div.sk-dashed-wrapped {border: 1px dashed gray;margin: 0 0.4em 0.5em 0.4em;box-sizing: border-box;padding-bottom: 0.4em;background-color: white;}#sk-container-id-1 div.sk-label label {font-family: monospace;font-weight: bold;display: inline-block;line-height: 1.2em;}#sk-container-id-1 div.sk-label-container {text-align: center;}#sk-container-id-1 div.sk-container {/* jupyter's `normalize.less` sets `[hidden] { display: none; }` but bootstrap.min.css set `[hidden] { display: none !important; }` so we also need the `!important` here to be able to override the default hidden behavior on the sphinx rendered scikit-learn.org. See: https://github.com/scikit-learn/scikit-learn/issues/21755 */display: inline-block !important;position: relative;}#sk-container-id-1 div.sk-text-repr-fallback {display: none;}</style><div id=\"sk-container-id-1\" class=\"sk-top-container\"><div class=\"sk-text-repr-fallback\"><pre>Pipeline(steps=[(&#x27;columntransformer&#x27;,\n",
       "                 ColumnTransformer(transformers=[(&#x27;onehotencoder&#x27;,\n",
       "                                                  OneHotEncoder(),\n",
       "                                                  [&#x27;education&#x27;,\n",
       "                                                   &#x27;native.country&#x27;,\n",
       "                                                   &#x27;relationship&#x27;, &#x27;occupation&#x27;,\n",
       "                                                   &#x27;marital.status&#x27;,\n",
       "                                                   &#x27;workclass&#x27;]),\n",
       "                                                 (&#x27;simpleimputer&#x27;,\n",
       "                                                  SimpleImputer(strategy=&#x27;most_frequent&#x27;),\n",
       "                                                  [&#x27;age&#x27;, &#x27;fnlwgt&#x27;,\n",
       "                                                   &#x27;education.num&#x27;,\n",
       "                                                   &#x27;capital.gain&#x27;,\n",
       "                                                   &#x27;capital.loss&#x27;,\n",
       "                                                   &#x27;hours.per.week&#x27;]),\n",
       "                                                 (&#x27;drop&#x27;, &#x27;drop&#x27;, [&#x27;race&#x27;])])),\n",
       "                (&#x27;kneighborsclassifier&#x27;, KNeighborsClassifier(n_neighbors=4))])</pre><b>In a Jupyter environment, please rerun this cell to show the HTML representation or trust the notebook. <br />On GitHub, the HTML representation is unable to render, please try loading this page with nbviewer.org.</b></div><div class=\"sk-container\" hidden><div class=\"sk-item sk-dashed-wrapped\"><div class=\"sk-label-container\"><div class=\"sk-label sk-toggleable\"><input class=\"sk-toggleable__control sk-hidden--visually\" id=\"sk-estimator-id-1\" type=\"checkbox\" ><label for=\"sk-estimator-id-1\" class=\"sk-toggleable__label sk-toggleable__label-arrow\">Pipeline</label><div class=\"sk-toggleable__content\"><pre>Pipeline(steps=[(&#x27;columntransformer&#x27;,\n",
       "                 ColumnTransformer(transformers=[(&#x27;onehotencoder&#x27;,\n",
       "                                                  OneHotEncoder(),\n",
       "                                                  [&#x27;education&#x27;,\n",
       "                                                   &#x27;native.country&#x27;,\n",
       "                                                   &#x27;relationship&#x27;, &#x27;occupation&#x27;,\n",
       "                                                   &#x27;marital.status&#x27;,\n",
       "                                                   &#x27;workclass&#x27;]),\n",
       "                                                 (&#x27;simpleimputer&#x27;,\n",
       "                                                  SimpleImputer(strategy=&#x27;most_frequent&#x27;),\n",
       "                                                  [&#x27;age&#x27;, &#x27;fnlwgt&#x27;,\n",
       "                                                   &#x27;education.num&#x27;,\n",
       "                                                   &#x27;capital.gain&#x27;,\n",
       "                                                   &#x27;capital.loss&#x27;,\n",
       "                                                   &#x27;hours.per.week&#x27;]),\n",
       "                                                 (&#x27;drop&#x27;, &#x27;drop&#x27;, [&#x27;race&#x27;])])),\n",
       "                (&#x27;kneighborsclassifier&#x27;, KNeighborsClassifier(n_neighbors=4))])</pre></div></div></div><div class=\"sk-serial\"><div class=\"sk-item sk-dashed-wrapped\"><div class=\"sk-label-container\"><div class=\"sk-label sk-toggleable\"><input class=\"sk-toggleable__control sk-hidden--visually\" id=\"sk-estimator-id-2\" type=\"checkbox\" ><label for=\"sk-estimator-id-2\" class=\"sk-toggleable__label sk-toggleable__label-arrow\">columntransformer: ColumnTransformer</label><div class=\"sk-toggleable__content\"><pre>ColumnTransformer(transformers=[(&#x27;onehotencoder&#x27;, OneHotEncoder(),\n",
       "                                 [&#x27;education&#x27;, &#x27;native.country&#x27;, &#x27;relationship&#x27;,\n",
       "                                  &#x27;occupation&#x27;, &#x27;marital.status&#x27;,\n",
       "                                  &#x27;workclass&#x27;]),\n",
       "                                (&#x27;simpleimputer&#x27;,\n",
       "                                 SimpleImputer(strategy=&#x27;most_frequent&#x27;),\n",
       "                                 [&#x27;age&#x27;, &#x27;fnlwgt&#x27;, &#x27;education.num&#x27;,\n",
       "                                  &#x27;capital.gain&#x27;, &#x27;capital.loss&#x27;,\n",
       "                                  &#x27;hours.per.week&#x27;]),\n",
       "                                (&#x27;drop&#x27;, &#x27;drop&#x27;, [&#x27;race&#x27;])])</pre></div></div></div><div class=\"sk-parallel\"><div class=\"sk-parallel-item\"><div class=\"sk-item\"><div class=\"sk-label-container\"><div class=\"sk-label sk-toggleable\"><input class=\"sk-toggleable__control sk-hidden--visually\" id=\"sk-estimator-id-3\" type=\"checkbox\" ><label for=\"sk-estimator-id-3\" class=\"sk-toggleable__label sk-toggleable__label-arrow\">onehotencoder</label><div class=\"sk-toggleable__content\"><pre>[&#x27;education&#x27;, &#x27;native.country&#x27;, &#x27;relationship&#x27;, &#x27;occupation&#x27;, &#x27;marital.status&#x27;, &#x27;workclass&#x27;]</pre></div></div></div><div class=\"sk-serial\"><div class=\"sk-item\"><div class=\"sk-estimator sk-toggleable\"><input class=\"sk-toggleable__control sk-hidden--visually\" id=\"sk-estimator-id-4\" type=\"checkbox\" ><label for=\"sk-estimator-id-4\" class=\"sk-toggleable__label sk-toggleable__label-arrow\">OneHotEncoder</label><div class=\"sk-toggleable__content\"><pre>OneHotEncoder()</pre></div></div></div></div></div></div><div class=\"sk-parallel-item\"><div class=\"sk-item\"><div class=\"sk-label-container\"><div class=\"sk-label sk-toggleable\"><input class=\"sk-toggleable__control sk-hidden--visually\" id=\"sk-estimator-id-5\" type=\"checkbox\" ><label for=\"sk-estimator-id-5\" class=\"sk-toggleable__label sk-toggleable__label-arrow\">simpleimputer</label><div class=\"sk-toggleable__content\"><pre>[&#x27;age&#x27;, &#x27;fnlwgt&#x27;, &#x27;education.num&#x27;, &#x27;capital.gain&#x27;, &#x27;capital.loss&#x27;, &#x27;hours.per.week&#x27;]</pre></div></div></div><div class=\"sk-serial\"><div class=\"sk-item\"><div class=\"sk-estimator sk-toggleable\"><input class=\"sk-toggleable__control sk-hidden--visually\" id=\"sk-estimator-id-6\" type=\"checkbox\" ><label for=\"sk-estimator-id-6\" class=\"sk-toggleable__label sk-toggleable__label-arrow\">SimpleImputer</label><div class=\"sk-toggleable__content\"><pre>SimpleImputer(strategy=&#x27;most_frequent&#x27;)</pre></div></div></div></div></div></div><div class=\"sk-parallel-item\"><div class=\"sk-item\"><div class=\"sk-label-container\"><div class=\"sk-label sk-toggleable\"><input class=\"sk-toggleable__control sk-hidden--visually\" id=\"sk-estimator-id-7\" type=\"checkbox\" ><label for=\"sk-estimator-id-7\" class=\"sk-toggleable__label sk-toggleable__label-arrow\">drop</label><div class=\"sk-toggleable__content\"><pre>[&#x27;race&#x27;]</pre></div></div></div><div class=\"sk-serial\"><div class=\"sk-item\"><div class=\"sk-estimator sk-toggleable\"><input class=\"sk-toggleable__control sk-hidden--visually\" id=\"sk-estimator-id-8\" type=\"checkbox\" ><label for=\"sk-estimator-id-8\" class=\"sk-toggleable__label sk-toggleable__label-arrow\">drop</label><div class=\"sk-toggleable__content\"><pre>drop</pre></div></div></div></div></div></div></div></div><div class=\"sk-item\"><div class=\"sk-estimator sk-toggleable\"><input class=\"sk-toggleable__control sk-hidden--visually\" id=\"sk-estimator-id-9\" type=\"checkbox\" ><label for=\"sk-estimator-id-9\" class=\"sk-toggleable__label sk-toggleable__label-arrow\">KNeighborsClassifier</label><div class=\"sk-toggleable__content\"><pre>KNeighborsClassifier(n_neighbors=4)</pre></div></div></div></div></div></div></div>"
      ],
      "text/plain": [
       "Pipeline(steps=[('columntransformer',\n",
       "                 ColumnTransformer(transformers=[('onehotencoder',\n",
       "                                                  OneHotEncoder(),\n",
       "                                                  ['education',\n",
       "                                                   'native.country',\n",
       "                                                   'relationship', 'occupation',\n",
       "                                                   'marital.status',\n",
       "                                                   'workclass']),\n",
       "                                                 ('simpleimputer',\n",
       "                                                  SimpleImputer(strategy='most_frequent'),\n",
       "                                                  ['age', 'fnlwgt',\n",
       "                                                   'education.num',\n",
       "                                                   'capital.gain',\n",
       "                                                   'capital.loss',\n",
       "                                                   'hours.per.week']),\n",
       "                                                 ('drop', 'drop', ['race'])])),\n",
       "                ('kneighborsclassifier', KNeighborsClassifier(n_neighbors=4))])"
      ]
     },
     "execution_count": 26,
     "metadata": {},
     "output_type": "execute_result"
    }
   ],
   "source": [
    "# BEGIN YOUR CODE HERE\n",
    "\n",
    "knn = make_pipeline(preprocessor, KNeighborsClassifier(n_neighbors=4))\n",
    "knn.fit(X_train, y_train)\n",
    "\n",
    "# END YOUR CODE HERE"
   ]
  },
  {
   "cell_type": "markdown",
   "id": "413a9750",
   "metadata": {},
   "source": [
    "### Task E2\n",
    "rubric={points:2}\n",
    "\n",
    "Report the prediction of this knn model on `X_test`. "
   ]
  },
  {
   "cell_type": "code",
   "execution_count": 27,
   "id": "0df12275",
   "metadata": {
    "deletable": false,
    "nbgrader": {
     "cell_type": "code",
     "checksum": "8b0639f7561e4081379c1764176371c0",
     "grade": true,
     "grade_id": "cell-1dc585847b88c884",
     "locked": false,
     "points": 2,
     "schema_version": 3,
     "solution": true,
     "task": false
    }
   },
   "outputs": [],
   "source": [
    "# BEGIN YOUR CODE HERE\n",
    "\n",
    "X_test_predictions = knn.predict(X_test)\n",
    "\n",
    "# END YOUR CODE HERE"
   ]
  },
  {
   "cell_type": "markdown",
   "id": "c8aba0b2",
   "metadata": {},
   "source": [
    "We can evaluate the trained model with `accuracy_score` which means the accurate prediction rate."
   ]
  },
  {
   "cell_type": "code",
   "execution_count": 28,
   "id": "199a8fea",
   "metadata": {},
   "outputs": [
    {
     "name": "stdout",
     "output_type": "stream",
     "text": [
      "0.7839705204974666\n"
     ]
    }
   ],
   "source": [
    "from sklearn.metrics import accuracy_score\n",
    "accuracy = accuracy_score(y_test, X_test_predictions)\n",
    "print(accuracy)"
   ]
  },
  {
   "cell_type": "markdown",
   "id": "ad960eff",
   "metadata": {},
   "source": [
    "### Task E3\n",
    "rubric={points:2}\n",
    "\n",
    "Are the cross-validation results and test results consistent? (Yes or No)"
   ]
  },
  {
   "cell_type": "markdown",
   "id": "a0414b29",
   "metadata": {
    "deletable": false,
    "nbgrader": {
     "cell_type": "markdown",
     "checksum": "4a79a6c0d515a40917c86448f7671529",
     "grade": true,
     "grade_id": "cell-3a932e8826c11445",
     "locked": false,
     "points": 2,
     "schema_version": 3,
     "solution": true,
     "task": false
    }
   },
   "source": [
    "Yes"
   ]
  },
  {
   "cell_type": "markdown",
   "id": "48f98d60",
   "metadata": {},
   "source": [
    "## Submission instructions \n",
    "\n",
    "**PLEASE READ:** When you are ready to submit your assignment do the following:\n",
    "\n",
    "1. Run all cells in your notebook to make sure there are no errors by doing `Kernel -> Restart Kernel and Clear All Outputs` and then `Run -> Run All Cells`. \n",
    "2. Notebooks with cell execution numbers out of order or not starting from “1” will have marks deducted. Notebooks without the output displayed may not be graded at all (because we need to see the output in order to grade your work).\n",
    "3. Upload the assignment at Canvas. \n",
    "4. Finish the corresponding reflection survey."
   ]
  }
 ],
 "metadata": {
  "jupytext": {
   "formats": "ipynb,md"
  },
  "kernelspec": {
   "display_name": "Python 3.9.15 64-bit",
   "language": "python",
   "name": "python3"
  },
  "language_info": {
   "codemirror_mode": {
    "name": "ipython",
    "version": 3
   },
   "file_extension": ".py",
   "mimetype": "text/x-python",
   "name": "python",
   "nbconvert_exporter": "python",
   "pygments_lexer": "ipython3",
   "version": "3.9.15"
  },
  "toc": {
   "base_numbering": 1,
   "nav_menu": {},
   "number_sections": true,
   "sideBar": true,
   "skip_h1_title": true,
   "title_cell": "Table of Contents",
   "title_sidebar": "Contents",
   "toc_cell": false,
   "toc_position": {
    "height": "calc(100% - 180px)",
    "left": "10px",
    "top": "150px",
    "width": "367.2px"
   },
   "toc_section_display": true,
   "toc_window_display": true
  },
  "vscode": {
   "interpreter": {
    "hash": "f9f85f796d01129d0dd105a088854619f454435301f6ffec2fea96ecbd9be4ac"
   }
  }
 },
 "nbformat": 4,
 "nbformat_minor": 5
}
